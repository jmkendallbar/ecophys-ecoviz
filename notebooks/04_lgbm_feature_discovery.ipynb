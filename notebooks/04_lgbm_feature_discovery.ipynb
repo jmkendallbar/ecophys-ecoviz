{
 "cells": [
  {
   "cell_type": "markdown",
   "id": "73c74ad4",
   "metadata": {},
   "source": [
    "# 04_LGBM_Feature_Discovery\n",
    "This notebook serves a exploratory visualization analysis of the feature discovery step, which generates features from the raw data using multiple different settings for Epoch size and Welch window size (for power spectral density calculation), and then uses the combined features to derive overall feature importance, overall epoch size importance, and overall welch size importance for generating EEG and heart rate features from ECG.\n",
    "\n",
    "### Prerequisites:\n",
    "- `make model_extended` - this will run the following if you have not already run them:\n",
    "    - `make download`\n",
    "    - `make features`\n",
    "    - `make features_extended`"
   ]
  },
  {
   "cell_type": "markdown",
   "id": "a149a807",
   "metadata": {},
   "source": [
    "# Table of Contents\n",
    "\n",
    "\n",
    "## [Feature Importance Plots](#feature_importance_plots)\n",
    "## [Extended Model Evaluation](#extended_model_evaluation)"
   ]
  },
  {
   "cell_type": "code",
   "execution_count": 1,
   "id": "dd4c9b04",
   "metadata": {},
   "outputs": [],
   "source": [
    "import os\n",
    "import sys\n",
    "import pytz\n",
    "import numpy as np\n",
    "import pandas as pd\n",
    "import re\n",
    "import umap\n",
    "import plotly.express as px\n",
    "import warnings\n",
    "from sklearn.model_selection import train_test_split\n",
    "from sklearn.model_selection import GridSearchCV\n",
    "from sklearn.model_selection import KFold\n",
    "from lightgbm import LGBMClassifier\n",
    "\n",
    "\n",
    "sys.path.insert(0, '..') \n",
    "import src.models.build_extended_model_LGBM as emodel"
   ]
  },
  {
   "cell_type": "code",
   "execution_count": 2,
   "id": "9c04c5e2",
   "metadata": {},
   "outputs": [],
   "source": [
    "%load_ext autoreload\n",
    "%autoreload 2"
   ]
  },
  {
   "cell_type": "markdown",
   "id": "d753e813",
   "metadata": {},
   "source": [
    "<a id='feature_importance_plots'></a>\n",
    "## Feature Importance Plots\n",
    "Note: the feature importances are all on the same scale, so for example a heart rate feature that has a feature importance \"value\" of 100 and is the most important heart rate feature, may be relatively less important than an EEG feature with a value of 200 that is less important than other EEG features. However, some of these feature importance charts represent sums of multiple features, so in that case they can not necessarily be compared to features in other plots."
   ]
  },
  {
   "cell_type": "markdown",
   "id": "b0aa8b57",
   "metadata": {},
   "source": [
    "#### Read features"
   ]
  },
  {
   "cell_type": "code",
   "execution_count": 3,
   "id": "b5f32f6f",
   "metadata": {
    "scrolled": true
   },
   "outputs": [
    {
     "name": "stdout",
     "output_type": "stream",
     "text": [
      "Basic Features Time Start and End\t\t2019-10-25 08:21:02-07:00\t2019-10-29 00:39:36-07:00\n",
      "EEG Features Time Start and End\t\t2019-10-25 08:21:02-07:00\t2019-10-29 00:39:36-07:00\n",
      "Heart Rate Features Time Start and End\t2019-10-25 08:21:02-07:00\t2019-10-29 00:39:36-07:00\n"
     ]
    }
   ],
   "source": [
    "features_df = emodel.load_from_csvs(\n",
    "    '../data/processed/features/test12_Wednesday_07_features_with_labels.csv',\n",
    "    '../data/interim/feature_discovery/EEG/Wednesday_feature_discovery_EEG.csv',\n",
    "    '../data/interim/feature_discovery/ECG/Wednesday_feature_discovery_ECG.csv'\n",
    ")"
   ]
  },
  {
   "cell_type": "markdown",
   "id": "50e2db77",
   "metadata": {},
   "source": [
    "### EEG Feature Importances"
   ]
  },
  {
   "cell_type": "markdown",
   "id": "edaa9129",
   "metadata": {},
   "source": [
    "---\n",
    "EEG Epoch Importance\n",
    "\n",
    "---"
   ]
  },
  {
   "cell_type": "markdown",
   "id": "48b040f7",
   "metadata": {},
   "source": [
    "![EEG_Epoch_Importance](../reports/figures/feature_discovery/EEG_Epoch_Importance.png \"EEG_Epoch_Importance\")"
   ]
  },
  {
   "cell_type": "markdown",
   "id": "7238772f",
   "metadata": {},
   "source": [
    "---\n",
    "EEG Welch Importance\n",
    "\n",
    "---"
   ]
  },
  {
   "cell_type": "markdown",
   "id": "a0e9d8f5",
   "metadata": {},
   "source": [
    "![EEG_Welch_Importance](../reports/figures/feature_discovery/EEG_Welch_Importance.png \"EEG_Welch_Importance\")"
   ]
  },
  {
   "cell_type": "markdown",
   "id": "5cebbcfa",
   "metadata": {},
   "source": [
    "---\n",
    "EEG Frequency Range Importance\n",
    "\n",
    "---"
   ]
  },
  {
   "cell_type": "markdown",
   "id": "6bc8dc2a",
   "metadata": {},
   "source": [
    "![EEG_Frequency_Range_Importance](../reports/figures/feature_discovery/EEG_Frequency_Range_Importance.png \"EEG_Frequency_Range_Importance\")"
   ]
  },
  {
   "cell_type": "markdown",
   "id": "0c3ea774",
   "metadata": {},
   "source": [
    "---\n",
    "EEG Other Feature Importance\n",
    "\n",
    "---"
   ]
  },
  {
   "cell_type": "markdown",
   "id": "dd918221",
   "metadata": {},
   "source": [
    "![EEG_Other_Feature_Importance](../reports/figures/feature_discovery/EEG_Other_Feature_Importance.png \"EEG_Other_Feature_Importance\")"
   ]
  },
  {
   "cell_type": "markdown",
   "id": "5257d85f",
   "metadata": {},
   "source": [
    "### Heart Rate (from ECG) Feature Importances"
   ]
  },
  {
   "cell_type": "markdown",
   "id": "d7ef6bcb",
   "metadata": {},
   "source": [
    "---\n",
    "Heart Rate Epoch Importance\n",
    "\n",
    "---"
   ]
  },
  {
   "cell_type": "markdown",
   "id": "a8da6a8a",
   "metadata": {},
   "source": [
    "![Heart_Rate_Epoch_Importance](../reports/figures/feature_discovery/Heart_Rate_Epoch_Importance.png \"Heart_Rate_Epoch_Importance\")"
   ]
  },
  {
   "cell_type": "markdown",
   "id": "ad5ece30",
   "metadata": {},
   "source": [
    "---\n",
    "Heart Rate Welch Feature Importance\n",
    "\n",
    "---"
   ]
  },
  {
   "cell_type": "markdown",
   "id": "9128b0a1",
   "metadata": {},
   "source": [
    "![Heart_Rate_Welch_Importance](../reports/figures/feature_discovery/Heart_Rate_Welch_Importance.png \"Heart_Rate_Welch_Importance\")"
   ]
  },
  {
   "cell_type": "markdown",
   "id": "6cc28e16",
   "metadata": {},
   "source": [
    "---\n",
    "Heart Rate Feature Importance\n",
    "\n",
    "---"
   ]
  },
  {
   "cell_type": "markdown",
   "id": "924da517",
   "metadata": {},
   "source": [
    "![Heart_Rate_Feature_Importance](../reports/figures/feature_discovery/Heart_Rate_Feature_Importance.png \"Heart_Rate_Feature_Importance\")"
   ]
  },
  {
   "cell_type": "markdown",
   "id": "58eb1c11",
   "metadata": {},
   "source": [
    "### Other Feature Importance (movement, pressure)"
   ]
  },
  {
   "cell_type": "markdown",
   "id": "619af5a2",
   "metadata": {},
   "source": [
    "---\n",
    "Other Features' Importance\n",
    "\n",
    "---"
   ]
  },
  {
   "cell_type": "markdown",
   "id": "31d7554c",
   "metadata": {},
   "source": [
    "![Other_Feature_Importance](../reports/figures/feature_discovery/Other_Feature_Importance.png \"Other_Feature_Importance\")"
   ]
  },
  {
   "cell_type": "markdown",
   "id": "f68e65e3",
   "metadata": {},
   "source": [
    "<a id='extended_model_evaluation'></a>\n",
    "## Extended model evaluation"
   ]
  },
  {
   "cell_type": "code",
   "execution_count": 4,
   "id": "7349e73a",
   "metadata": {},
   "outputs": [],
   "source": [
    "extended_model_conf_matr = pd.read_csv('../models/lightgbm_model_extended_confusion_matrix.csv', index_col=0)"
   ]
  },
  {
   "cell_type": "markdown",
   "id": "76bc7eac",
   "metadata": {},
   "source": [
    "### Confusion matrix"
   ]
  },
  {
   "cell_type": "code",
   "execution_count": 5,
   "id": "81ed4cd6",
   "metadata": {},
   "outputs": [
    {
     "data": {
      "text/html": [
       "<div>\n",
       "<style scoped>\n",
       "    .dataframe tbody tr th:only-of-type {\n",
       "        vertical-align: middle;\n",
       "    }\n",
       "\n",
       "    .dataframe tbody tr th {\n",
       "        vertical-align: top;\n",
       "    }\n",
       "\n",
       "    .dataframe thead th {\n",
       "        text-align: right;\n",
       "    }\n",
       "</style>\n",
       "<table border=\"1\" class=\"dataframe\">\n",
       "  <thead>\n",
       "    <tr style=\"text-align: right;\">\n",
       "      <th></th>\n",
       "      <th>Predicted_Active Waking</th>\n",
       "      <th>Predicted_Quiet Waking</th>\n",
       "      <th>Predicted_Drowsiness</th>\n",
       "      <th>Predicted_SWS</th>\n",
       "      <th>Predicted_REM</th>\n",
       "      <th>Predicted_Unscorable</th>\n",
       "    </tr>\n",
       "    <tr>\n",
       "      <th>Label</th>\n",
       "      <th></th>\n",
       "      <th></th>\n",
       "      <th></th>\n",
       "      <th></th>\n",
       "      <th></th>\n",
       "      <th></th>\n",
       "    </tr>\n",
       "  </thead>\n",
       "  <tbody>\n",
       "    <tr>\n",
       "      <th>True_Active Waking</th>\n",
       "      <td>125675</td>\n",
       "      <td>6674</td>\n",
       "      <td>581</td>\n",
       "      <td>1363</td>\n",
       "      <td>138</td>\n",
       "      <td>0</td>\n",
       "    </tr>\n",
       "    <tr>\n",
       "      <th>True_Quiet Waking</th>\n",
       "      <td>11314</td>\n",
       "      <td>24681</td>\n",
       "      <td>3277</td>\n",
       "      <td>1219</td>\n",
       "      <td>1715</td>\n",
       "      <td>0</td>\n",
       "    </tr>\n",
       "    <tr>\n",
       "      <th>True_Drowsiness</th>\n",
       "      <td>2003</td>\n",
       "      <td>5319</td>\n",
       "      <td>14028</td>\n",
       "      <td>964</td>\n",
       "      <td>18</td>\n",
       "      <td>0</td>\n",
       "    </tr>\n",
       "    <tr>\n",
       "      <th>True_SWS</th>\n",
       "      <td>4631</td>\n",
       "      <td>2851</td>\n",
       "      <td>1126</td>\n",
       "      <td>48403</td>\n",
       "      <td>914</td>\n",
       "      <td>0</td>\n",
       "    </tr>\n",
       "    <tr>\n",
       "      <th>True_REM</th>\n",
       "      <td>1098</td>\n",
       "      <td>4358</td>\n",
       "      <td>50</td>\n",
       "      <td>1386</td>\n",
       "      <td>24452</td>\n",
       "      <td>0</td>\n",
       "    </tr>\n",
       "    <tr>\n",
       "      <th>True_Unscorable</th>\n",
       "      <td>6287</td>\n",
       "      <td>138</td>\n",
       "      <td>29</td>\n",
       "      <td>0</td>\n",
       "      <td>0</td>\n",
       "      <td>0</td>\n",
       "    </tr>\n",
       "  </tbody>\n",
       "</table>\n",
       "</div>"
      ],
      "text/plain": [
       "                    Predicted_Active Waking  Predicted_Quiet Waking  \\\n",
       "Label                                                                 \n",
       "True_Active Waking                   125675                    6674   \n",
       "True_Quiet Waking                     11314                   24681   \n",
       "True_Drowsiness                        2003                    5319   \n",
       "True_SWS                               4631                    2851   \n",
       "True_REM                               1098                    4358   \n",
       "True_Unscorable                        6287                     138   \n",
       "\n",
       "                    Predicted_Drowsiness  Predicted_SWS  Predicted_REM  \\\n",
       "Label                                                                    \n",
       "True_Active Waking                   581           1363            138   \n",
       "True_Quiet Waking                   3277           1219           1715   \n",
       "True_Drowsiness                    14028            964             18   \n",
       "True_SWS                            1126          48403            914   \n",
       "True_REM                              50           1386          24452   \n",
       "True_Unscorable                       29              0              0   \n",
       "\n",
       "                    Predicted_Unscorable  \n",
       "Label                                     \n",
       "True_Active Waking                     0  \n",
       "True_Quiet Waking                      0  \n",
       "True_Drowsiness                        0  \n",
       "True_SWS                               0  \n",
       "True_REM                               0  \n",
       "True_Unscorable                        0  "
      ]
     },
     "execution_count": 5,
     "metadata": {},
     "output_type": "execute_result"
    }
   ],
   "source": [
    "combined_conf_matr = extended_model_conf_matr.copy()\n",
    "combined_conf_matr.index.name = 'Label'\n",
    "combined_conf_matr.index = combined_conf_matr.index.str.slice(0, -7)\n",
    "combined_conf_matr = combined_conf_matr.groupby('Label', sort=False).sum()\n",
    "combined_conf_matr"
   ]
  },
  {
   "cell_type": "markdown",
   "id": "5b9d01d1",
   "metadata": {},
   "source": [
    "### Overall accuracy, class accuracy, weighted accuracy\n",
    "Weighted accuracy = Each class's accuracy is averaged to give a final accuracy value that gives each class with the same importance"
   ]
  },
  {
   "cell_type": "code",
   "execution_count": 6,
   "id": "4f0495b4",
   "metadata": {},
   "outputs": [
    {
     "name": "stdout",
     "output_type": "stream",
     "text": [
      "Overall accuracy: 80.5%\n"
     ]
    }
   ],
   "source": [
    "overall_accuracy = np.sum(np.diag(combined_conf_matr)) / np.sum(combined_conf_matr.sum(axis=1))\n",
    "print('Overall accuracy: ', np.round(100*overall_accuracy, 2), '%', sep='')"
   ]
  },
  {
   "cell_type": "code",
   "execution_count": 7,
   "id": "ac8ff8c8",
   "metadata": {},
   "outputs": [
    {
     "name": "stdout",
     "output_type": "stream",
     "text": [
      "Per-class accuracy:\n",
      "\n",
      "Sleep State\n",
      "Active Waking    0.934866\n",
      "Quiet Waking     0.584775\n",
      "Drowsiness       0.628157\n",
      "SWS              0.835615\n",
      "REM              0.780117\n",
      "Unscorable       0.000000\n",
      "Name: Class_Accuracies, dtype: float64\n"
     ]
    }
   ],
   "source": [
    "class_accuracies = np.diag(combined_conf_matr) / combined_conf_matr.sum(axis=1)\n",
    "class_accuracies.index = class_accuracies.index.str.replace('True_', '')\n",
    "class_accuracies.index.name = 'Sleep State'\n",
    "class_accuracies.name = 'Class_Accuracies'\n",
    "print('Per-class accuracy:\\n')\n",
    "print(class_accuracies)"
   ]
  },
  {
   "cell_type": "code",
   "execution_count": 8,
   "id": "59f2f1a8",
   "metadata": {},
   "outputs": [
    {
     "name": "stdout",
     "output_type": "stream",
     "text": [
      "Weighted accuracy: 75.27%\n"
     ]
    }
   ],
   "source": [
    "print('Weighted accuracy: ', np.round(100*np.mean(class_accuracies.drop('Unscorable')), 2), '%', sep='')"
   ]
  }
 ],
 "metadata": {
  "kernelspec": {
   "display_name": "Python 3 (ipykernel)",
   "language": "python",
   "name": "python3"
  },
  "language_info": {
   "codemirror_mode": {
    "name": "ipython",
    "version": 3
   },
   "file_extension": ".py",
   "mimetype": "text/x-python",
   "name": "python",
   "nbconvert_exporter": "python",
   "pygments_lexer": "ipython3",
   "version": "3.10.9"
  }
 },
 "nbformat": 4,
 "nbformat_minor": 5
}
