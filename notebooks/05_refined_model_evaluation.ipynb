{
 "cells": [
  {
   "cell_type": "markdown",
   "id": "6e4b1136",
   "metadata": {},
   "source": [
    "# 05_Refined_Model_Evaluation\n",
    "This notebook serves to show the accuracy of the refined model, and how it is better than just one individual setting for the generated features.\n",
    "\n",
    "### Prerequisites:\n",
    "- `make refined_model` - if you haven't already run the prerequisites, this will run\n",
    "    - `make download`\n",
    "    - `make features`\n",
    "    - `make extended_features`\n",
    "    \n",
    "### Purpose:\n",
    "The purpose of the refined model is to provide some of the functionality of the extended model (including features calculated with multiple hyperparameter settings and epoch sizes), while not including every setting that is used for the extended model, because calculating that for multiple different edf's is time consuming and memory-intensive. The idea behind the refined model is to look at each sleep state separately—Active Waking, Quiet Waking, Drowsiness, SWS, and REM—and include the single best epoch & welch setting for EEG and ECG for each of them. In this way, you are getting some of the benefit of including the same features calculated at multiple different settings (for example maybe a power spectral density window a.k.a. welch size of 16 seconds is better to predict active waking, but a welch size of 1 second is better for predicting drowsiness), while saving time in only calculating the features 5 times instead of the ~40 different settings used for the extended model."
   ]
  },
  {
   "cell_type": "code",
   "execution_count": 7,
   "id": "74a954cd",
   "metadata": {},
   "outputs": [],
   "source": [
    "import pandas as pd\n",
    "import pytz\n",
    "import re"
   ]
  },
  {
   "cell_type": "code",
   "execution_count": 3,
   "id": "73f735f6",
   "metadata": {},
   "outputs": [],
   "source": [
    "import sys\n",
    "sys.path.insert(0, '..')\n",
    "import src.models.build_model_LGBM as bmodel\n",
    "import src.models.build_extended_model_LGBM as emodel"
   ]
  },
  {
   "cell_type": "code",
   "execution_count": 4,
   "id": "bced871f",
   "metadata": {},
   "outputs": [],
   "source": [
    "%load_ext autoreload\n",
    "%autoreload 2"
   ]
  },
  {
   "cell_type": "markdown",
   "id": "323d137b",
   "metadata": {},
   "source": [
    "## Load features dataframes"
   ]
  },
  {
   "cell_type": "code",
   "execution_count": 22,
   "id": "33ba46b8",
   "metadata": {},
   "outputs": [],
   "source": [
    "# PST timezone\n",
    "pst_timezone = pytz.timezone('America/Los_Angeles')\n",
    "\n",
    "# Load features\n",
    "basic_features_df = pd.read_csv('../data/processed/features/test12_Wednesday_07_features_with_labels.csv',\n",
    "                                index_col=0)\n",
    "refined_features_df = pd.read_csv('../data/processed/features/test12_Wednesday_08_refined_features_with_labels_v3.csv',\n",
    "                                  index_col=0)\n",
    "\n",
    "\n",
    "# Set index as DatetimeIndex\n",
    "basic_features_df.index = pd.DatetimeIndex(basic_features_df.index, tz=pst_timezone)\n",
    "refined_features_df.index = pd.DatetimeIndex(refined_features_df.index, tz=pst_timezone)"
   ]
  },
  {
   "cell_type": "code",
   "execution_count": 23,
   "id": "d992cbd0",
   "metadata": {},
   "outputs": [
    {
     "data": {
      "text/plain": [
       "Index(['Heart Rate', 'Pressure Mean', 'Pressure Std.Dev', 'ODBA Mean',\n",
       "       'ODBA Std.Dev', 'GyrZ Mean', 'GyrZ Std.Dev', 'Simple.Sleep.Code',\n",
       "       'EPOCH_32_WELCH_1_EEG_std', 'EPOCH_32_WELCH_1_EEG_iqr',\n",
       "       ...\n",
       "       'EPOCH_512_WELCH_512_HR_vlf', 'EPOCH_512_WELCH_512_HR_lf',\n",
       "       'EPOCH_512_WELCH_512_HR_hf', 'EPOCH_512_WELCH_512_HR_lf/hf',\n",
       "       'EPOCH_512_WELCH_512_HR_p_total', 'EPOCH_512_WELCH_512_HR_vlf_perc',\n",
       "       'EPOCH_512_WELCH_512_HR_lf_perc', 'EPOCH_512_WELCH_512_HR_hf_perc',\n",
       "       'EPOCH_512_WELCH_512_HR_lf_nu', 'EPOCH_512_WELCH_512_HR_hf_nu'],\n",
       "      dtype='object', length=611)"
      ]
     },
     "execution_count": 23,
     "metadata": {},
     "output_type": "execute_result"
    }
   ],
   "source": [
    "refined_features_df.columns"
   ]
  },
  {
   "cell_type": "code",
   "execution_count": 25,
   "id": "6de89db3",
   "metadata": {},
   "outputs": [
    {
     "name": "stdout",
     "output_type": "stream",
     "text": [
      "['EPOCH_512_WELCH_128_HR', 'EPOCH_512_WELCH_64_HR', 'EPOCH_128_WELCH_4_EEG', 'EPOCH_32_WELCH_1_EEG', 'EPOCH_256_WELCH_64_HR', 'EPOCH_512_WELCH_512_HR', 'EPOCH_128_WELCH_1_EEG', 'EPOCH_64_WELCH_4_EEG', 'EPOCH_128_WELCH_16_EEG']\n"
     ]
    }
   ],
   "source": [
    "settings = []\n",
    "for col in refined_features_df.columns:\n",
    "    if 'EPOCH' in col and 'WELCH' in col:\n",
    "        settings.append(re.findall(r'EPOCH_[0-9]+_WELCH_[0-9]+_(?:EEG|HR)', str(col))[0])\n",
    "best_settings = list(set(settings))\n",
    "print(best_settings)"
   ]
  },
  {
   "cell_type": "markdown",
   "id": "108109e1",
   "metadata": {},
   "source": [
    "## Basic model"
   ]
  },
  {
   "cell_type": "code",
   "execution_count": 26,
   "id": "52215ad5",
   "metadata": {},
   "outputs": [
    {
     "name": "stdout",
     "output_type": "stream",
     "text": [
      "Fold 1/5\n",
      "[LightGBM] [Warning] Found whitespace in feature_names, replace with underlines\n",
      "Fold 2/5\n",
      "[LightGBM] [Warning] Found whitespace in feature_names, replace with underlines\n",
      "Fold 3/5\n",
      "[LightGBM] [Warning] Found whitespace in feature_names, replace with underlines\n",
      "Fold 4/5\n",
      "[LightGBM] [Warning] Found whitespace in feature_names, replace with underlines\n",
      "Fold 5/5\n",
      "[LightGBM] [Warning] Found whitespace in feature_names, replace with underlines\n",
      "Overall accuracy: 76.38%\n",
      "\n",
      "Mean class accuracies across folds:\n",
      "Active Waking    90.36\n",
      "Drowsiness       40.46\n",
      "Quiet Waking     51.28\n",
      "REM              57.99\n",
      "SWS              81.99\n",
      "Unscorable        0.00\n",
      "dtype: float64\n",
      "\n",
      "Overall confusion matrix:\n",
      "                      Predicted_Active_Waking    Predicted_Quiet_Waking    Predicted_Drowsiness    Predicted_SWS    Predicted_REM    Predicted_Unscorable\n",
      "------------------  -------------------------  ------------------------  ----------------------  ---------------  ---------------  ----------------------\n",
      "True_Active_Waking                     122389                      7135                    1415             3375              117                       0\n",
      "True_Quiet_Waking                       12455                     21347                    3184             2454             2766                       0\n",
      "True_Drowsiness                          3020                      5076                   12067             1805              364                       0\n",
      "True_SWS                                 6378                      3716                    1063            46377              391                       0\n",
      "True_REM                                 1416                      5476                     267             1287            22898                       0\n",
      "True_Unscorable                          6156                       183                      26               82                7                       0\n"
     ]
    }
   ],
   "source": [
    "accs, class_accs, conf_matrs, conf_matr = bmodel.evaluate_model(basic_features_df, 'Simple.Sleep.Code',\n",
    "                                                                verbosity=0)"
   ]
  },
  {
   "cell_type": "code",
   "execution_count": 27,
   "id": "8ad56b55",
   "metadata": {},
   "outputs": [
    {
     "data": {
      "text/html": [
       "<div>\n",
       "<style scoped>\n",
       "    .dataframe tbody tr th:only-of-type {\n",
       "        vertical-align: middle;\n",
       "    }\n",
       "\n",
       "    .dataframe tbody tr th {\n",
       "        vertical-align: top;\n",
       "    }\n",
       "\n",
       "    .dataframe thead th {\n",
       "        text-align: right;\n",
       "    }\n",
       "</style>\n",
       "<table border=\"1\" class=\"dataframe\">\n",
       "  <thead>\n",
       "    <tr style=\"text-align: right;\">\n",
       "      <th></th>\n",
       "      <th>Predicted_Active_Waking</th>\n",
       "      <th>Predicted_Quiet_Waking</th>\n",
       "      <th>Predicted_Drowsiness</th>\n",
       "      <th>Predicted_SWS</th>\n",
       "      <th>Predicted_REM</th>\n",
       "      <th>Predicted_Unscorable</th>\n",
       "    </tr>\n",
       "  </thead>\n",
       "  <tbody>\n",
       "    <tr>\n",
       "      <th>True_Active_Waking</th>\n",
       "      <td>122389</td>\n",
       "      <td>7135</td>\n",
       "      <td>1415</td>\n",
       "      <td>3375</td>\n",
       "      <td>117</td>\n",
       "      <td>0</td>\n",
       "    </tr>\n",
       "    <tr>\n",
       "      <th>True_Quiet_Waking</th>\n",
       "      <td>12455</td>\n",
       "      <td>21347</td>\n",
       "      <td>3184</td>\n",
       "      <td>2454</td>\n",
       "      <td>2766</td>\n",
       "      <td>0</td>\n",
       "    </tr>\n",
       "    <tr>\n",
       "      <th>True_Drowsiness</th>\n",
       "      <td>3020</td>\n",
       "      <td>5076</td>\n",
       "      <td>12067</td>\n",
       "      <td>1805</td>\n",
       "      <td>364</td>\n",
       "      <td>0</td>\n",
       "    </tr>\n",
       "    <tr>\n",
       "      <th>True_SWS</th>\n",
       "      <td>6378</td>\n",
       "      <td>3716</td>\n",
       "      <td>1063</td>\n",
       "      <td>46377</td>\n",
       "      <td>391</td>\n",
       "      <td>0</td>\n",
       "    </tr>\n",
       "    <tr>\n",
       "      <th>True_REM</th>\n",
       "      <td>1416</td>\n",
       "      <td>5476</td>\n",
       "      <td>267</td>\n",
       "      <td>1287</td>\n",
       "      <td>22898</td>\n",
       "      <td>0</td>\n",
       "    </tr>\n",
       "    <tr>\n",
       "      <th>True_Unscorable</th>\n",
       "      <td>6156</td>\n",
       "      <td>183</td>\n",
       "      <td>26</td>\n",
       "      <td>82</td>\n",
       "      <td>7</td>\n",
       "      <td>0</td>\n",
       "    </tr>\n",
       "  </tbody>\n",
       "</table>\n",
       "</div>"
      ],
      "text/plain": [
       "                    Predicted_Active_Waking  Predicted_Quiet_Waking  \\\n",
       "True_Active_Waking                   122389                    7135   \n",
       "True_Quiet_Waking                     12455                   21347   \n",
       "True_Drowsiness                        3020                    5076   \n",
       "True_SWS                               6378                    3716   \n",
       "True_REM                               1416                    5476   \n",
       "True_Unscorable                        6156                     183   \n",
       "\n",
       "                    Predicted_Drowsiness  Predicted_SWS  Predicted_REM  \\\n",
       "True_Active_Waking                  1415           3375            117   \n",
       "True_Quiet_Waking                   3184           2454           2766   \n",
       "True_Drowsiness                    12067           1805            364   \n",
       "True_SWS                            1063          46377            391   \n",
       "True_REM                             267           1287          22898   \n",
       "True_Unscorable                       26             82              7   \n",
       "\n",
       "                    Predicted_Unscorable  \n",
       "True_Active_Waking                     0  \n",
       "True_Quiet_Waking                      0  \n",
       "True_Drowsiness                        0  \n",
       "True_SWS                               0  \n",
       "True_REM                               0  \n",
       "True_Unscorable                        0  "
      ]
     },
     "execution_count": 27,
     "metadata": {},
     "output_type": "execute_result"
    }
   ],
   "source": [
    "conf_matr"
   ]
  },
  {
   "cell_type": "markdown",
   "id": "429c6c01",
   "metadata": {},
   "source": [
    "## Refined model"
   ]
  },
  {
   "cell_type": "code",
   "execution_count": 28,
   "id": "3230177f",
   "metadata": {},
   "outputs": [
    {
     "name": "stdout",
     "output_type": "stream",
     "text": [
      "Fold 1/5\n",
      "[LightGBM] [Warning] Found whitespace in feature_names, replace with underlines\n",
      "Fold 2/5\n",
      "[LightGBM] [Warning] Found whitespace in feature_names, replace with underlines\n",
      "Fold 3/5\n",
      "[LightGBM] [Warning] Found whitespace in feature_names, replace with underlines\n",
      "Fold 4/5\n",
      "[LightGBM] [Warning] Found whitespace in feature_names, replace with underlines\n",
      "Fold 5/5\n",
      "[LightGBM] [Warning] Found whitespace in feature_names, replace with underlines\n",
      "Overall accuracy: 80.09%\n",
      "\n",
      "Mean class accuracies across folds:\n",
      "Active Waking    92.94\n",
      "Drowsiness       47.76\n",
      "Quiet Waking     56.58\n",
      "REM              62.67\n",
      "SWS              84.07\n",
      "Unscorable        0.00\n",
      "dtype: float64\n",
      "\n",
      "Overall confusion matrix:\n",
      "                      Predicted_Active_Waking    Predicted_Quiet_Waking    Predicted_Drowsiness    Predicted_SWS    Predicted_REM    Predicted_Unscorable\n",
      "------------------  -------------------------  ------------------------  ----------------------  ---------------  ---------------  ----------------------\n",
      "True_Active_Waking                     126043                      6173                     693             1302              220                       0\n",
      "True_Quiet_Waking                       12037                     23350                    3424             1273             2122                       0\n",
      "True_Drowsiness                          2146                      4954                   13846             1317               69                       0\n",
      "True_SWS                                 4595                      3216                    1188            48042              884                       0\n",
      "True_REM                                 1162                      4001                      37             1415            24729                       0\n",
      "True_Unscorable                          6315                       122                      17                0                0                       0\n"
     ]
    }
   ],
   "source": [
    "accs_ref, class_accs_ref, conf_matrs_ref, conf_matr_ref = bmodel.evaluate_model(refined_features_df,\n",
    "                                                                                'Simple.Sleep.Code',\n",
    "                                                                                verbosity=0)"
   ]
  },
  {
   "cell_type": "code",
   "execution_count": 29,
   "id": "a5fc4212",
   "metadata": {},
   "outputs": [
    {
     "data": {
      "text/html": [
       "<div>\n",
       "<style scoped>\n",
       "    .dataframe tbody tr th:only-of-type {\n",
       "        vertical-align: middle;\n",
       "    }\n",
       "\n",
       "    .dataframe tbody tr th {\n",
       "        vertical-align: top;\n",
       "    }\n",
       "\n",
       "    .dataframe thead th {\n",
       "        text-align: right;\n",
       "    }\n",
       "</style>\n",
       "<table border=\"1\" class=\"dataframe\">\n",
       "  <thead>\n",
       "    <tr style=\"text-align: right;\">\n",
       "      <th></th>\n",
       "      <th>Predicted_Active_Waking</th>\n",
       "      <th>Predicted_Quiet_Waking</th>\n",
       "      <th>Predicted_Drowsiness</th>\n",
       "      <th>Predicted_SWS</th>\n",
       "      <th>Predicted_REM</th>\n",
       "      <th>Predicted_Unscorable</th>\n",
       "    </tr>\n",
       "  </thead>\n",
       "  <tbody>\n",
       "    <tr>\n",
       "      <th>True_Active_Waking</th>\n",
       "      <td>126043</td>\n",
       "      <td>6173</td>\n",
       "      <td>693</td>\n",
       "      <td>1302</td>\n",
       "      <td>220</td>\n",
       "      <td>0</td>\n",
       "    </tr>\n",
       "    <tr>\n",
       "      <th>True_Quiet_Waking</th>\n",
       "      <td>12037</td>\n",
       "      <td>23350</td>\n",
       "      <td>3424</td>\n",
       "      <td>1273</td>\n",
       "      <td>2122</td>\n",
       "      <td>0</td>\n",
       "    </tr>\n",
       "    <tr>\n",
       "      <th>True_Drowsiness</th>\n",
       "      <td>2146</td>\n",
       "      <td>4954</td>\n",
       "      <td>13846</td>\n",
       "      <td>1317</td>\n",
       "      <td>69</td>\n",
       "      <td>0</td>\n",
       "    </tr>\n",
       "    <tr>\n",
       "      <th>True_SWS</th>\n",
       "      <td>4595</td>\n",
       "      <td>3216</td>\n",
       "      <td>1188</td>\n",
       "      <td>48042</td>\n",
       "      <td>884</td>\n",
       "      <td>0</td>\n",
       "    </tr>\n",
       "    <tr>\n",
       "      <th>True_REM</th>\n",
       "      <td>1162</td>\n",
       "      <td>4001</td>\n",
       "      <td>37</td>\n",
       "      <td>1415</td>\n",
       "      <td>24729</td>\n",
       "      <td>0</td>\n",
       "    </tr>\n",
       "    <tr>\n",
       "      <th>True_Unscorable</th>\n",
       "      <td>6315</td>\n",
       "      <td>122</td>\n",
       "      <td>17</td>\n",
       "      <td>0</td>\n",
       "      <td>0</td>\n",
       "      <td>0</td>\n",
       "    </tr>\n",
       "  </tbody>\n",
       "</table>\n",
       "</div>"
      ],
      "text/plain": [
       "                    Predicted_Active_Waking  Predicted_Quiet_Waking  \\\n",
       "True_Active_Waking                   126043                    6173   \n",
       "True_Quiet_Waking                     12037                   23350   \n",
       "True_Drowsiness                        2146                    4954   \n",
       "True_SWS                               4595                    3216   \n",
       "True_REM                               1162                    4001   \n",
       "True_Unscorable                        6315                     122   \n",
       "\n",
       "                    Predicted_Drowsiness  Predicted_SWS  Predicted_REM  \\\n",
       "True_Active_Waking                   693           1302            220   \n",
       "True_Quiet_Waking                   3424           1273           2122   \n",
       "True_Drowsiness                    13846           1317             69   \n",
       "True_SWS                            1188          48042            884   \n",
       "True_REM                              37           1415          24729   \n",
       "True_Unscorable                       17              0              0   \n",
       "\n",
       "                    Predicted_Unscorable  \n",
       "True_Active_Waking                     0  \n",
       "True_Quiet_Waking                      0  \n",
       "True_Drowsiness                        0  \n",
       "True_SWS                               0  \n",
       "True_REM                               0  \n",
       "True_Unscorable                        0  "
      ]
     },
     "execution_count": 29,
     "metadata": {},
     "output_type": "execute_result"
    }
   ],
   "source": [
    "conf_matr_ref"
   ]
  }
 ],
 "metadata": {
  "kernelspec": {
   "display_name": "Python 3 (ipykernel)",
   "language": "python",
   "name": "python3"
  },
  "language_info": {
   "codemirror_mode": {
    "name": "ipython",
    "version": 3
   },
   "file_extension": ".py",
   "mimetype": "text/x-python",
   "name": "python",
   "nbconvert_exporter": "python",
   "pygments_lexer": "ipython3",
   "version": "3.10.9"
  }
 },
 "nbformat": 4,
 "nbformat_minor": 5
}
