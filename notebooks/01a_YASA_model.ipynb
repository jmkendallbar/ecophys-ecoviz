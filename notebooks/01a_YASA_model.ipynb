{
 "cells": [
  {
   "cell_type": "markdown",
   "id": "94268cbd",
   "metadata": {},
   "source": [
    "# YASA feature extraction\n",
    "This notebook attempts to run the YASA out-of-the-box model on our seals and examines the accuracy to see if this capstone project is even needed at all"
   ]
  },
  {
   "cell_type": "code",
   "execution_count": 1,
   "id": "066e71ef",
   "metadata": {},
   "outputs": [],
   "source": [
    "import yasa\n",
    "import mne\n",
    "import pandas as pd\n",
    "import numpy as np\n",
    "import pytz\n",
    "import datetime\n",
    "from sklearn.metrics import confusion_matrix"
   ]
  },
  {
   "cell_type": "code",
   "execution_count": 2,
   "id": "b14218e3",
   "metadata": {},
   "outputs": [
    {
     "name": "stdout",
     "output_type": "stream",
     "text": [
      "Extracting EDF parameters from /Users/michael/Desktop/capstone-seal-sleep/jessie-workshop/ecophys-ecoviz/data/raw/01_edf_data/test12_Wednesday_05_ALL_PROCESSED.edf...\n",
      "EDF file detected\n",
      "Setting channel info structure...\n",
      "Creating raw.info structure...\n"
     ]
    }
   ],
   "source": [
    "path_to_edf = '../data/raw/01_edf_data/test12_Wednesday_05_ALL_PROCESSED.edf'\n",
    "raw = mne.io.read_raw_edf(path_to_edf, include=['EEG_ICA5'], preload=False)"
   ]
  },
  {
   "cell_type": "code",
   "execution_count": 3,
   "id": "f04a75ee",
   "metadata": {},
   "outputs": [],
   "source": [
    "info = raw.info\n",
    "sfreq = info['sfreq']\n",
    "edf_start_time = info['meas_date']\n",
    "# Define the PST timezone\n",
    "pst_timezone = pytz.timezone('America/Los_Angeles')\n",
    "# Convert to datetime object in PST\n",
    "if isinstance(edf_start_time, datetime.datetime):\n",
    "    # If it's already a datetime object, just replace the timezone\n",
    "    recording_start_datetime = edf_start_time.replace(tzinfo=None).astimezone(pst_timezone)\n",
    "    # for some reason using .replace(tzinfo=...) does weird shit - offsets based of LMT instead of UTC and gets confusing\n",
    "    # recording_start_datetime = edf_start_time.replace(tzinfo=pst_timezone)\n",
    "elif isinstance(edf_start_time, (int, float)):\n",
    "    # Convert timestamp to datetime in PST\n",
    "    recording_start_datetime = pst_timezone.localize(datetime.datetime.fromtimestamp(edf_start_time))"
   ]
  },
  {
   "cell_type": "markdown",
   "id": "0634c4d7",
   "metadata": {},
   "source": [
    "# Load Labels"
   ]
  },
  {
   "cell_type": "code",
   "execution_count": 4,
   "id": "07b34326",
   "metadata": {},
   "outputs": [],
   "source": [
    "labels_df = pd.read_csv('../data/raw/02_hypnogram_data/test12_Wednesday_06_Hypnogram_JKB_1Hz.csv')\n",
    "labels_df['R.Time'] = pd.to_datetime(labels_df['R.Time']).dt.tz_localize('America/Los_Angeles')\n"
   ]
  },
  {
   "cell_type": "code",
   "execution_count": 5,
   "id": "b9461ebe",
   "metadata": {},
   "outputs": [],
   "source": [
    "start_seconds = int((labels_df['R.Time'].iloc[0] - recording_start_datetime).total_seconds())\n",
    "end_seconds = start_seconds + 24 * 60 * 60 # 1 day"
   ]
  },
  {
   "cell_type": "code",
   "execution_count": 6,
   "id": "ea6c0c9b",
   "metadata": {},
   "outputs": [
    {
     "name": "stdout",
     "output_type": "stream",
     "text": [
      "86400.002\n",
      "294692\n"
     ]
    }
   ],
   "source": [
    "raw.crop(start_seconds, end_seconds)\n",
    "print(len(raw.get_data('EEG_ICA5')[0]) / 500)\n",
    "print(len(labels_df))"
   ]
  },
  {
   "cell_type": "markdown",
   "id": "9852680d",
   "metadata": {},
   "source": [
    "# Sleep Staging"
   ]
  },
  {
   "cell_type": "code",
   "execution_count": 7,
   "id": "0d8610fd",
   "metadata": {
    "scrolled": true
   },
   "outputs": [
    {
     "name": "stdout",
     "output_type": "stream",
     "text": [
      "NOTE: pick_channels() is a legacy function. New code should use inst.pick(...).\n"
     ]
    }
   ],
   "source": [
    "sleep_stage = yasa.SleepStaging(raw, eeg_name='EEG_ICA5')"
   ]
  },
  {
   "cell_type": "code",
   "execution_count": 8,
   "id": "67aa12b1",
   "metadata": {},
   "outputs": [
    {
     "name": "stderr",
     "output_type": "stream",
     "text": [
      "/Users/michael/anaconda3/lib/python3.10/site-packages/sklearn/base.py:299: UserWarning: Trying to unpickle estimator LabelEncoder from version 0.24.2 when using version 1.2.1. This might lead to breaking code or invalid results. Use at your own risk. For more info please refer to:\n",
      "https://scikit-learn.org/stable/model_persistence.html#security-maintainability-limitations\n",
      "  warnings.warn(\n"
     ]
    }
   ],
   "source": [
    "sleep_stage.fit()\n",
    "hypno = sleep_stage.predict()"
   ]
  },
  {
   "cell_type": "markdown",
   "id": "dbaf9c98",
   "metadata": {},
   "source": [
    "### Map our labels to theirs"
   ]
  },
  {
   "cell_type": "code",
   "execution_count": 10,
   "id": "da40decf",
   "metadata": {},
   "outputs": [],
   "source": [
    "labelmap = {\n",
    "    'W':'Active Waking',\n",
    "    'N1': 'Quiet Waking',\n",
    "    'N2': 'SWS',\n",
    "    'N3': 'SWS',\n",
    "    'R': 'REM'\n",
    "}"
   ]
  },
  {
   "cell_type": "code",
   "execution_count": 11,
   "id": "530f26e2",
   "metadata": {},
   "outputs": [],
   "source": [
    "labels_df_subset = labels_df.iloc[:(end_seconds - start_seconds)].copy()"
   ]
  },
  {
   "cell_type": "code",
   "execution_count": 12,
   "id": "dcd084df",
   "metadata": {},
   "outputs": [],
   "source": [
    "labels_df_subset['Yasa_predicted_label'] = np.array([[x]*30 for x in hypno]).flatten()"
   ]
  },
  {
   "cell_type": "code",
   "execution_count": 13,
   "id": "8bc1df11",
   "metadata": {},
   "outputs": [],
   "source": [
    "labels_df_subset['Yasa_mapped_label'] = labels_df_subset['Yasa_predicted_label'].apply(lambda x: labelmap[x])"
   ]
  },
  {
   "cell_type": "code",
   "execution_count": 14,
   "id": "71d5c6c2",
   "metadata": {},
   "outputs": [
    {
     "data": {
      "text/html": [
       "<div>\n",
       "<style scoped>\n",
       "    .dataframe tbody tr th:only-of-type {\n",
       "        vertical-align: middle;\n",
       "    }\n",
       "\n",
       "    .dataframe tbody tr th {\n",
       "        vertical-align: top;\n",
       "    }\n",
       "\n",
       "    .dataframe thead th {\n",
       "        text-align: right;\n",
       "    }\n",
       "</style>\n",
       "<table border=\"1\" class=\"dataframe\">\n",
       "  <thead>\n",
       "    <tr style=\"text-align: right;\">\n",
       "      <th></th>\n",
       "      <th>Predicted_Active Waking</th>\n",
       "      <th>Predicted_Quiet Waking</th>\n",
       "      <th>Predicted_SWS</th>\n",
       "      <th>Predicted_REM</th>\n",
       "    </tr>\n",
       "  </thead>\n",
       "  <tbody>\n",
       "    <tr>\n",
       "      <th>True_Active Waking</th>\n",
       "      <td>24990</td>\n",
       "      <td>1168</td>\n",
       "      <td>321</td>\n",
       "      <td>372</td>\n",
       "    </tr>\n",
       "    <tr>\n",
       "      <th>True_Quiet Waking</th>\n",
       "      <td>12356</td>\n",
       "      <td>1782</td>\n",
       "      <td>169</td>\n",
       "      <td>465</td>\n",
       "    </tr>\n",
       "    <tr>\n",
       "      <th>True_SWS</th>\n",
       "      <td>8119</td>\n",
       "      <td>1491</td>\n",
       "      <td>12395</td>\n",
       "      <td>476</td>\n",
       "    </tr>\n",
       "    <tr>\n",
       "      <th>True_REM</th>\n",
       "      <td>12323</td>\n",
       "      <td>110</td>\n",
       "      <td>51</td>\n",
       "      <td>300</td>\n",
       "    </tr>\n",
       "  </tbody>\n",
       "</table>\n",
       "</div>"
      ],
      "text/plain": [
       "                    Predicted_Active Waking  Predicted_Quiet Waking  \\\n",
       "True_Active Waking                    24990                    1168   \n",
       "True_Quiet Waking                     12356                    1782   \n",
       "True_SWS                               8119                    1491   \n",
       "True_REM                              12323                     110   \n",
       "\n",
       "                    Predicted_SWS  Predicted_REM  \n",
       "True_Active Waking            321            372  \n",
       "True_Quiet Waking             169            465  \n",
       "True_SWS                    12395            476  \n",
       "True_REM                       51            300  "
      ]
     },
     "execution_count": 14,
     "metadata": {},
     "output_type": "execute_result"
    }
   ],
   "source": [
    "labels = ['Active Waking', 'Quiet Waking', 'SWS', 'REM']\n",
    "conf_matr = confusion_matrix(labels_df_subset['Simple.Sleep.Code'], labels_df_subset['Yasa_mapped_label'],\n",
    "                             labels=labels)\n",
    "conf_matr = pd.DataFrame(conf_matr,\n",
    "                         index=['True_' + label for label in labels],\n",
    "                         columns=['Predicted_'+ label for label in labels])\n",
    "conf_matr"
   ]
  },
  {
   "cell_type": "code",
   "execution_count": 15,
   "id": "3403b831",
   "metadata": {},
   "outputs": [
    {
     "name": "stdout",
     "output_type": "stream",
     "text": [
      "YASA accuracy: 0.4567939814814815\n"
     ]
    }
   ],
   "source": [
    "print('YASA accuracy:',\n",
    "      np.mean(labels_df_subset['Simple.Sleep.Code'] == labels_df_subset['Yasa_mapped_label']))"
   ]
  }
 ],
 "metadata": {
  "kernelspec": {
   "display_name": "Python 3 (ipykernel)",
   "language": "python",
   "name": "python3"
  },
  "language_info": {
   "codemirror_mode": {
    "name": "ipython",
    "version": 3
   },
   "file_extension": ".py",
   "mimetype": "text/x-python",
   "name": "python",
   "nbconvert_exporter": "python",
   "pygments_lexer": "ipython3",
   "version": "3.10.9"
  }
 },
 "nbformat": 4,
 "nbformat_minor": 5
}
