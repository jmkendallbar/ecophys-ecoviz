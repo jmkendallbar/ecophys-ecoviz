{
 "cells": [
  {
   "cell_type": "markdown",
   "id": "94268cbd",
   "metadata": {},
   "source": [
    "# YASA feature extraction\n",
    "This notebook attempts to run the YASA out-of-the-box model on our seals and examines the accuracy to see if this capstone project is even needed at all"
   ]
  },
  {
   "cell_type": "code",
   "execution_count": null,
   "id": "066e71ef",
   "metadata": {},
   "outputs": [],
   "source": [
    "import yasa\n",
    "import mne\n",
    "import pandas as pd\n",
    "import numpy as np\n",
    "import pytz\n",
    "import datetime"
   ]
  },
  {
   "cell_type": "code",
   "execution_count": null,
   "id": "b14218e3",
   "metadata": {},
   "outputs": [],
   "source": [
    "path_to_edf = '../data/01_processed-data/test12_Wednesday_05_ALL_PROCESSED.edf'\n",
    "raw = mne.io.read_raw_edf(path_to_edf, include=['EEG_ICA5'], preload=False)"
   ]
  },
  {
   "cell_type": "code",
   "execution_count": null,
   "id": "f04a75ee",
   "metadata": {},
   "outputs": [],
   "source": [
    "info = raw.info\n",
    "sfreq = info['sfreq']\n",
    "edf_start_time = info['meas_date']\n",
    "# Define the PST timezone\n",
    "pst_timezone = pytz.timezone('America/Los_Angeles')\n",
    "# Convert to datetime object in PST\n",
    "if isinstance(edf_start_time, datetime.datetime):\n",
    "    # If it's already a datetime object, just replace the timezone\n",
    "    recording_start_datetime = edf_start_time.replace(tzinfo=None).astimezone(pst_timezone)\n",
    "    # for some reason using .replace(tzinfo=...) does weird shit - offsets based of LMT instead of UTC and gets confusing\n",
    "    # recording_start_datetime = edf_start_time.replace(tzinfo=pst_timezone)\n",
    "elif isinstance(edf_start_time, (int, float)):\n",
    "    # Convert timestamp to datetime in PST\n",
    "    recording_start_datetime = pst_timezone.localize(datetime.datetime.fromtimestamp(edf_start_time))"
   ]
  },
  {
   "cell_type": "markdown",
   "id": "0634c4d7",
   "metadata": {},
   "source": [
    "# Load Labels"
   ]
  },
  {
   "cell_type": "code",
   "execution_count": null,
   "id": "07b34326",
   "metadata": {},
   "outputs": [],
   "source": [
    "labels_df = pd.read_csv('../data/02_annotated-data/test12_Wednesday_06_Hypnogram_JKB_1Hz.csv')\n",
    "labels_df['R.Time'] = pd.to_datetime(labels_df['R.Time']).dt.tz_localize('America/Los_Angeles')\n"
   ]
  },
  {
   "cell_type": "code",
   "execution_count": null,
   "id": "b9461ebe",
   "metadata": {},
   "outputs": [],
   "source": [
    "start_seconds = int((labels_df['R.Time'].iloc[0] - recording_start_datetime).total_seconds())\n",
    "end_seconds = start_seconds + 24 * 60 * 60"
   ]
  },
  {
   "cell_type": "code",
   "execution_count": null,
   "id": "ea6c0c9b",
   "metadata": {},
   "outputs": [],
   "source": [
    "raw.crop(start_seconds, end_seconds)\n",
    "print(len(raw.get_data('EEG_ICA5')[0]) / 500)\n",
    "print(len(labels_df))"
   ]
  },
  {
   "cell_type": "markdown",
   "id": "9852680d",
   "metadata": {},
   "source": [
    "# Sleep Staging"
   ]
  },
  {
   "cell_type": "code",
   "execution_count": null,
   "id": "0d8610fd",
   "metadata": {
    "scrolled": true
   },
   "outputs": [],
   "source": [
    "sleep_stage = yasa.SleepStaging(raw, eeg_name='EEG_ICA5')"
   ]
  },
  {
   "cell_type": "code",
   "execution_count": null,
   "id": "67aa12b1",
   "metadata": {},
   "outputs": [],
   "source": [
    "sleep_stage.fit()\n",
    "hypno = sleep_stage.predict()"
   ]
  },
  {
   "cell_type": "markdown",
   "id": "dbaf9c98",
   "metadata": {},
   "source": [
    "### Map our labels to theirs"
   ]
  },
  {
   "cell_type": "code",
   "execution_count": null,
   "id": "da40decf",
   "metadata": {},
   "outputs": [],
   "source": [
    "labelmap = {\n",
    "    'W':'Active Waking',\n",
    "    #'': 'Quiet Waking',\n",
    "    'N1': 'Drowsiness',\n",
    "    'N2': 'SWS',\n",
    "    'N3': 'SWS',\n",
    "    'R': 'REM'\n",
    "}"
   ]
  }
 ],
 "metadata": {
  "kernelspec": {
   "display_name": "Python 3 (ipykernel)",
   "language": "python",
   "name": "python3"
  },
  "language_info": {
   "codemirror_mode": {
    "name": "ipython",
    "version": 3
   },
   "file_extension": ".py",
   "mimetype": "text/x-python",
   "name": "python",
   "nbconvert_exporter": "python",
   "pygments_lexer": "ipython3",
   "version": "3.10.9"
  }
 },
 "nbformat": 4,
 "nbformat_minor": 5
}
