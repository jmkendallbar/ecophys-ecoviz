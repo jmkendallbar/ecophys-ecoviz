{
 "cells": [
  {
   "cell_type": "markdown",
   "id": "0897fd31",
   "metadata": {},
   "source": [
    "# 03_Basic_Model_Evaluation\n",
    "notebook for showing the confusion matrix, accuracy, and maybe a few snippets of naps with the predictions aligned with actuals to show when the predictions are incorrect..?"
   ]
  }
 ],
 "metadata": {
  "kernelspec": {
   "display_name": "Python 3 (ipykernel)",
   "language": "python",
   "name": "python3"
  },
  "language_info": {
   "codemirror_mode": {
    "name": "ipython",
    "version": 3
   },
   "file_extension": ".py",
   "mimetype": "text/x-python",
   "name": "python",
   "nbconvert_exporter": "python",
   "pygments_lexer": "ipython3",
   "version": "3.10.9"
  }
 },
 "nbformat": 4,
 "nbformat_minor": 5
}
