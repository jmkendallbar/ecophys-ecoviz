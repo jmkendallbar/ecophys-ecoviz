{
 "cells": [
  {
   "cell_type": "code",
   "execution_count": 1,
   "id": "c8f56d5c",
   "metadata": {},
   "outputs": [],
   "source": [
    "import os\n",
    "import sys\n",
    "import pytz\n",
    "import numpy as np\n",
    "import umap\n",
    "import plotly.express as px\n",
    "\n",
    "sys.path.insert(0, '..') \n",
    "from src.features.feature_generation_utils import *\n",
    "from src.features.feature_generation import *"
   ]
  },
  {
   "cell_type": "code",
   "execution_count": 2,
   "id": "97b745b2",
   "metadata": {},
   "outputs": [],
   "source": [
    "%load_ext autoreload\n",
    "%autoreload 2"
   ]
  },
  {
   "cell_type": "markdown",
   "id": "874a18be",
   "metadata": {},
   "source": [
    "# Takeaways:\n",
    "1. Maybe in addition to focusing on accuracy, we can look into how well the features cluster into 4 categories (or maybe it's more/less?) using UMAP for dimensional reduction  https://umap-learn.readthedocs.io/en/latest/basic_usage.html"
   ]
  },
  {
   "cell_type": "markdown",
   "id": "5feafcb3",
   "metadata": {},
   "source": [
    "# Features (these descriptions are slightly outdated)"
   ]
  },
  {
   "cell_type": "markdown",
   "id": "037c350c",
   "metadata": {},
   "source": [
    "## Heart Rate\n",
    "- Heart Rate\n",
    "- Heart rate 30 second mean\n",
    "- Heart rate 30 second standard deviation\n",
    "- Heart rate very low frequency (0.01 - 0.05 Hz)\n",
    "- Heart rate VLF power standard deviation\n",
    "## Movement & Pressure\n",
    "- Pressure 30 second mean\n",
    "- Pressure 30 second standard deviation\n",
    "- Overall Dynamic Body Acceleration (ODBA) 30 second mean\n",
    "- ODBA 30 second standard deviation\n",
    "- GyroZ 30 second mean\n",
    "- GyroZ 30 second standard deviation\n",
    "## EEG Features\n",
    "- EEG 30 second standard deviation\n",
    "- EEG 30 second IQR\n",
    "- EEG 30 second skew\n",
    "- EEG 30 second kurtosis\n",
    "- EEG 30 second zero crossings\n",
    "- EEG 30 second hjorth mobility\n",
    "- EEG 30 second hjorth complexity\n",
    "- Slow Delta power (0.4 - 1 Hz)\n",
    "- Fast Delta power (1 - 4 Hz)\n",
    "- Theta power (4 - 8 Hz)\n",
    "- Alpha power (8 - 12 Hz)\n",
    "- Sigma power (12 - 16 Hz)\n",
    "- Beta power (16 - 30 Hz)\n",
    "- Delta / Theta power\n",
    "- Delta / Sigma power\n",
    "- Delta / Beta power\n",
    "- Alpha / Theta power\n",
    "- Absolute power (0.4 - 30 Hz)\n",
    "#### ones I don't really understand\n",
    "- EEG permutation entropy\n",
    "- EEG higuchi fractal dimension (is this like the mirror dimension from doctor strange)\n",
    "- EEG petrosian fractal dimension"
   ]
  },
  {
   "cell_type": "markdown",
   "id": "889bd4dc",
   "metadata": {},
   "source": [
    "## Preprocessing"
   ]
  },
  {
   "cell_type": "markdown",
   "id": "d14f0ee0",
   "metadata": {},
   "source": [
    "### Load EDF and EEG data"
   ]
  },
  {
   "cell_type": "code",
   "execution_count": 3,
   "id": "6b5732f4",
   "metadata": {},
   "outputs": [
    {
     "name": "stdout",
     "output_type": "stream",
     "text": [
      "Extracting EDF parameters from /Users/michael/Desktop/capstone-seal-sleep/jessie-workshop/ecophys-ecoviz/data/raw/01_edf_data/test12_Wednesday_05_ALL_PROCESSED.edf...\n",
      "EDF file detected\n",
      "Setting channel info structure...\n",
      "Creating raw.info structure...\n",
      "Reading 0 ... 158957499  =      0.000 ... 317914.998 secs...\n"
     ]
    }
   ],
   "source": [
    "path_to_edf = '../data/raw/01_edf_data/test12_Wednesday_05_ALL_PROCESSED.edf'\n",
    "raw = mne.io.read_raw_edf(path_to_edf, include=['ECG_Raw_Ch1', 'EEG_ICA5', 'Pressure', 'ODBA', 'GyrZ'], preload=True)\n",
    "info = raw.info"
   ]
  },
  {
   "cell_type": "code",
   "execution_count": 4,
   "id": "1b7f6d5b",
   "metadata": {},
   "outputs": [],
   "source": [
    "eeg_data = raw.get_data('EEG_ICA5')[0].copy()"
   ]
  },
  {
   "cell_type": "markdown",
   "id": "f7b094b0",
   "metadata": {},
   "source": [
    "### Load labels"
   ]
  },
  {
   "cell_type": "code",
   "execution_count": 5,
   "id": "76f39777",
   "metadata": {},
   "outputs": [
    {
     "data": {
      "text/plain": [
       "Sleep.Code\n",
       "Active Waking         0.456175\n",
       "Quiet Waking          0.143221\n",
       "HV Slow Wave Sleep    0.124564\n",
       "Drowsiness            0.075781\n",
       "Certain REM Sleep     0.072228\n",
       "LV Slow Wave Sleep    0.071997\n",
       "Putative REM Sleep    0.034134\n",
       "Unscorable            0.021901\n",
       "Name: proportion, dtype: float64"
      ]
     },
     "execution_count": 5,
     "metadata": {},
     "output_type": "execute_result"
    }
   ],
   "source": [
    "# Load labeled data\n",
    "# Path to CSV with scored data\n",
    "file_path = '../data/raw/02_hypnogram_data/test12_Wednesday_06_Hypnogram_JKB_1Hz.csv'\n",
    "\n",
    "# Load the CSV file into a DataFrame\n",
    "df = pd.read_csv(file_path)\n",
    "df['R.Time'] = pd.to_datetime(df['R.Time']).dt.tz_localize('America/Los_Angeles')\n",
    "df['Sleep.Code'].value_counts(normalize=True)"
   ]
  },
  {
   "cell_type": "markdown",
   "id": "573b6597",
   "metadata": {},
   "source": [
    "### Get recording start time"
   ]
  },
  {
   "cell_type": "code",
   "execution_count": 6,
   "id": "03fc0677",
   "metadata": {},
   "outputs": [],
   "source": [
    "sfreq = info['sfreq']\n",
    "edf_start_time = info['meas_date']\n",
    "# Define the PST timezone\n",
    "pst_timezone = pytz.timezone('America/Los_Angeles')\n",
    "# Convert to datetime object in PST\n",
    "if isinstance(edf_start_time, datetime.datetime):\n",
    "    # If it's already a datetime object, just replace the timezone\n",
    "    recording_start_datetime = edf_start_time.replace(tzinfo=None).astimezone(pst_timezone)\n",
    "    # for some reason using .replace(tzinfo=...) does weird shit - offsets based of LMT instead of UTC and gets confusing\n",
    "    # recording_start_datetime = edf_start_time.replace(tzinfo=pst_timezone)\n",
    "elif isinstance(edf_start_time, (int, float)):\n",
    "    # Convert timestamp to datetime in PST\n",
    "    recording_start_datetime = pst_timezone.localize(datetime.datetime.fromtimestamp(edf_start_time))"
   ]
  },
  {
   "cell_type": "markdown",
   "id": "9fd5147a",
   "metadata": {},
   "source": [
    "## Get features"
   ]
  },
  {
   "cell_type": "code",
   "execution_count": 7,
   "id": "477a2ce7",
   "metadata": {},
   "outputs": [],
   "source": [
    "model_data_v3 = pd.read_csv('../data/processed/v3_features/Wednesday_used_features_with_labels_v3.csv',\n",
    "                            index_col=0)\n",
    "model_data_v3.index = pd.DatetimeIndex(model_data_v3.index, tz=pst_timezone)"
   ]
  },
  {
   "cell_type": "code",
   "execution_count": 8,
   "id": "bdbcbcdf",
   "metadata": {},
   "outputs": [],
   "source": [
    "model_data_v3 = model_data_v3.dropna()"
   ]
  },
  {
   "cell_type": "markdown",
   "id": "e15214de",
   "metadata": {},
   "source": [
    "## UMAP dimensionality reduction, colored by label"
   ]
  },
  {
   "cell_type": "code",
   "execution_count": 13,
   "id": "3a44e516",
   "metadata": {},
   "outputs": [],
   "source": [
    "X_all = model_data_v3.drop('Simple.Sleep.Code', axis=1)\n",
    "y_all = model_data_v3['Simple.Sleep.Code']"
   ]
  },
  {
   "cell_type": "code",
   "execution_count": null,
   "id": "1b335b8f",
   "metadata": {},
   "outputs": [],
   "source": [
    "X_umap = pd.DataFrame(\n",
    "    umap.UMAP(random_state=42).fit_transform(X_all),\n",
    "    columns=['UMAP1', 'UMAP2']\n",
    ")"
   ]
  },
  {
   "cell_type": "code",
   "execution_count": null,
   "id": "7169c63b",
   "metadata": {},
   "outputs": [],
   "source": [
    "labeled_umap = X_umap.copy(deep=True)\n",
    "labeled_umap['Simple.Sleep.Code'] = y_all.reset_index(drop=True)"
   ]
  },
  {
   "cell_type": "code",
   "execution_count": null,
   "id": "678c5b3b",
   "metadata": {},
   "outputs": [],
   "source": [
    "px.scatter(labeled_umap, x='UMAP1', y='UMAP2', color='Simple.Sleep.Code')"
   ]
  },
  {
   "cell_type": "markdown",
   "id": "6c8df230",
   "metadata": {},
   "source": [
    "# Recursive Feature Elimination - sklearn"
   ]
  },
  {
   "cell_type": "code",
   "execution_count": null,
   "id": "441c8937",
   "metadata": {},
   "outputs": [],
   "source": [
    "from sklearn.feature_selection import RFECV\n",
    "from lightgbm import LGBMClassifier"
   ]
  },
  {
   "cell_type": "code",
   "execution_count": null,
   "id": "dab87688",
   "metadata": {},
   "outputs": [],
   "source": [
    "best_params = {'learning_rate': 0.005, 'n_estimators': 400, 'num_leaves': 10}\n",
    "lgbmodel = LGBMClassifier(**best_params)\n",
    "rfe = RFECV(lgbmodel)\n",
    "rfe.fit(X_all, y_all['Simple.Sleep.Code'])"
   ]
  },
  {
   "cell_type": "code",
   "execution_count": null,
   "id": "a4c93790",
   "metadata": {},
   "outputs": [],
   "source": [
    "rfe.ranking_"
   ]
  },
  {
   "cell_type": "code",
   "execution_count": null,
   "id": "174bacde",
   "metadata": {
    "scrolled": true
   },
   "outputs": [],
   "source": [
    "included = rfe.support_\n",
    "print('Included')\n",
    "print(X_all.columns[included])\n",
    "print()\n",
    "print('Not Included')\n",
    "print(X_all.columns[~included])"
   ]
  }
 ],
 "metadata": {
  "kernelspec": {
   "display_name": "Python 3 (ipykernel)",
   "language": "python",
   "name": "python3"
  },
  "language_info": {
   "codemirror_mode": {
    "name": "ipython",
    "version": 3
   },
   "file_extension": ".py",
   "mimetype": "text/x-python",
   "name": "python",
   "nbconvert_exporter": "python",
   "pygments_lexer": "ipython3",
   "version": "3.10.9"
  }
 },
 "nbformat": 4,
 "nbformat_minor": 5
}
