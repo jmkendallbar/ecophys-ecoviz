{
 "cells": [
  {
   "cell_type": "markdown",
   "id": "10c68f01",
   "metadata": {},
   "source": [
    "# Initial models features v1\n",
    "This notebook builds some initial scikit-learn models using the v1 features"
   ]
  },
  {
   "cell_type": "code",
   "execution_count": 1,
   "id": "3f7785bc",
   "metadata": {},
   "outputs": [],
   "source": [
    "import mne\n",
    "import os\n",
    "import sys\n",
    "import pytz\n",
    "import datetime\n",
    "import numpy as np\n",
    "import pandas as pd\n",
    "from sleepecg import detect_heartbeats"
   ]
  },
  {
   "cell_type": "code",
   "execution_count": 2,
   "id": "1454cdbb",
   "metadata": {},
   "outputs": [],
   "source": [
    "%load_ext autoreload\n",
    "%autoreload 2"
   ]
  },
  {
   "cell_type": "code",
   "execution_count": 3,
   "id": "71098a25",
   "metadata": {},
   "outputs": [],
   "source": [
    "# Add the src directory to the path\n",
    "current_path = os.getcwd()\n",
    "src_path = os.path.abspath(os.path.join(current_path, '..', 'src', 'features'))\n",
    "sys.path.insert(0, src_path) \n",
    "import feature_extraction as seal_fe\n",
    "import feature_generation as seal_fgen"
   ]
  },
  {
   "cell_type": "markdown",
   "id": "be5a8c3d",
   "metadata": {},
   "source": [
    "# Table of Contents\n",
    "## [Wednesday Feature Extraction](#wednesday_feature_extraction)\n",
    "# [SKlearn Initial Modelling](#sklearn)\n",
    "### [SVM Classifier](#svm_classifier)\n",
    "### [KNN Classifier](#k-nearest-neighbors)\n",
    "### [Random Forest](#random_forest)"
   ]
  },
  {
   "cell_type": "code",
   "execution_count": 4,
   "id": "84edd2de",
   "metadata": {},
   "outputs": [
    {
     "name": "stdout",
     "output_type": "stream",
     "text": [
      "/Users/michael/Desktop/capstone-seal-sleep/jessie-workshop/ecophys-ecoviz/data/raw/01_edf_data\n",
      "Extracting EDF parameters from /Users/michael/Desktop/capstone-seal-sleep/jessie-workshop/ecophys-ecoviz/data/raw/01_edf_data/test12_Wednesday_05_ALL_PROCESSED.edf...\n",
      "EDF file detected\n",
      "Setting channel info structure...\n",
      "Creating raw.info structure...\n",
      "<Info | 8 non-empty values\n",
      " bads: []\n",
      " ch_names: ECG_Raw_Ch1, ECG_ICA2, LEOG_Pruned_Ch2, LEMG_Pruned_Ch4, ...\n",
      " chs: 16 EEG\n",
      " custom_ref_applied: False\n",
      " highpass: 0.0 Hz\n",
      " lowpass: 250.0 Hz\n",
      " meas_date: 2019-10-25 08:21:02 UTC\n",
      " nchan: 16\n",
      " projs: []\n",
      " sfreq: 500.0 Hz\n",
      " subject_info: 1 item (dict)\n",
      ">\n"
     ]
    }
   ],
   "source": [
    "# Construct the relative path to the folder containing processed data\n",
    "data_path = os.path.abspath(os.path.join(\"..\", \"data\", \"raw\"))\n",
    "process_data_path = os.path.abspath(os.path.join(\"..\", \"data\", \"raw\", \"01_edf_data\"))\n",
    "print(process_data_path)\n",
    "\n",
    "# Read the header information to identify channels and their sampling frequencies\n",
    "info = mne.io.read_raw_edf(f'{process_data_path}/test12_Wednesday_05_ALL_PROCESSED.edf',\n",
    "                           preload=False).info\n",
    "\n",
    "# Print the channel information\n",
    "print(info)\n",
    "\n",
    "# Identify channels and their corresponding sampling frequencies\n",
    "channels_info = info['chs']\n",
    "sampling_freq_map = {}"
   ]
  },
  {
   "cell_type": "code",
   "execution_count": 5,
   "id": "3145af3d",
   "metadata": {},
   "outputs": [
    {
     "name": "stdout",
     "output_type": "stream",
     "text": [
      "Extracting EDF parameters from /Users/michael/Desktop/capstone-seal-sleep/jessie-workshop/ecophys-ecoviz/data/raw/01_edf_data/test12_Wednesday_05_ALL_PROCESSED.edf...\n",
      "EDF file detected\n",
      "Setting channel info structure...\n",
      "Creating raw.info structure...\n",
      "Reading 0 ... 158957499  =      0.000 ... 317914.998 secs...\n",
      "<Info | 8 non-empty values\n",
      " bads: []\n",
      " ch_names: ECG_Raw_Ch1, EEG_ICA5, GyrZ, MagZ, ODBA, Pressure\n",
      " chs: 6 EEG\n",
      " custom_ref_applied: False\n",
      " highpass: 0.0 Hz\n",
      " lowpass: 250.0 Hz\n",
      " meas_date: 2019-10-25 08:21:02 UTC\n",
      " nchan: 6\n",
      " projs: []\n",
      " sfreq: 500.0 Hz\n",
      " subject_info: 1 item (dict)\n",
      ">\n",
      "The channels are: ['ECG_Raw_Ch1', 'EEG_ICA5', 'GyrZ', 'MagZ', 'ODBA', 'Pressure']\n",
      "The sampling frequency is: 500.0\n",
      "The start time in PST (Los Angeles) is: 2019-10-25 08:21:02-07:00\n",
      "The end time in PST (Los Angeles) is: 2019-10-29 00:39:37-07:00\n",
      "Duration: 3 days, 16 hours, 18 minutes, 35 seconds\n"
     ]
    },
    {
     "name": "stderr",
     "output_type": "stream",
     "text": [
      "/var/folders/by/vpz_wqc14_vgx3vzwgf90gw00000gn/T/ipykernel_25225/1023560466.py:34: RuntimeWarning: The unit for channel(s) GyrZ, MagZ, ODBA, Pressure has changed from V to NA.\n",
      "  raw.set_channel_types(channel_types)\n"
     ]
    }
   ],
   "source": [
    "# Load the EDF file, excluding the EOGs and EKG channels\n",
    "raw = mne.io.read_raw_edf(f'{process_data_path}/test12_Wednesday_05_ALL_PROCESSED.edf', \n",
    "                          include=['ECG_Raw_Ch1', 'EEG_ICA5', 'GyrZ', 'MagZ',\n",
    "                                   'ODBA', 'Pressure'], preload=True)\n",
    "raw # Outputs summary data about file\n",
    "\n",
    "# Inspect Data\n",
    "print(raw.info)\n",
    "print('The channels are:', raw.ch_names)\n",
    "print('The sampling frequency is:', raw.info['sfreq'])\n",
    "\n",
    "# Rename channels (replace spaces if any)\n",
    "channel_renaming_dict = {name: name.replace(' ', '_') for name in raw.ch_names}\n",
    "raw.rename_channels(channel_renaming_dict)\n",
    "\n",
    "# Assuming 'raw' is your Raw object from MNE\n",
    "channel_types = {}\n",
    "\n",
    "for ch in raw.ch_names:\n",
    "    if ch.startswith('ECG'):\n",
    "        channel_types[ch] = 'ecg'\n",
    "    elif ch.startswith('EEG'):\n",
    "        channel_types[ch] = 'eeg'\n",
    "    elif ch in ['pitch', 'roll', 'heading']:\n",
    "        channel_types[ch] = 'resp'\n",
    "    elif ch in ['GyrZ', 'MagZ', 'ODBA']:\n",
    "        channel_types[ch] = 'syst'\n",
    "    elif ch in ['Pressure']:\n",
    "        channel_types[ch] = 'misc'\n",
    "    elif ch == 'Heart_Rate':\n",
    "        channel_types[ch] = 'bio'\n",
    "\n",
    "# Now set the channel types\n",
    "raw.set_channel_types(channel_types)\n",
    "\n",
    "# Extract the measurement date (start time) from raw.info\n",
    "start_time = raw.info['meas_date']\n",
    "fs = raw.info['sfreq']\n",
    "\n",
    "# Define the PST timezone\n",
    "pst_timezone = pytz.timezone('America/Los_Angeles')\n",
    "\n",
    "# Convert to datetime object in PST\n",
    "if isinstance(start_time, datetime.datetime):\n",
    "    # If it's already a datetime object, just replace the timezone\n",
    "    recording_start_datetime = start_time.replace(tzinfo=None).astimezone(pst_timezone)\n",
    "elif isinstance(start_time, (int, float)):\n",
    "    # Convert timestamp to datetime in PST\n",
    "    recording_start_datetime = pst_timezone.datetime.datetime.fromtimestamp(start_time, pst_timezone)\n",
    "else:\n",
    "    # Handle other formats if necessary\n",
    "    pass\n",
    "\n",
    "# Calculate the recording duration in seconds\n",
    "recording_duration_seconds = len(raw) / fs\n",
    "\n",
    "# Calculate the recording end datetime\n",
    "recording_end_datetime = recording_start_datetime + datetime.timedelta(seconds=recording_duration_seconds)\n",
    "\n",
    "# Calculate duration as a timedelta object\n",
    "duration_timedelta = datetime.timedelta(seconds=recording_duration_seconds)\n",
    "\n",
    "# Create a time index\n",
    "#time_index = pd.date_range(recoring_start_datetime, recording_end_datetime)\n",
    "\n",
    "# Format duration into days, hours, minutes, and seconds\n",
    "days = duration_timedelta.days\n",
    "hours, remainder = divmod(duration_timedelta.seconds, 3600)\n",
    "minutes, seconds = divmod(remainder, 60)\n",
    "\n",
    "print('The start time in PST (Los Angeles) is:', recording_start_datetime)\n",
    "print('The end time in PST (Los Angeles) is:', recording_end_datetime)\n",
    "print(f'Duration: {days} days, {hours} hours, {minutes} minutes, {seconds} seconds')\n"
   ]
  },
  {
   "cell_type": "code",
   "execution_count": 6,
   "id": "749abf35",
   "metadata": {},
   "outputs": [
    {
     "name": "stdout",
     "output_type": "stream",
     "text": [
      "The start time for labels in PST (Los Angeles) is: 2019-10-25 14:45:22-07:00\n",
      "The end time for labels in PST (Los Angeles) is: 2019-10-29 00:36:53-07:00\n"
     ]
    }
   ],
   "source": [
    "# Load labeled data\n",
    "# Path to CSV with scored data\n",
    "file_path = f'{data_path}/02_hypnogram_data/test12_Wednesday_06_Hypnogram_JKB_1Hz.csv'\n",
    "\n",
    "# Load the CSV file into a DataFrame\n",
    "df = pd.read_csv(file_path)\n",
    "df['R.Time'] = pd.to_datetime(df['R.Time']).dt.tz_localize('America/Los_Angeles')\n",
    "df['Sleep.Code'].value_counts(normalize=True)\n",
    "\n",
    "print('The start time for labels in PST (Los Angeles) is:', df['R.Time'].min())\n",
    "print('The end time for labels in PST (Los Angeles) is:', df['R.Time'].max())\n"
   ]
  },
  {
   "cell_type": "markdown",
   "id": "c0a3e398",
   "metadata": {},
   "source": [
    "<a id='wednesday_feature_extraction'></a>\n",
    "\n",
    "# Calculate Features for Wednesday the Seal"
   ]
  },
  {
   "cell_type": "code",
   "execution_count": 7,
   "id": "a76f202c",
   "metadata": {},
   "outputs": [],
   "source": [
    "start_index = int((df['R.Time'].min() - recording_start_datetime).total_seconds() * 500)\n",
    "end_index = int(((df['R.Time'].max() - recording_start_datetime).total_seconds() + 1) * 500)"
   ]
  },
  {
   "cell_type": "code",
   "execution_count": 8,
   "id": "88934a53",
   "metadata": {},
   "outputs": [],
   "source": [
    "eeg_subset = raw.copy().pick(['EEG_ICA5']).get_data()[0, start_index:end_index]\n",
    "ecg_subset = raw.copy().pick(['ECG_Raw_Ch1']).get_data()[0, start_index:end_index] # TODO: Use ECG_Raw_Ch1"
   ]
  },
  {
   "cell_type": "code",
   "execution_count": 9,
   "id": "ab59538a",
   "metadata": {},
   "outputs": [
    {
     "name": "stdout",
     "output_type": "stream",
     "text": [
      "147346000\n",
      "147346000\n"
     ]
    }
   ],
   "source": [
    "print(len(eeg_subset))\n",
    "print(len(ecg_subset))"
   ]
  },
  {
   "cell_type": "code",
   "execution_count": 10,
   "id": "b3b0c070",
   "metadata": {},
   "outputs": [
    {
     "name": "stderr",
     "output_type": "stream",
     "text": [
      "/Users/michael/Desktop/capstone-seal-sleep/jessie-workshop/ecophys-ecoviz/src/features/feature_extraction.py:139: RuntimeWarning: divide by zero encountered in double_scalars\n",
      "  heart_rates = [60 / ((rpeaks_corrected[i+1] - rpeaks_corrected[i]) / fs) for i in range(len(rpeaks_corrected) - 1)]\n"
     ]
    },
    {
     "name": "stdout",
     "output_type": "stream",
     "text": [
      "Filled: 0\n"
     ]
    }
   ],
   "source": [
    "# heart rate for the subset time period\n",
    "hr_subset = seal_fe.get_heart_rate(ecg_subset)"
   ]
  },
  {
   "cell_type": "code",
   "execution_count": 11,
   "id": "b802bebe",
   "metadata": {},
   "outputs": [
    {
     "name": "stdout",
     "output_type": "stream",
     "text": [
      "done\n",
      "done\n",
      "done\n",
      "Filled: 0\n",
      "done\n"
     ]
    },
    {
     "name": "stderr",
     "output_type": "stream",
     "text": [
      "/Users/michael/Desktop/capstone-seal-sleep/jessie-workshop/ecophys-ecoviz/src/features/feature_extraction.py:442: RuntimeWarning: divide by zero encountered in log\n",
      "  delta_power = 10 * np.log(np.sum(power_spectrum[delta_freq_indices]) * freq_resolution / ref_power)\n"
     ]
    },
    {
     "name": "stdout",
     "output_type": "stream",
     "text": [
      "done\n"
     ]
    },
    {
     "name": "stderr",
     "output_type": "stream",
     "text": [
      "/Users/michael/anaconda3/lib/python3.10/site-packages/numpy/core/_methods.py:233: RuntimeWarning: invalid value encountered in subtract\n",
      "  x = asanyarray(arr - arrmean)\n"
     ]
    }
   ],
   "source": [
    "delta_power = seal_fe.get_rolling_band_power_welch(eeg_subset, 0, len(eeg_subset), freq_range=(0.5, 4), ref_power=1e-14,\n",
    "                                           freq=500, window_sec=30, step_size=1)\n",
    "print('done')\n",
    "zero_crossings = seal_fe.get_rolling_zero_crossings(eeg_subset, 0, len(eeg_subset), window_sec=10)\n",
    "print('done')\n",
    "absolute_power = seal_fe.get_rolling_band_power_welch(eeg_subset, 0, len(eeg_subset), freq_range=(0.4, 30),\n",
    "                                                 ref_power=1e-14, freq=500, window_sec=30, step_size=1)\n",
    "print('done')\n",
    "hr_subset = seal_fe.get_heart_rate(ecg_subset)\n",
    "hr_mean, hr_std = seal_fe.get_rolling_mean_std(hr_subset, 0, len(hr_subset), window_sec=30, freq=500)\n",
    "print('done')\n",
    "vlf_power = seal_fe.get_rolling_band_power_fourier_sum(hr_subset, 0, len(hr_subset), freq_range=(0.001, 0.05),\n",
    "                                               window_sec=30, freq=500, ref_power=1)\n",
    "print('done')\n",
    "_, vlf_power_std = seal_fe.get_rolling_mean_std(vlf_power, 0, len(vlf_power), freq=1, window_sec=60)\n"
   ]
  },
  {
   "cell_type": "code",
   "execution_count": 12,
   "id": "541de1f3",
   "metadata": {},
   "outputs": [],
   "source": [
    "sw1_filter = df['Sleep.Num'] == 4\n",
    "sw2_filter = df['Sleep.Num'] == 5\n",
    "# sw2_filter = np.array([[x] * 500 for x in sw2_filter]).flatten()\n",
    "rem_filter = df['Sleep.Num'] == 7\n",
    "# rem_filter = np.array([[x] * 500 for x in rem_filter]).flatten()\n",
    "drowsy_filter = df['Sleep.Num'] == 3"
   ]
  },
  {
   "cell_type": "code",
   "execution_count": 13,
   "id": "074332f6",
   "metadata": {},
   "outputs": [
    {
     "name": "stdout",
     "output_type": "stream",
     "text": [
      "294692\n",
      "294692\n",
      "294692\n",
      "147346000\n",
      "294692\n",
      "294692\n",
      "294692\n",
      "294692\n"
     ]
    }
   ],
   "source": [
    "for myarr in [delta_power, zero_crossings, absolute_power, hr_subset, hr_mean, hr_std, vlf_power, vlf_power_std]:\n",
    "    print(len(myarr))"
   ]
  },
  {
   "cell_type": "code",
   "execution_count": 14,
   "id": "d381f97e",
   "metadata": {},
   "outputs": [],
   "source": [
    "features_v1 = pd.DataFrame({\n",
    "    'Delta Power': delta_power,\n",
    "    'Rolling Zero Crossings': zero_crossings,\n",
    "    'Rolling Absolute Power': absolute_power,\n",
    "    'Heart Rate': [hr_subset[i] for i in range(0, len(hr_subset), 500)], # Downsample from 500 Hz to 1 Hz\n",
    "    'Heart Rate Mean': hr_mean,\n",
    "    'Heart Rate Std.Dev': hr_std,\n",
    "    'Heart Rate Very Low Frequency Power': vlf_power,\n",
    "    'Heart Rate VLF Power Std.Dev': vlf_power_std,\n",
    "    'Sleep.Num': df['Sleep.Num']\n",
    "})"
   ]
  },
  {
   "cell_type": "code",
   "execution_count": 15,
   "id": "b19c03d9",
   "metadata": {},
   "outputs": [],
   "source": [
    "features_v1.index = df['R.Time']"
   ]
  },
  {
   "cell_type": "code",
   "execution_count": 16,
   "id": "97ebe893",
   "metadata": {},
   "outputs": [],
   "source": [
    "features_v1.to_csv('../data/processed/v1_features/Wednesday_features_v1.csv')"
   ]
  },
  {
   "cell_type": "code",
   "execution_count": 17,
   "id": "dc33547f",
   "metadata": {},
   "outputs": [],
   "source": [
    "with open('../data/processed/v1_features/Wednesday_features_v1_meta.txt', 'w') as f: \n",
    "    f.write(\n",
    "\"\"\"\n",
    "delta_power = get_rolling_band_power_welch(eeg_subset, 0, len(eeg_subset), freq_range=(0.5, 4), ref_power=1e-14,\n",
    "                                           freq=500, window_sec=30, step_size=1)\n",
    "zero_crossings = get_rolling_zero_crossings(eeg_subset, 0, len(eeg_subset), window_sec=10)\n",
    "absolute_power = get_rolling_band_power_welch(eeg_subset, 0, len(eeg_subset), freq_range=(0.4, 30),\n",
    "                                                 ref_power=1e-14, freq=500, window_sec=30, step_size=1)\n",
    "hr_subset = get_heart_rate(ecg_subset)\n",
    "hr_mean, hr_std = get_rolling_mean_std(hr_subset, 0, len(hr_3subset), window_sec=30, freq=500)\n",
    "vlf_power = get_rolling_band_power_fourier_sum(hr_subset, 0, len(hr_subset), freq_range=(0.001, 0.05),\n",
    "                                               window_sec=30, freq=500, ref_power=1)\n",
    "_, vlf_power_std = get_rolling_mean_std(vlf_power, 0, len(vlf_power), freq=1, window_sec=60)\n",
    "\n",
    "features_v1 = pd.DataFrame({\n",
    "    'Delta Power': delta_power,\n",
    "    'Rolling Zero Crossings': zero_crossings,\n",
    "    'Rolling Absolute Power': absolute_power,\n",
    "    'Heart Rate': [hr_subset[i] for i in range(0, len(hr_subset), 500)], # Downsample from 500 Hz to 1 Hz\n",
    "    'Heart Rate Mean': hr_mean,\n",
    "    'Heart Rate Std.Dev': hr_std,\n",
    "    'Heart Rate Very Low Frequency Power': vlf_power,\n",
    "    'Heart Rate VLF Power Std.Dev': vlf_power_std,\n",
    "    'Sleep.Num': subset['Sleep.Num']\n",
    "})\n",
    "\"\"\"\n",
    ")\n"
   ]
  },
  {
   "cell_type": "markdown",
   "id": "c27fa14d",
   "metadata": {},
   "source": [
    "<a id='sklearn'></a>\n",
    "\n",
    "# Scikit-Learn on Wednesday"
   ]
  },
  {
   "cell_type": "code",
   "execution_count": 18,
   "id": "838a04cd",
   "metadata": {},
   "outputs": [],
   "source": [
    "from sklearn.svm import SVC\n",
    "from sklearn.neighbors import KNeighborsClassifier\n",
    "from sklearn.ensemble import RandomForestClassifier\n",
    "from sklearn.model_selection import GridSearchCV\n",
    "from sklearn.model_selection import train_test_split\n",
    "from sklearn.metrics import classification_report, confusion_matrix"
   ]
  },
  {
   "cell_type": "code",
   "execution_count": 19,
   "id": "311e51b9",
   "metadata": {},
   "outputs": [
    {
     "data": {
      "text/plain": [
       "81.8586111111111"
      ]
     },
     "execution_count": 19,
     "metadata": {},
     "output_type": "execute_result"
    }
   ],
   "source": [
    "# hours in features_v1\n",
    "(features_v1.index[-1] - features_v1.index[0]).total_seconds() / 60 / 60"
   ]
  },
  {
   "cell_type": "code",
   "execution_count": 20,
   "id": "3c7aa18a",
   "metadata": {},
   "outputs": [],
   "source": [
    "model_train_data = features_v1.dropna()\n",
    "train_X, test_X, train_y, test_y = train_test_split(model_train_data.drop('Sleep.Num', axis=1),\n",
    "                                                    model_train_data['Sleep.Num'], test_size=0.50, shuffle=False)"
   ]
  },
  {
   "cell_type": "markdown",
   "id": "812a2ff0",
   "metadata": {},
   "source": [
    "<a id='svm_classifier'></a>\n",
    "\n",
    "## SVC (support vector machine classifier)"
   ]
  },
  {
   "cell_type": "code",
   "execution_count": null,
   "id": "306be2a9",
   "metadata": {},
   "outputs": [],
   "source": [
    "param_grid = {'C': [0.1,1, 10, 100], 'gamma': [1,0.1,0.01,0.001],'kernel': ['sigmoid', 'rbf']} # kernel: 'rbf', 'poly' excluded\n",
    "grid = GridSearchCV(SVC(),param_grid,cv=2,refit=True,verbose=2,scoring='balanced_accuracy')\n",
    "grid.fit(train_X,train_y)"
   ]
  },
  {
   "cell_type": "code",
   "execution_count": 53,
   "id": "be6b78b7",
   "metadata": {},
   "outputs": [
    {
     "name": "stdout",
     "output_type": "stream",
     "text": [
      "{'C': 1, 'gamma': 0.001, 'kernel': 'rbf'}\n"
     ]
    }
   ],
   "source": [
    "print(grid.best_params_)"
   ]
  },
  {
   "cell_type": "code",
   "execution_count": 21,
   "id": "bca73db8",
   "metadata": {},
   "outputs": [],
   "source": [
    "model_svc = SVC(**{'C': 1, 'gamma': 0.001, 'kernel': 'rbf'})"
   ]
  },
  {
   "cell_type": "code",
   "execution_count": 22,
   "id": "d8917499",
   "metadata": {},
   "outputs": [],
   "source": [
    "def print_model_stats(model, data):\n",
    "    train_X, test_X, train_y, test_y = train_test_split(data.drop('Sleep.Num', axis=1),\n",
    "                                                        data['Sleep.Num'], test_size=0.50, shuffle=False)\n",
    "    from IPython.display import display, HTML\n",
    "    model.fit(train_X, train_y)\n",
    "    preds = model.predict(test_X)\n",
    "    print('Accuracy:')\n",
    "    print(np.mean(preds == test_y))\n",
    "    print()\n",
    "    \n",
    "    print('Actual Target Dist')\n",
    "    print(test_y.value_counts(normalize=True).sort_index())\n",
    "    print()\n",
    "    \n",
    "    print('Prediction Target Dist')\n",
    "    print(pd.Series(preds).value_counts(normalize=True).sort_index())\n",
    "    print()\n",
    "    \n",
    "    display(pd.DataFrame(\n",
    "        confusion_matrix(test_y, preds),\n",
    "        index=[f'Actual {x}' for x in range(0, 8)],\n",
    "        columns=[f'Predicted {x}' for x in range(0, 8)]\n",
    "    ))"
   ]
  },
  {
   "cell_type": "code",
   "execution_count": 23,
   "id": "96f65feb",
   "metadata": {},
   "outputs": [
    {
     "name": "stdout",
     "output_type": "stream",
     "text": [
      "Accuracy:\n",
      "0.5908606203856525\n",
      "\n",
      "Actual Target Dist\n",
      "Sleep.Num\n",
      "0    0.032554\n",
      "1    0.597775\n",
      "2    0.123282\n",
      "3    0.034062\n",
      "4    0.054248\n",
      "5    0.106180\n",
      "6    0.023473\n",
      "7    0.028425\n",
      "Name: proportion, dtype: float64\n",
      "\n",
      "Prediction Target Dist\n",
      "0    0.001963\n",
      "1    0.613838\n",
      "2    0.051579\n",
      "3    0.104007\n",
      "4    0.065244\n",
      "5    0.065217\n",
      "6    0.006860\n",
      "7    0.091292\n",
      "Name: proportion, dtype: float64\n",
      "\n"
     ]
    },
    {
     "data": {
      "text/html": [
       "<div>\n",
       "<style scoped>\n",
       "    .dataframe tbody tr th:only-of-type {\n",
       "        vertical-align: middle;\n",
       "    }\n",
       "\n",
       "    .dataframe tbody tr th {\n",
       "        vertical-align: top;\n",
       "    }\n",
       "\n",
       "    .dataframe thead th {\n",
       "        text-align: right;\n",
       "    }\n",
       "</style>\n",
       "<table border=\"1\" class=\"dataframe\">\n",
       "  <thead>\n",
       "    <tr style=\"text-align: right;\">\n",
       "      <th></th>\n",
       "      <th>Predicted 0</th>\n",
       "      <th>Predicted 1</th>\n",
       "      <th>Predicted 2</th>\n",
       "      <th>Predicted 3</th>\n",
       "      <th>Predicted 4</th>\n",
       "      <th>Predicted 5</th>\n",
       "      <th>Predicted 6</th>\n",
       "      <th>Predicted 7</th>\n",
       "    </tr>\n",
       "  </thead>\n",
       "  <tbody>\n",
       "    <tr>\n",
       "      <th>Actual 0</th>\n",
       "      <td>84</td>\n",
       "      <td>4001</td>\n",
       "      <td>18</td>\n",
       "      <td>143</td>\n",
       "      <td>322</td>\n",
       "      <td>57</td>\n",
       "      <td>5</td>\n",
       "      <td>163</td>\n",
       "    </tr>\n",
       "    <tr>\n",
       "      <th>Actual 1</th>\n",
       "      <td>204</td>\n",
       "      <td>73531</td>\n",
       "      <td>1672</td>\n",
       "      <td>3200</td>\n",
       "      <td>4420</td>\n",
       "      <td>2307</td>\n",
       "      <td>124</td>\n",
       "      <td>2553</td>\n",
       "    </tr>\n",
       "    <tr>\n",
       "      <th>Actual 2</th>\n",
       "      <td>0</td>\n",
       "      <td>5295</td>\n",
       "      <td>2318</td>\n",
       "      <td>2191</td>\n",
       "      <td>1767</td>\n",
       "      <td>227</td>\n",
       "      <td>432</td>\n",
       "      <td>5921</td>\n",
       "    </tr>\n",
       "    <tr>\n",
       "      <th>Actual 3</th>\n",
       "      <td>1</td>\n",
       "      <td>836</td>\n",
       "      <td>1092</td>\n",
       "      <td>2048</td>\n",
       "      <td>80</td>\n",
       "      <td>447</td>\n",
       "      <td>85</td>\n",
       "      <td>426</td>\n",
       "    </tr>\n",
       "    <tr>\n",
       "      <th>Actual 4</th>\n",
       "      <td>0</td>\n",
       "      <td>2222</td>\n",
       "      <td>780</td>\n",
       "      <td>1927</td>\n",
       "      <td>1093</td>\n",
       "      <td>688</td>\n",
       "      <td>72</td>\n",
       "      <td>1205</td>\n",
       "    </tr>\n",
       "    <tr>\n",
       "      <th>Actual 5</th>\n",
       "      <td>0</td>\n",
       "      <td>3347</td>\n",
       "      <td>194</td>\n",
       "      <td>4770</td>\n",
       "      <td>1333</td>\n",
       "      <td>5810</td>\n",
       "      <td>20</td>\n",
       "      <td>159</td>\n",
       "    </tr>\n",
       "    <tr>\n",
       "      <th>Actual 6</th>\n",
       "      <td>0</td>\n",
       "      <td>650</td>\n",
       "      <td>891</td>\n",
       "      <td>359</td>\n",
       "      <td>292</td>\n",
       "      <td>55</td>\n",
       "      <td>152</td>\n",
       "      <td>1057</td>\n",
       "    </tr>\n",
       "    <tr>\n",
       "      <th>Actual 7</th>\n",
       "      <td>0</td>\n",
       "      <td>494</td>\n",
       "      <td>629</td>\n",
       "      <td>675</td>\n",
       "      <td>299</td>\n",
       "      <td>11</td>\n",
       "      <td>120</td>\n",
       "      <td>1957</td>\n",
       "    </tr>\n",
       "  </tbody>\n",
       "</table>\n",
       "</div>"
      ],
      "text/plain": [
       "          Predicted 0  Predicted 1  Predicted 2  Predicted 3  Predicted 4  \\\n",
       "Actual 0           84         4001           18          143          322   \n",
       "Actual 1          204        73531         1672         3200         4420   \n",
       "Actual 2            0         5295         2318         2191         1767   \n",
       "Actual 3            1          836         1092         2048           80   \n",
       "Actual 4            0         2222          780         1927         1093   \n",
       "Actual 5            0         3347          194         4770         1333   \n",
       "Actual 6            0          650          891          359          292   \n",
       "Actual 7            0          494          629          675          299   \n",
       "\n",
       "          Predicted 5  Predicted 6  Predicted 7  \n",
       "Actual 0           57            5          163  \n",
       "Actual 1         2307          124         2553  \n",
       "Actual 2          227          432         5921  \n",
       "Actual 3          447           85          426  \n",
       "Actual 4          688           72         1205  \n",
       "Actual 5         5810           20          159  \n",
       "Actual 6           55          152         1057  \n",
       "Actual 7           11          120         1957  "
      ]
     },
     "metadata": {},
     "output_type": "display_data"
    }
   ],
   "source": [
    "print_model_stats(model_svc, model_train_data)"
   ]
  },
  {
   "cell_type": "code",
   "execution_count": 24,
   "id": "fd586426",
   "metadata": {},
   "outputs": [
    {
     "data": {
      "text/html": [
       "<style>#sk-container-id-1 {color: black;background-color: white;}#sk-container-id-1 pre{padding: 0;}#sk-container-id-1 div.sk-toggleable {background-color: white;}#sk-container-id-1 label.sk-toggleable__label {cursor: pointer;display: block;width: 100%;margin-bottom: 0;padding: 0.3em;box-sizing: border-box;text-align: center;}#sk-container-id-1 label.sk-toggleable__label-arrow:before {content: \"▸\";float: left;margin-right: 0.25em;color: #696969;}#sk-container-id-1 label.sk-toggleable__label-arrow:hover:before {color: black;}#sk-container-id-1 div.sk-estimator:hover label.sk-toggleable__label-arrow:before {color: black;}#sk-container-id-1 div.sk-toggleable__content {max-height: 0;max-width: 0;overflow: hidden;text-align: left;background-color: #f0f8ff;}#sk-container-id-1 div.sk-toggleable__content pre {margin: 0.2em;color: black;border-radius: 0.25em;background-color: #f0f8ff;}#sk-container-id-1 input.sk-toggleable__control:checked~div.sk-toggleable__content {max-height: 200px;max-width: 100%;overflow: auto;}#sk-container-id-1 input.sk-toggleable__control:checked~label.sk-toggleable__label-arrow:before {content: \"▾\";}#sk-container-id-1 div.sk-estimator input.sk-toggleable__control:checked~label.sk-toggleable__label {background-color: #d4ebff;}#sk-container-id-1 div.sk-label input.sk-toggleable__control:checked~label.sk-toggleable__label {background-color: #d4ebff;}#sk-container-id-1 input.sk-hidden--visually {border: 0;clip: rect(1px 1px 1px 1px);clip: rect(1px, 1px, 1px, 1px);height: 1px;margin: -1px;overflow: hidden;padding: 0;position: absolute;width: 1px;}#sk-container-id-1 div.sk-estimator {font-family: monospace;background-color: #f0f8ff;border: 1px dotted black;border-radius: 0.25em;box-sizing: border-box;margin-bottom: 0.5em;}#sk-container-id-1 div.sk-estimator:hover {background-color: #d4ebff;}#sk-container-id-1 div.sk-parallel-item::after {content: \"\";width: 100%;border-bottom: 1px solid gray;flex-grow: 1;}#sk-container-id-1 div.sk-label:hover label.sk-toggleable__label {background-color: #d4ebff;}#sk-container-id-1 div.sk-serial::before {content: \"\";position: absolute;border-left: 1px solid gray;box-sizing: border-box;top: 0;bottom: 0;left: 50%;z-index: 0;}#sk-container-id-1 div.sk-serial {display: flex;flex-direction: column;align-items: center;background-color: white;padding-right: 0.2em;padding-left: 0.2em;position: relative;}#sk-container-id-1 div.sk-item {position: relative;z-index: 1;}#sk-container-id-1 div.sk-parallel {display: flex;align-items: stretch;justify-content: center;background-color: white;position: relative;}#sk-container-id-1 div.sk-item::before, #sk-container-id-1 div.sk-parallel-item::before {content: \"\";position: absolute;border-left: 1px solid gray;box-sizing: border-box;top: 0;bottom: 0;left: 50%;z-index: -1;}#sk-container-id-1 div.sk-parallel-item {display: flex;flex-direction: column;z-index: 1;position: relative;background-color: white;}#sk-container-id-1 div.sk-parallel-item:first-child::after {align-self: flex-end;width: 50%;}#sk-container-id-1 div.sk-parallel-item:last-child::after {align-self: flex-start;width: 50%;}#sk-container-id-1 div.sk-parallel-item:only-child::after {width: 0;}#sk-container-id-1 div.sk-dashed-wrapped {border: 1px dashed gray;margin: 0 0.4em 0.5em 0.4em;box-sizing: border-box;padding-bottom: 0.4em;background-color: white;}#sk-container-id-1 div.sk-label label {font-family: monospace;font-weight: bold;display: inline-block;line-height: 1.2em;}#sk-container-id-1 div.sk-label-container {text-align: center;}#sk-container-id-1 div.sk-container {/* jupyter's `normalize.less` sets `[hidden] { display: none; }` but bootstrap.min.css set `[hidden] { display: none !important; }` so we also need the `!important` here to be able to override the default hidden behavior on the sphinx rendered scikit-learn.org. See: https://github.com/scikit-learn/scikit-learn/issues/21755 */display: inline-block !important;position: relative;}#sk-container-id-1 div.sk-text-repr-fallback {display: none;}</style><div id=\"sk-container-id-1\" class=\"sk-top-container\"><div class=\"sk-text-repr-fallback\"><pre>SVC(C=1, gamma=0.001)</pre><b>In a Jupyter environment, please rerun this cell to show the HTML representation or trust the notebook. <br />On GitHub, the HTML representation is unable to render, please try loading this page with nbviewer.org.</b></div><div class=\"sk-container\" hidden><div class=\"sk-item\"><div class=\"sk-estimator sk-toggleable\"><input class=\"sk-toggleable__control sk-hidden--visually\" id=\"sk-estimator-id-1\" type=\"checkbox\" checked><label for=\"sk-estimator-id-1\" class=\"sk-toggleable__label sk-toggleable__label-arrow\">SVC</label><div class=\"sk-toggleable__content\"><pre>SVC(C=1, gamma=0.001)</pre></div></div></div></div></div>"
      ],
      "text/plain": [
       "SVC(C=1, gamma=0.001)"
      ]
     },
     "execution_count": 24,
     "metadata": {},
     "output_type": "execute_result"
    }
   ],
   "source": [
    "model_svc.fit(train_X, train_y)"
   ]
  },
  {
   "cell_type": "code",
   "execution_count": 25,
   "id": "60034710",
   "metadata": {},
   "outputs": [],
   "source": [
    "preds_svc_test = model_svc.predict(test_X)"
   ]
  },
  {
   "cell_type": "code",
   "execution_count": 26,
   "id": "d5f4bf31",
   "metadata": {},
   "outputs": [
    {
     "data": {
      "text/html": [
       "<style>#sk-container-id-2 {color: black;background-color: white;}#sk-container-id-2 pre{padding: 0;}#sk-container-id-2 div.sk-toggleable {background-color: white;}#sk-container-id-2 label.sk-toggleable__label {cursor: pointer;display: block;width: 100%;margin-bottom: 0;padding: 0.3em;box-sizing: border-box;text-align: center;}#sk-container-id-2 label.sk-toggleable__label-arrow:before {content: \"▸\";float: left;margin-right: 0.25em;color: #696969;}#sk-container-id-2 label.sk-toggleable__label-arrow:hover:before {color: black;}#sk-container-id-2 div.sk-estimator:hover label.sk-toggleable__label-arrow:before {color: black;}#sk-container-id-2 div.sk-toggleable__content {max-height: 0;max-width: 0;overflow: hidden;text-align: left;background-color: #f0f8ff;}#sk-container-id-2 div.sk-toggleable__content pre {margin: 0.2em;color: black;border-radius: 0.25em;background-color: #f0f8ff;}#sk-container-id-2 input.sk-toggleable__control:checked~div.sk-toggleable__content {max-height: 200px;max-width: 100%;overflow: auto;}#sk-container-id-2 input.sk-toggleable__control:checked~label.sk-toggleable__label-arrow:before {content: \"▾\";}#sk-container-id-2 div.sk-estimator input.sk-toggleable__control:checked~label.sk-toggleable__label {background-color: #d4ebff;}#sk-container-id-2 div.sk-label input.sk-toggleable__control:checked~label.sk-toggleable__label {background-color: #d4ebff;}#sk-container-id-2 input.sk-hidden--visually {border: 0;clip: rect(1px 1px 1px 1px);clip: rect(1px, 1px, 1px, 1px);height: 1px;margin: -1px;overflow: hidden;padding: 0;position: absolute;width: 1px;}#sk-container-id-2 div.sk-estimator {font-family: monospace;background-color: #f0f8ff;border: 1px dotted black;border-radius: 0.25em;box-sizing: border-box;margin-bottom: 0.5em;}#sk-container-id-2 div.sk-estimator:hover {background-color: #d4ebff;}#sk-container-id-2 div.sk-parallel-item::after {content: \"\";width: 100%;border-bottom: 1px solid gray;flex-grow: 1;}#sk-container-id-2 div.sk-label:hover label.sk-toggleable__label {background-color: #d4ebff;}#sk-container-id-2 div.sk-serial::before {content: \"\";position: absolute;border-left: 1px solid gray;box-sizing: border-box;top: 0;bottom: 0;left: 50%;z-index: 0;}#sk-container-id-2 div.sk-serial {display: flex;flex-direction: column;align-items: center;background-color: white;padding-right: 0.2em;padding-left: 0.2em;position: relative;}#sk-container-id-2 div.sk-item {position: relative;z-index: 1;}#sk-container-id-2 div.sk-parallel {display: flex;align-items: stretch;justify-content: center;background-color: white;position: relative;}#sk-container-id-2 div.sk-item::before, #sk-container-id-2 div.sk-parallel-item::before {content: \"\";position: absolute;border-left: 1px solid gray;box-sizing: border-box;top: 0;bottom: 0;left: 50%;z-index: -1;}#sk-container-id-2 div.sk-parallel-item {display: flex;flex-direction: column;z-index: 1;position: relative;background-color: white;}#sk-container-id-2 div.sk-parallel-item:first-child::after {align-self: flex-end;width: 50%;}#sk-container-id-2 div.sk-parallel-item:last-child::after {align-self: flex-start;width: 50%;}#sk-container-id-2 div.sk-parallel-item:only-child::after {width: 0;}#sk-container-id-2 div.sk-dashed-wrapped {border: 1px dashed gray;margin: 0 0.4em 0.5em 0.4em;box-sizing: border-box;padding-bottom: 0.4em;background-color: white;}#sk-container-id-2 div.sk-label label {font-family: monospace;font-weight: bold;display: inline-block;line-height: 1.2em;}#sk-container-id-2 div.sk-label-container {text-align: center;}#sk-container-id-2 div.sk-container {/* jupyter's `normalize.less` sets `[hidden] { display: none; }` but bootstrap.min.css set `[hidden] { display: none !important; }` so we also need the `!important` here to be able to override the default hidden behavior on the sphinx rendered scikit-learn.org. See: https://github.com/scikit-learn/scikit-learn/issues/21755 */display: inline-block !important;position: relative;}#sk-container-id-2 div.sk-text-repr-fallback {display: none;}</style><div id=\"sk-container-id-2\" class=\"sk-top-container\"><div class=\"sk-text-repr-fallback\"><pre>SVC(C=1, gamma=0.001)</pre><b>In a Jupyter environment, please rerun this cell to show the HTML representation or trust the notebook. <br />On GitHub, the HTML representation is unable to render, please try loading this page with nbviewer.org.</b></div><div class=\"sk-container\" hidden><div class=\"sk-item\"><div class=\"sk-estimator sk-toggleable\"><input class=\"sk-toggleable__control sk-hidden--visually\" id=\"sk-estimator-id-2\" type=\"checkbox\" checked><label for=\"sk-estimator-id-2\" class=\"sk-toggleable__label sk-toggleable__label-arrow\">SVC</label><div class=\"sk-toggleable__content\"><pre>SVC(C=1, gamma=0.001)</pre></div></div></div></div></div>"
      ],
      "text/plain": [
       "SVC(C=1, gamma=0.001)"
      ]
     },
     "execution_count": 26,
     "metadata": {},
     "output_type": "execute_result"
    }
   ],
   "source": [
    "model_svc.fit(test_X, test_y)"
   ]
  },
  {
   "cell_type": "code",
   "execution_count": 27,
   "id": "f315bd91",
   "metadata": {},
   "outputs": [],
   "source": [
    "preds_svc_train = model_svc.predict(train_X)"
   ]
  },
  {
   "cell_type": "markdown",
   "id": "5a6f6ac9",
   "metadata": {},
   "source": [
    "<a id='k-nearest-neighbors'></a>\n",
    "\n",
    "## K Nearest Neighbors"
   ]
  },
  {
   "cell_type": "code",
   "execution_count": null,
   "id": "7109d12d",
   "metadata": {},
   "outputs": [],
   "source": [
    "param_grid = {\n",
    "    'n_neighbors': [1,5,10,20,40,100,200,500],\n",
    "    'p': [1,2,3,4,5],\n",
    "    'weights': ('uniform', 'distance'),\n",
    "    'metric': ('minkowski', 'chebyshev')\n",
    "}\n",
    "grid = GridSearchCV(KNeighborsClassifier(),param_grid,cv=2,refit=True,verbose=2,n_jobs=8,scoring='balanced_accuracy')\n",
    "grid.fit(train_X,train_y)"
   ]
  },
  {
   "cell_type": "code",
   "execution_count": 38,
   "id": "1ec7e995",
   "metadata": {},
   "outputs": [
    {
     "name": "stdout",
     "output_type": "stream",
     "text": [
      "{'metric': 'minkowski', 'n_neighbors': 100, 'p': 1, 'weights': 'distance'}\n"
     ]
    }
   ],
   "source": [
    "print(grid.best_params_)"
   ]
  },
  {
   "cell_type": "code",
   "execution_count": 28,
   "id": "01ee4d97",
   "metadata": {},
   "outputs": [],
   "source": [
    "model_knn = KNeighborsClassifier(**{'metric': 'minkowski', 'n_neighbors': 100, 'p': 1, 'weights': 'distance'},\n",
    "                                 n_jobs=8)"
   ]
  },
  {
   "cell_type": "code",
   "execution_count": 29,
   "id": "9a787685",
   "metadata": {},
   "outputs": [
    {
     "name": "stdout",
     "output_type": "stream",
     "text": [
      "Accuracy:\n",
      "0.5191841392098131\n",
      "\n",
      "Actual Target Dist\n",
      "Sleep.Num\n",
      "0    0.032554\n",
      "1    0.597775\n",
      "2    0.123282\n",
      "3    0.034062\n",
      "4    0.054248\n",
      "5    0.106180\n",
      "6    0.023473\n",
      "7    0.028425\n",
      "Name: proportion, dtype: float64\n",
      "\n",
      "Prediction Target Dist\n",
      "0    0.000822\n",
      "1    0.438033\n",
      "2    0.087617\n",
      "3    0.114229\n",
      "4    0.022292\n",
      "5    0.158805\n",
      "6    0.023215\n",
      "7    0.154988\n",
      "Name: proportion, dtype: float64\n",
      "\n"
     ]
    },
    {
     "data": {
      "text/html": [
       "<div>\n",
       "<style scoped>\n",
       "    .dataframe tbody tr th:only-of-type {\n",
       "        vertical-align: middle;\n",
       "    }\n",
       "\n",
       "    .dataframe tbody tr th {\n",
       "        vertical-align: top;\n",
       "    }\n",
       "\n",
       "    .dataframe thead th {\n",
       "        text-align: right;\n",
       "    }\n",
       "</style>\n",
       "<table border=\"1\" class=\"dataframe\">\n",
       "  <thead>\n",
       "    <tr style=\"text-align: right;\">\n",
       "      <th></th>\n",
       "      <th>Predicted 0</th>\n",
       "      <th>Predicted 1</th>\n",
       "      <th>Predicted 2</th>\n",
       "      <th>Predicted 3</th>\n",
       "      <th>Predicted 4</th>\n",
       "      <th>Predicted 5</th>\n",
       "      <th>Predicted 6</th>\n",
       "      <th>Predicted 7</th>\n",
       "    </tr>\n",
       "  </thead>\n",
       "  <tbody>\n",
       "    <tr>\n",
       "      <th>Actual 0</th>\n",
       "      <td>98</td>\n",
       "      <td>2967</td>\n",
       "      <td>192</td>\n",
       "      <td>219</td>\n",
       "      <td>104</td>\n",
       "      <td>674</td>\n",
       "      <td>32</td>\n",
       "      <td>507</td>\n",
       "    </tr>\n",
       "    <tr>\n",
       "      <th>Actual 1</th>\n",
       "      <td>22</td>\n",
       "      <td>58874</td>\n",
       "      <td>5166</td>\n",
       "      <td>4268</td>\n",
       "      <td>1515</td>\n",
       "      <td>11217</td>\n",
       "      <td>663</td>\n",
       "      <td>6286</td>\n",
       "    </tr>\n",
       "    <tr>\n",
       "      <th>Actual 2</th>\n",
       "      <td>1</td>\n",
       "      <td>1199</td>\n",
       "      <td>3338</td>\n",
       "      <td>2652</td>\n",
       "      <td>382</td>\n",
       "      <td>443</td>\n",
       "      <td>1258</td>\n",
       "      <td>8878</td>\n",
       "    </tr>\n",
       "    <tr>\n",
       "      <th>Actual 3</th>\n",
       "      <td>0</td>\n",
       "      <td>655</td>\n",
       "      <td>892</td>\n",
       "      <td>2150</td>\n",
       "      <td>134</td>\n",
       "      <td>679</td>\n",
       "      <td>94</td>\n",
       "      <td>411</td>\n",
       "    </tr>\n",
       "    <tr>\n",
       "      <th>Actual 4</th>\n",
       "      <td>0</td>\n",
       "      <td>288</td>\n",
       "      <td>955</td>\n",
       "      <td>2163</td>\n",
       "      <td>388</td>\n",
       "      <td>1321</td>\n",
       "      <td>473</td>\n",
       "      <td>2399</td>\n",
       "    </tr>\n",
       "    <tr>\n",
       "      <th>Actual 5</th>\n",
       "      <td>0</td>\n",
       "      <td>427</td>\n",
       "      <td>450</td>\n",
       "      <td>4195</td>\n",
       "      <td>633</td>\n",
       "      <td>8877</td>\n",
       "      <td>197</td>\n",
       "      <td>854</td>\n",
       "    </tr>\n",
       "    <tr>\n",
       "      <th>Actual 6</th>\n",
       "      <td>0</td>\n",
       "      <td>31</td>\n",
       "      <td>1144</td>\n",
       "      <td>419</td>\n",
       "      <td>53</td>\n",
       "      <td>122</td>\n",
       "      <td>459</td>\n",
       "      <td>1228</td>\n",
       "    </tr>\n",
       "    <tr>\n",
       "      <th>Actual 7</th>\n",
       "      <td>0</td>\n",
       "      <td>51</td>\n",
       "      <td>763</td>\n",
       "      <td>752</td>\n",
       "      <td>73</td>\n",
       "      <td>48</td>\n",
       "      <td>242</td>\n",
       "      <td>2256</td>\n",
       "    </tr>\n",
       "  </tbody>\n",
       "</table>\n",
       "</div>"
      ],
      "text/plain": [
       "          Predicted 0  Predicted 1  Predicted 2  Predicted 3  Predicted 4  \\\n",
       "Actual 0           98         2967          192          219          104   \n",
       "Actual 1           22        58874         5166         4268         1515   \n",
       "Actual 2            1         1199         3338         2652          382   \n",
       "Actual 3            0          655          892         2150          134   \n",
       "Actual 4            0          288          955         2163          388   \n",
       "Actual 5            0          427          450         4195          633   \n",
       "Actual 6            0           31         1144          419           53   \n",
       "Actual 7            0           51          763          752           73   \n",
       "\n",
       "          Predicted 5  Predicted 6  Predicted 7  \n",
       "Actual 0          674           32          507  \n",
       "Actual 1        11217          663         6286  \n",
       "Actual 2          443         1258         8878  \n",
       "Actual 3          679           94          411  \n",
       "Actual 4         1321          473         2399  \n",
       "Actual 5         8877          197          854  \n",
       "Actual 6          122          459         1228  \n",
       "Actual 7           48          242         2256  "
      ]
     },
     "metadata": {},
     "output_type": "display_data"
    }
   ],
   "source": [
    "print_model_stats(model_knn, model_train_data)"
   ]
  },
  {
   "cell_type": "code",
   "execution_count": 30,
   "id": "8d8acd0b",
   "metadata": {},
   "outputs": [
    {
     "data": {
      "text/html": [
       "<div>\n",
       "<style scoped>\n",
       "    .dataframe tbody tr th:only-of-type {\n",
       "        vertical-align: middle;\n",
       "    }\n",
       "\n",
       "    .dataframe tbody tr th {\n",
       "        vertical-align: top;\n",
       "    }\n",
       "\n",
       "    .dataframe thead th {\n",
       "        text-align: right;\n",
       "    }\n",
       "</style>\n",
       "<table border=\"1\" class=\"dataframe\">\n",
       "  <thead>\n",
       "    <tr style=\"text-align: right;\">\n",
       "      <th></th>\n",
       "      <th>Sleep.Code</th>\n",
       "    </tr>\n",
       "    <tr>\n",
       "      <th>Sleep.Num</th>\n",
       "      <th></th>\n",
       "    </tr>\n",
       "  </thead>\n",
       "  <tbody>\n",
       "    <tr>\n",
       "      <th>0</th>\n",
       "      <td>Unscorable</td>\n",
       "    </tr>\n",
       "    <tr>\n",
       "      <th>1</th>\n",
       "      <td>Active Waking</td>\n",
       "    </tr>\n",
       "    <tr>\n",
       "      <th>2</th>\n",
       "      <td>Quiet Waking</td>\n",
       "    </tr>\n",
       "    <tr>\n",
       "      <th>3</th>\n",
       "      <td>Drowsiness</td>\n",
       "    </tr>\n",
       "    <tr>\n",
       "      <th>4</th>\n",
       "      <td>LV Slow Wave Sleep</td>\n",
       "    </tr>\n",
       "    <tr>\n",
       "      <th>5</th>\n",
       "      <td>HV Slow Wave Sleep</td>\n",
       "    </tr>\n",
       "    <tr>\n",
       "      <th>6</th>\n",
       "      <td>Putative REM Sleep</td>\n",
       "    </tr>\n",
       "    <tr>\n",
       "      <th>7</th>\n",
       "      <td>Certain REM Sleep</td>\n",
       "    </tr>\n",
       "  </tbody>\n",
       "</table>\n",
       "</div>"
      ],
      "text/plain": [
       "                   Sleep.Code\n",
       "Sleep.Num                    \n",
       "0                  Unscorable\n",
       "1               Active Waking\n",
       "2                Quiet Waking\n",
       "3                  Drowsiness\n",
       "4          LV Slow Wave Sleep\n",
       "5          HV Slow Wave Sleep\n",
       "6          Putative REM Sleep\n",
       "7           Certain REM Sleep"
      ]
     },
     "execution_count": 30,
     "metadata": {},
     "output_type": "execute_result"
    }
   ],
   "source": [
    "df[['Sleep.Code', 'Sleep.Num']].drop_duplicates().set_index('Sleep.Num', drop=True).sort_index()"
   ]
  },
  {
   "cell_type": "code",
   "execution_count": 31,
   "id": "781c254a",
   "metadata": {},
   "outputs": [
    {
     "data": {
      "text/html": [
       "<style>#sk-container-id-3 {color: black;background-color: white;}#sk-container-id-3 pre{padding: 0;}#sk-container-id-3 div.sk-toggleable {background-color: white;}#sk-container-id-3 label.sk-toggleable__label {cursor: pointer;display: block;width: 100%;margin-bottom: 0;padding: 0.3em;box-sizing: border-box;text-align: center;}#sk-container-id-3 label.sk-toggleable__label-arrow:before {content: \"▸\";float: left;margin-right: 0.25em;color: #696969;}#sk-container-id-3 label.sk-toggleable__label-arrow:hover:before {color: black;}#sk-container-id-3 div.sk-estimator:hover label.sk-toggleable__label-arrow:before {color: black;}#sk-container-id-3 div.sk-toggleable__content {max-height: 0;max-width: 0;overflow: hidden;text-align: left;background-color: #f0f8ff;}#sk-container-id-3 div.sk-toggleable__content pre {margin: 0.2em;color: black;border-radius: 0.25em;background-color: #f0f8ff;}#sk-container-id-3 input.sk-toggleable__control:checked~div.sk-toggleable__content {max-height: 200px;max-width: 100%;overflow: auto;}#sk-container-id-3 input.sk-toggleable__control:checked~label.sk-toggleable__label-arrow:before {content: \"▾\";}#sk-container-id-3 div.sk-estimator input.sk-toggleable__control:checked~label.sk-toggleable__label {background-color: #d4ebff;}#sk-container-id-3 div.sk-label input.sk-toggleable__control:checked~label.sk-toggleable__label {background-color: #d4ebff;}#sk-container-id-3 input.sk-hidden--visually {border: 0;clip: rect(1px 1px 1px 1px);clip: rect(1px, 1px, 1px, 1px);height: 1px;margin: -1px;overflow: hidden;padding: 0;position: absolute;width: 1px;}#sk-container-id-3 div.sk-estimator {font-family: monospace;background-color: #f0f8ff;border: 1px dotted black;border-radius: 0.25em;box-sizing: border-box;margin-bottom: 0.5em;}#sk-container-id-3 div.sk-estimator:hover {background-color: #d4ebff;}#sk-container-id-3 div.sk-parallel-item::after {content: \"\";width: 100%;border-bottom: 1px solid gray;flex-grow: 1;}#sk-container-id-3 div.sk-label:hover label.sk-toggleable__label {background-color: #d4ebff;}#sk-container-id-3 div.sk-serial::before {content: \"\";position: absolute;border-left: 1px solid gray;box-sizing: border-box;top: 0;bottom: 0;left: 50%;z-index: 0;}#sk-container-id-3 div.sk-serial {display: flex;flex-direction: column;align-items: center;background-color: white;padding-right: 0.2em;padding-left: 0.2em;position: relative;}#sk-container-id-3 div.sk-item {position: relative;z-index: 1;}#sk-container-id-3 div.sk-parallel {display: flex;align-items: stretch;justify-content: center;background-color: white;position: relative;}#sk-container-id-3 div.sk-item::before, #sk-container-id-3 div.sk-parallel-item::before {content: \"\";position: absolute;border-left: 1px solid gray;box-sizing: border-box;top: 0;bottom: 0;left: 50%;z-index: -1;}#sk-container-id-3 div.sk-parallel-item {display: flex;flex-direction: column;z-index: 1;position: relative;background-color: white;}#sk-container-id-3 div.sk-parallel-item:first-child::after {align-self: flex-end;width: 50%;}#sk-container-id-3 div.sk-parallel-item:last-child::after {align-self: flex-start;width: 50%;}#sk-container-id-3 div.sk-parallel-item:only-child::after {width: 0;}#sk-container-id-3 div.sk-dashed-wrapped {border: 1px dashed gray;margin: 0 0.4em 0.5em 0.4em;box-sizing: border-box;padding-bottom: 0.4em;background-color: white;}#sk-container-id-3 div.sk-label label {font-family: monospace;font-weight: bold;display: inline-block;line-height: 1.2em;}#sk-container-id-3 div.sk-label-container {text-align: center;}#sk-container-id-3 div.sk-container {/* jupyter's `normalize.less` sets `[hidden] { display: none; }` but bootstrap.min.css set `[hidden] { display: none !important; }` so we also need the `!important` here to be able to override the default hidden behavior on the sphinx rendered scikit-learn.org. See: https://github.com/scikit-learn/scikit-learn/issues/21755 */display: inline-block !important;position: relative;}#sk-container-id-3 div.sk-text-repr-fallback {display: none;}</style><div id=\"sk-container-id-3\" class=\"sk-top-container\"><div class=\"sk-text-repr-fallback\"><pre>KNeighborsClassifier(n_jobs=8, n_neighbors=100, p=1, weights=&#x27;distance&#x27;)</pre><b>In a Jupyter environment, please rerun this cell to show the HTML representation or trust the notebook. <br />On GitHub, the HTML representation is unable to render, please try loading this page with nbviewer.org.</b></div><div class=\"sk-container\" hidden><div class=\"sk-item\"><div class=\"sk-estimator sk-toggleable\"><input class=\"sk-toggleable__control sk-hidden--visually\" id=\"sk-estimator-id-3\" type=\"checkbox\" checked><label for=\"sk-estimator-id-3\" class=\"sk-toggleable__label sk-toggleable__label-arrow\">KNeighborsClassifier</label><div class=\"sk-toggleable__content\"><pre>KNeighborsClassifier(n_jobs=8, n_neighbors=100, p=1, weights=&#x27;distance&#x27;)</pre></div></div></div></div></div>"
      ],
      "text/plain": [
       "KNeighborsClassifier(n_jobs=8, n_neighbors=100, p=1, weights='distance')"
      ]
     },
     "execution_count": 31,
     "metadata": {},
     "output_type": "execute_result"
    }
   ],
   "source": [
    "model_knn.fit(train_X, train_y)"
   ]
  },
  {
   "cell_type": "code",
   "execution_count": 32,
   "id": "2eda4b7b",
   "metadata": {},
   "outputs": [],
   "source": [
    "preds_knn_test = model_knn.predict(test_X)"
   ]
  },
  {
   "cell_type": "code",
   "execution_count": 33,
   "id": "c898b2ef",
   "metadata": {},
   "outputs": [
    {
     "data": {
      "text/html": [
       "<style>#sk-container-id-4 {color: black;background-color: white;}#sk-container-id-4 pre{padding: 0;}#sk-container-id-4 div.sk-toggleable {background-color: white;}#sk-container-id-4 label.sk-toggleable__label {cursor: pointer;display: block;width: 100%;margin-bottom: 0;padding: 0.3em;box-sizing: border-box;text-align: center;}#sk-container-id-4 label.sk-toggleable__label-arrow:before {content: \"▸\";float: left;margin-right: 0.25em;color: #696969;}#sk-container-id-4 label.sk-toggleable__label-arrow:hover:before {color: black;}#sk-container-id-4 div.sk-estimator:hover label.sk-toggleable__label-arrow:before {color: black;}#sk-container-id-4 div.sk-toggleable__content {max-height: 0;max-width: 0;overflow: hidden;text-align: left;background-color: #f0f8ff;}#sk-container-id-4 div.sk-toggleable__content pre {margin: 0.2em;color: black;border-radius: 0.25em;background-color: #f0f8ff;}#sk-container-id-4 input.sk-toggleable__control:checked~div.sk-toggleable__content {max-height: 200px;max-width: 100%;overflow: auto;}#sk-container-id-4 input.sk-toggleable__control:checked~label.sk-toggleable__label-arrow:before {content: \"▾\";}#sk-container-id-4 div.sk-estimator input.sk-toggleable__control:checked~label.sk-toggleable__label {background-color: #d4ebff;}#sk-container-id-4 div.sk-label input.sk-toggleable__control:checked~label.sk-toggleable__label {background-color: #d4ebff;}#sk-container-id-4 input.sk-hidden--visually {border: 0;clip: rect(1px 1px 1px 1px);clip: rect(1px, 1px, 1px, 1px);height: 1px;margin: -1px;overflow: hidden;padding: 0;position: absolute;width: 1px;}#sk-container-id-4 div.sk-estimator {font-family: monospace;background-color: #f0f8ff;border: 1px dotted black;border-radius: 0.25em;box-sizing: border-box;margin-bottom: 0.5em;}#sk-container-id-4 div.sk-estimator:hover {background-color: #d4ebff;}#sk-container-id-4 div.sk-parallel-item::after {content: \"\";width: 100%;border-bottom: 1px solid gray;flex-grow: 1;}#sk-container-id-4 div.sk-label:hover label.sk-toggleable__label {background-color: #d4ebff;}#sk-container-id-4 div.sk-serial::before {content: \"\";position: absolute;border-left: 1px solid gray;box-sizing: border-box;top: 0;bottom: 0;left: 50%;z-index: 0;}#sk-container-id-4 div.sk-serial {display: flex;flex-direction: column;align-items: center;background-color: white;padding-right: 0.2em;padding-left: 0.2em;position: relative;}#sk-container-id-4 div.sk-item {position: relative;z-index: 1;}#sk-container-id-4 div.sk-parallel {display: flex;align-items: stretch;justify-content: center;background-color: white;position: relative;}#sk-container-id-4 div.sk-item::before, #sk-container-id-4 div.sk-parallel-item::before {content: \"\";position: absolute;border-left: 1px solid gray;box-sizing: border-box;top: 0;bottom: 0;left: 50%;z-index: -1;}#sk-container-id-4 div.sk-parallel-item {display: flex;flex-direction: column;z-index: 1;position: relative;background-color: white;}#sk-container-id-4 div.sk-parallel-item:first-child::after {align-self: flex-end;width: 50%;}#sk-container-id-4 div.sk-parallel-item:last-child::after {align-self: flex-start;width: 50%;}#sk-container-id-4 div.sk-parallel-item:only-child::after {width: 0;}#sk-container-id-4 div.sk-dashed-wrapped {border: 1px dashed gray;margin: 0 0.4em 0.5em 0.4em;box-sizing: border-box;padding-bottom: 0.4em;background-color: white;}#sk-container-id-4 div.sk-label label {font-family: monospace;font-weight: bold;display: inline-block;line-height: 1.2em;}#sk-container-id-4 div.sk-label-container {text-align: center;}#sk-container-id-4 div.sk-container {/* jupyter's `normalize.less` sets `[hidden] { display: none; }` but bootstrap.min.css set `[hidden] { display: none !important; }` so we also need the `!important` here to be able to override the default hidden behavior on the sphinx rendered scikit-learn.org. See: https://github.com/scikit-learn/scikit-learn/issues/21755 */display: inline-block !important;position: relative;}#sk-container-id-4 div.sk-text-repr-fallback {display: none;}</style><div id=\"sk-container-id-4\" class=\"sk-top-container\"><div class=\"sk-text-repr-fallback\"><pre>KNeighborsClassifier(n_jobs=8, n_neighbors=100, p=1, weights=&#x27;distance&#x27;)</pre><b>In a Jupyter environment, please rerun this cell to show the HTML representation or trust the notebook. <br />On GitHub, the HTML representation is unable to render, please try loading this page with nbviewer.org.</b></div><div class=\"sk-container\" hidden><div class=\"sk-item\"><div class=\"sk-estimator sk-toggleable\"><input class=\"sk-toggleable__control sk-hidden--visually\" id=\"sk-estimator-id-4\" type=\"checkbox\" checked><label for=\"sk-estimator-id-4\" class=\"sk-toggleable__label sk-toggleable__label-arrow\">KNeighborsClassifier</label><div class=\"sk-toggleable__content\"><pre>KNeighborsClassifier(n_jobs=8, n_neighbors=100, p=1, weights=&#x27;distance&#x27;)</pre></div></div></div></div></div>"
      ],
      "text/plain": [
       "KNeighborsClassifier(n_jobs=8, n_neighbors=100, p=1, weights='distance')"
      ]
     },
     "execution_count": 33,
     "metadata": {},
     "output_type": "execute_result"
    }
   ],
   "source": [
    "model_knn.fit(test_X, test_y)"
   ]
  },
  {
   "cell_type": "code",
   "execution_count": 34,
   "id": "3b483767",
   "metadata": {},
   "outputs": [],
   "source": [
    "preds_knn_train = model_knn.predict(train_X)"
   ]
  },
  {
   "cell_type": "markdown",
   "id": "be28d1d4",
   "metadata": {},
   "source": [
    "<a id='random_forest'></a>\n",
    "\n",
    "## Random Forest"
   ]
  },
  {
   "cell_type": "code",
   "execution_count": null,
   "id": "2c03efbe",
   "metadata": {},
   "outputs": [],
   "source": [
    "param_grid = {\n",
    "    'n_estimators': [25, 50, 100, 200],\n",
    "    'criterion': ['gini', 'entropy', 'log_loss'],\n",
    "    'max_features': ['sqrt', 'log2', None],\n",
    "    'max_depth': [None, 100, 50, 25, 10, 5]\n",
    "}\n",
    "grid = GridSearchCV(RandomForestClassifier(),param_grid,cv=2,refit=True,verbose=2,n_jobs=8,\n",
    "                    scoring='balanced_accuracy')\n",
    "grid.fit(train_X,train_y)"
   ]
  },
  {
   "cell_type": "code",
   "execution_count": 61,
   "id": "e05698ad",
   "metadata": {},
   "outputs": [
    {
     "name": "stdout",
     "output_type": "stream",
     "text": [
      "{'criterion': 'gini', 'max_depth': 10, 'max_features': 'log2', 'n_estimators': 100}\n"
     ]
    }
   ],
   "source": [
    "print(grid.best_params_)"
   ]
  },
  {
   "cell_type": "code",
   "execution_count": 35,
   "id": "ac0733e3",
   "metadata": {},
   "outputs": [],
   "source": [
    "model_rfc = RandomForestClassifier(**{'criterion': 'gini', 'max_depth': 10, 'max_features': 'log2', \n",
    "                                     'n_estimators': 100}, n_jobs=8)"
   ]
  },
  {
   "cell_type": "code",
   "execution_count": 36,
   "id": "86edfbca",
   "metadata": {},
   "outputs": [
    {
     "name": "stdout",
     "output_type": "stream",
     "text": [
      "Accuracy:\n",
      "0.502747383363558\n",
      "\n",
      "Actual Target Dist\n",
      "Sleep.Num\n",
      "0    0.032554\n",
      "1    0.597775\n",
      "2    0.123282\n",
      "3    0.034062\n",
      "4    0.054248\n",
      "5    0.106180\n",
      "6    0.023473\n",
      "7    0.028425\n",
      "Name: proportion, dtype: float64\n",
      "\n",
      "Prediction Target Dist\n",
      "0    0.000869\n",
      "1    0.441762\n",
      "2    0.050553\n",
      "3    0.254512\n",
      "4    0.020967\n",
      "5    0.095639\n",
      "6    0.004870\n",
      "7    0.130828\n",
      "Name: proportion, dtype: float64\n",
      "\n"
     ]
    },
    {
     "data": {
      "text/html": [
       "<div>\n",
       "<style scoped>\n",
       "    .dataframe tbody tr th:only-of-type {\n",
       "        vertical-align: middle;\n",
       "    }\n",
       "\n",
       "    .dataframe tbody tr th {\n",
       "        vertical-align: top;\n",
       "    }\n",
       "\n",
       "    .dataframe thead th {\n",
       "        text-align: right;\n",
       "    }\n",
       "</style>\n",
       "<table border=\"1\" class=\"dataframe\">\n",
       "  <thead>\n",
       "    <tr style=\"text-align: right;\">\n",
       "      <th></th>\n",
       "      <th>Predicted 0</th>\n",
       "      <th>Predicted 1</th>\n",
       "      <th>Predicted 2</th>\n",
       "      <th>Predicted 3</th>\n",
       "      <th>Predicted 4</th>\n",
       "      <th>Predicted 5</th>\n",
       "      <th>Predicted 6</th>\n",
       "      <th>Predicted 7</th>\n",
       "    </tr>\n",
       "  </thead>\n",
       "  <tbody>\n",
       "    <tr>\n",
       "      <th>Actual 0</th>\n",
       "      <td>104</td>\n",
       "      <td>3003</td>\n",
       "      <td>0</td>\n",
       "      <td>965</td>\n",
       "      <td>108</td>\n",
       "      <td>343</td>\n",
       "      <td>0</td>\n",
       "      <td>270</td>\n",
       "    </tr>\n",
       "    <tr>\n",
       "      <th>Actual 1</th>\n",
       "      <td>24</td>\n",
       "      <td>59837</td>\n",
       "      <td>1903</td>\n",
       "      <td>14503</td>\n",
       "      <td>1606</td>\n",
       "      <td>6403</td>\n",
       "      <td>62</td>\n",
       "      <td>3673</td>\n",
       "    </tr>\n",
       "    <tr>\n",
       "      <th>Actual 2</th>\n",
       "      <td>0</td>\n",
       "      <td>761</td>\n",
       "      <td>2456</td>\n",
       "      <td>4423</td>\n",
       "      <td>453</td>\n",
       "      <td>225</td>\n",
       "      <td>348</td>\n",
       "      <td>9485</td>\n",
       "    </tr>\n",
       "    <tr>\n",
       "      <th>Actual 3</th>\n",
       "      <td>0</td>\n",
       "      <td>448</td>\n",
       "      <td>1169</td>\n",
       "      <td>2583</td>\n",
       "      <td>6</td>\n",
       "      <td>382</td>\n",
       "      <td>96</td>\n",
       "      <td>331</td>\n",
       "    </tr>\n",
       "    <tr>\n",
       "      <th>Actual 4</th>\n",
       "      <td>0</td>\n",
       "      <td>469</td>\n",
       "      <td>444</td>\n",
       "      <td>4366</td>\n",
       "      <td>540</td>\n",
       "      <td>758</td>\n",
       "      <td>1</td>\n",
       "      <td>1409</td>\n",
       "    </tr>\n",
       "    <tr>\n",
       "      <th>Actual 5</th>\n",
       "      <td>0</td>\n",
       "      <td>453</td>\n",
       "      <td>44</td>\n",
       "      <td>8923</td>\n",
       "      <td>205</td>\n",
       "      <td>5873</td>\n",
       "      <td>0</td>\n",
       "      <td>135</td>\n",
       "    </tr>\n",
       "    <tr>\n",
       "      <th>Actual 6</th>\n",
       "      <td>0</td>\n",
       "      <td>56</td>\n",
       "      <td>867</td>\n",
       "      <td>650</td>\n",
       "      <td>122</td>\n",
       "      <td>69</td>\n",
       "      <td>180</td>\n",
       "      <td>1512</td>\n",
       "    </tr>\n",
       "    <tr>\n",
       "      <th>Actual 7</th>\n",
       "      <td>0</td>\n",
       "      <td>14</td>\n",
       "      <td>560</td>\n",
       "      <td>1059</td>\n",
       "      <td>47</td>\n",
       "      <td>28</td>\n",
       "      <td>30</td>\n",
       "      <td>2447</td>\n",
       "    </tr>\n",
       "  </tbody>\n",
       "</table>\n",
       "</div>"
      ],
      "text/plain": [
       "          Predicted 0  Predicted 1  Predicted 2  Predicted 3  Predicted 4  \\\n",
       "Actual 0          104         3003            0          965          108   \n",
       "Actual 1           24        59837         1903        14503         1606   \n",
       "Actual 2            0          761         2456         4423          453   \n",
       "Actual 3            0          448         1169         2583            6   \n",
       "Actual 4            0          469          444         4366          540   \n",
       "Actual 5            0          453           44         8923          205   \n",
       "Actual 6            0           56          867          650          122   \n",
       "Actual 7            0           14          560         1059           47   \n",
       "\n",
       "          Predicted 5  Predicted 6  Predicted 7  \n",
       "Actual 0          343            0          270  \n",
       "Actual 1         6403           62         3673  \n",
       "Actual 2          225          348         9485  \n",
       "Actual 3          382           96          331  \n",
       "Actual 4          758            1         1409  \n",
       "Actual 5         5873            0          135  \n",
       "Actual 6           69          180         1512  \n",
       "Actual 7           28           30         2447  "
      ]
     },
     "metadata": {},
     "output_type": "display_data"
    }
   ],
   "source": [
    "print_model_stats(model_rfc, model_train_data)"
   ]
  },
  {
   "cell_type": "code",
   "execution_count": 37,
   "id": "df6b1b5c",
   "metadata": {
    "scrolled": true
   },
   "outputs": [
    {
     "data": {
      "text/html": [
       "<div>\n",
       "<style scoped>\n",
       "    .dataframe tbody tr th:only-of-type {\n",
       "        vertical-align: middle;\n",
       "    }\n",
       "\n",
       "    .dataframe tbody tr th {\n",
       "        vertical-align: top;\n",
       "    }\n",
       "\n",
       "    .dataframe thead th {\n",
       "        text-align: right;\n",
       "    }\n",
       "</style>\n",
       "<table border=\"1\" class=\"dataframe\">\n",
       "  <thead>\n",
       "    <tr style=\"text-align: right;\">\n",
       "      <th></th>\n",
       "      <th>Sleep.Code</th>\n",
       "    </tr>\n",
       "    <tr>\n",
       "      <th>Sleep.Num</th>\n",
       "      <th></th>\n",
       "    </tr>\n",
       "  </thead>\n",
       "  <tbody>\n",
       "    <tr>\n",
       "      <th>0</th>\n",
       "      <td>Unscorable</td>\n",
       "    </tr>\n",
       "    <tr>\n",
       "      <th>1</th>\n",
       "      <td>Active Waking</td>\n",
       "    </tr>\n",
       "    <tr>\n",
       "      <th>2</th>\n",
       "      <td>Quiet Waking</td>\n",
       "    </tr>\n",
       "    <tr>\n",
       "      <th>3</th>\n",
       "      <td>Drowsiness</td>\n",
       "    </tr>\n",
       "    <tr>\n",
       "      <th>4</th>\n",
       "      <td>LV Slow Wave Sleep</td>\n",
       "    </tr>\n",
       "    <tr>\n",
       "      <th>5</th>\n",
       "      <td>HV Slow Wave Sleep</td>\n",
       "    </tr>\n",
       "    <tr>\n",
       "      <th>6</th>\n",
       "      <td>Putative REM Sleep</td>\n",
       "    </tr>\n",
       "    <tr>\n",
       "      <th>7</th>\n",
       "      <td>Certain REM Sleep</td>\n",
       "    </tr>\n",
       "  </tbody>\n",
       "</table>\n",
       "</div>"
      ],
      "text/plain": [
       "                   Sleep.Code\n",
       "Sleep.Num                    \n",
       "0                  Unscorable\n",
       "1               Active Waking\n",
       "2                Quiet Waking\n",
       "3                  Drowsiness\n",
       "4          LV Slow Wave Sleep\n",
       "5          HV Slow Wave Sleep\n",
       "6          Putative REM Sleep\n",
       "7           Certain REM Sleep"
      ]
     },
     "execution_count": 37,
     "metadata": {},
     "output_type": "execute_result"
    }
   ],
   "source": [
    "df[['Sleep.Code', 'Sleep.Num']].drop_duplicates().set_index('Sleep.Num', drop=True).sort_index()"
   ]
  },
  {
   "cell_type": "code",
   "execution_count": 39,
   "id": "4b6f1b05",
   "metadata": {},
   "outputs": [
    {
     "data": {
      "text/html": [
       "<style>#sk-container-id-5 {color: black;background-color: white;}#sk-container-id-5 pre{padding: 0;}#sk-container-id-5 div.sk-toggleable {background-color: white;}#sk-container-id-5 label.sk-toggleable__label {cursor: pointer;display: block;width: 100%;margin-bottom: 0;padding: 0.3em;box-sizing: border-box;text-align: center;}#sk-container-id-5 label.sk-toggleable__label-arrow:before {content: \"▸\";float: left;margin-right: 0.25em;color: #696969;}#sk-container-id-5 label.sk-toggleable__label-arrow:hover:before {color: black;}#sk-container-id-5 div.sk-estimator:hover label.sk-toggleable__label-arrow:before {color: black;}#sk-container-id-5 div.sk-toggleable__content {max-height: 0;max-width: 0;overflow: hidden;text-align: left;background-color: #f0f8ff;}#sk-container-id-5 div.sk-toggleable__content pre {margin: 0.2em;color: black;border-radius: 0.25em;background-color: #f0f8ff;}#sk-container-id-5 input.sk-toggleable__control:checked~div.sk-toggleable__content {max-height: 200px;max-width: 100%;overflow: auto;}#sk-container-id-5 input.sk-toggleable__control:checked~label.sk-toggleable__label-arrow:before {content: \"▾\";}#sk-container-id-5 div.sk-estimator input.sk-toggleable__control:checked~label.sk-toggleable__label {background-color: #d4ebff;}#sk-container-id-5 div.sk-label input.sk-toggleable__control:checked~label.sk-toggleable__label {background-color: #d4ebff;}#sk-container-id-5 input.sk-hidden--visually {border: 0;clip: rect(1px 1px 1px 1px);clip: rect(1px, 1px, 1px, 1px);height: 1px;margin: -1px;overflow: hidden;padding: 0;position: absolute;width: 1px;}#sk-container-id-5 div.sk-estimator {font-family: monospace;background-color: #f0f8ff;border: 1px dotted black;border-radius: 0.25em;box-sizing: border-box;margin-bottom: 0.5em;}#sk-container-id-5 div.sk-estimator:hover {background-color: #d4ebff;}#sk-container-id-5 div.sk-parallel-item::after {content: \"\";width: 100%;border-bottom: 1px solid gray;flex-grow: 1;}#sk-container-id-5 div.sk-label:hover label.sk-toggleable__label {background-color: #d4ebff;}#sk-container-id-5 div.sk-serial::before {content: \"\";position: absolute;border-left: 1px solid gray;box-sizing: border-box;top: 0;bottom: 0;left: 50%;z-index: 0;}#sk-container-id-5 div.sk-serial {display: flex;flex-direction: column;align-items: center;background-color: white;padding-right: 0.2em;padding-left: 0.2em;position: relative;}#sk-container-id-5 div.sk-item {position: relative;z-index: 1;}#sk-container-id-5 div.sk-parallel {display: flex;align-items: stretch;justify-content: center;background-color: white;position: relative;}#sk-container-id-5 div.sk-item::before, #sk-container-id-5 div.sk-parallel-item::before {content: \"\";position: absolute;border-left: 1px solid gray;box-sizing: border-box;top: 0;bottom: 0;left: 50%;z-index: -1;}#sk-container-id-5 div.sk-parallel-item {display: flex;flex-direction: column;z-index: 1;position: relative;background-color: white;}#sk-container-id-5 div.sk-parallel-item:first-child::after {align-self: flex-end;width: 50%;}#sk-container-id-5 div.sk-parallel-item:last-child::after {align-self: flex-start;width: 50%;}#sk-container-id-5 div.sk-parallel-item:only-child::after {width: 0;}#sk-container-id-5 div.sk-dashed-wrapped {border: 1px dashed gray;margin: 0 0.4em 0.5em 0.4em;box-sizing: border-box;padding-bottom: 0.4em;background-color: white;}#sk-container-id-5 div.sk-label label {font-family: monospace;font-weight: bold;display: inline-block;line-height: 1.2em;}#sk-container-id-5 div.sk-label-container {text-align: center;}#sk-container-id-5 div.sk-container {/* jupyter's `normalize.less` sets `[hidden] { display: none; }` but bootstrap.min.css set `[hidden] { display: none !important; }` so we also need the `!important` here to be able to override the default hidden behavior on the sphinx rendered scikit-learn.org. See: https://github.com/scikit-learn/scikit-learn/issues/21755 */display: inline-block !important;position: relative;}#sk-container-id-5 div.sk-text-repr-fallback {display: none;}</style><div id=\"sk-container-id-5\" class=\"sk-top-container\"><div class=\"sk-text-repr-fallback\"><pre>RandomForestClassifier(max_depth=10, max_features=&#x27;log2&#x27;, n_jobs=8)</pre><b>In a Jupyter environment, please rerun this cell to show the HTML representation or trust the notebook. <br />On GitHub, the HTML representation is unable to render, please try loading this page with nbviewer.org.</b></div><div class=\"sk-container\" hidden><div class=\"sk-item\"><div class=\"sk-estimator sk-toggleable\"><input class=\"sk-toggleable__control sk-hidden--visually\" id=\"sk-estimator-id-5\" type=\"checkbox\" checked><label for=\"sk-estimator-id-5\" class=\"sk-toggleable__label sk-toggleable__label-arrow\">RandomForestClassifier</label><div class=\"sk-toggleable__content\"><pre>RandomForestClassifier(max_depth=10, max_features=&#x27;log2&#x27;, n_jobs=8)</pre></div></div></div></div></div>"
      ],
      "text/plain": [
       "RandomForestClassifier(max_depth=10, max_features='log2', n_jobs=8)"
      ]
     },
     "execution_count": 39,
     "metadata": {},
     "output_type": "execute_result"
    }
   ],
   "source": [
    "model_rfc.fit(train_X, train_y)"
   ]
  },
  {
   "cell_type": "code",
   "execution_count": 45,
   "id": "6cd1f306",
   "metadata": {},
   "outputs": [],
   "source": [
    "preds_rfc_test = model_rf.predict(test_X)"
   ]
  },
  {
   "cell_type": "code",
   "execution_count": 41,
   "id": "cf8aaa83",
   "metadata": {},
   "outputs": [
    {
     "data": {
      "text/html": [
       "<style>#sk-container-id-6 {color: black;background-color: white;}#sk-container-id-6 pre{padding: 0;}#sk-container-id-6 div.sk-toggleable {background-color: white;}#sk-container-id-6 label.sk-toggleable__label {cursor: pointer;display: block;width: 100%;margin-bottom: 0;padding: 0.3em;box-sizing: border-box;text-align: center;}#sk-container-id-6 label.sk-toggleable__label-arrow:before {content: \"▸\";float: left;margin-right: 0.25em;color: #696969;}#sk-container-id-6 label.sk-toggleable__label-arrow:hover:before {color: black;}#sk-container-id-6 div.sk-estimator:hover label.sk-toggleable__label-arrow:before {color: black;}#sk-container-id-6 div.sk-toggleable__content {max-height: 0;max-width: 0;overflow: hidden;text-align: left;background-color: #f0f8ff;}#sk-container-id-6 div.sk-toggleable__content pre {margin: 0.2em;color: black;border-radius: 0.25em;background-color: #f0f8ff;}#sk-container-id-6 input.sk-toggleable__control:checked~div.sk-toggleable__content {max-height: 200px;max-width: 100%;overflow: auto;}#sk-container-id-6 input.sk-toggleable__control:checked~label.sk-toggleable__label-arrow:before {content: \"▾\";}#sk-container-id-6 div.sk-estimator input.sk-toggleable__control:checked~label.sk-toggleable__label {background-color: #d4ebff;}#sk-container-id-6 div.sk-label input.sk-toggleable__control:checked~label.sk-toggleable__label {background-color: #d4ebff;}#sk-container-id-6 input.sk-hidden--visually {border: 0;clip: rect(1px 1px 1px 1px);clip: rect(1px, 1px, 1px, 1px);height: 1px;margin: -1px;overflow: hidden;padding: 0;position: absolute;width: 1px;}#sk-container-id-6 div.sk-estimator {font-family: monospace;background-color: #f0f8ff;border: 1px dotted black;border-radius: 0.25em;box-sizing: border-box;margin-bottom: 0.5em;}#sk-container-id-6 div.sk-estimator:hover {background-color: #d4ebff;}#sk-container-id-6 div.sk-parallel-item::after {content: \"\";width: 100%;border-bottom: 1px solid gray;flex-grow: 1;}#sk-container-id-6 div.sk-label:hover label.sk-toggleable__label {background-color: #d4ebff;}#sk-container-id-6 div.sk-serial::before {content: \"\";position: absolute;border-left: 1px solid gray;box-sizing: border-box;top: 0;bottom: 0;left: 50%;z-index: 0;}#sk-container-id-6 div.sk-serial {display: flex;flex-direction: column;align-items: center;background-color: white;padding-right: 0.2em;padding-left: 0.2em;position: relative;}#sk-container-id-6 div.sk-item {position: relative;z-index: 1;}#sk-container-id-6 div.sk-parallel {display: flex;align-items: stretch;justify-content: center;background-color: white;position: relative;}#sk-container-id-6 div.sk-item::before, #sk-container-id-6 div.sk-parallel-item::before {content: \"\";position: absolute;border-left: 1px solid gray;box-sizing: border-box;top: 0;bottom: 0;left: 50%;z-index: -1;}#sk-container-id-6 div.sk-parallel-item {display: flex;flex-direction: column;z-index: 1;position: relative;background-color: white;}#sk-container-id-6 div.sk-parallel-item:first-child::after {align-self: flex-end;width: 50%;}#sk-container-id-6 div.sk-parallel-item:last-child::after {align-self: flex-start;width: 50%;}#sk-container-id-6 div.sk-parallel-item:only-child::after {width: 0;}#sk-container-id-6 div.sk-dashed-wrapped {border: 1px dashed gray;margin: 0 0.4em 0.5em 0.4em;box-sizing: border-box;padding-bottom: 0.4em;background-color: white;}#sk-container-id-6 div.sk-label label {font-family: monospace;font-weight: bold;display: inline-block;line-height: 1.2em;}#sk-container-id-6 div.sk-label-container {text-align: center;}#sk-container-id-6 div.sk-container {/* jupyter's `normalize.less` sets `[hidden] { display: none; }` but bootstrap.min.css set `[hidden] { display: none !important; }` so we also need the `!important` here to be able to override the default hidden behavior on the sphinx rendered scikit-learn.org. See: https://github.com/scikit-learn/scikit-learn/issues/21755 */display: inline-block !important;position: relative;}#sk-container-id-6 div.sk-text-repr-fallback {display: none;}</style><div id=\"sk-container-id-6\" class=\"sk-top-container\"><div class=\"sk-text-repr-fallback\"><pre>RandomForestClassifier(max_depth=10, max_features=&#x27;log2&#x27;, n_jobs=8)</pre><b>In a Jupyter environment, please rerun this cell to show the HTML representation or trust the notebook. <br />On GitHub, the HTML representation is unable to render, please try loading this page with nbviewer.org.</b></div><div class=\"sk-container\" hidden><div class=\"sk-item\"><div class=\"sk-estimator sk-toggleable\"><input class=\"sk-toggleable__control sk-hidden--visually\" id=\"sk-estimator-id-6\" type=\"checkbox\" checked><label for=\"sk-estimator-id-6\" class=\"sk-toggleable__label sk-toggleable__label-arrow\">RandomForestClassifier</label><div class=\"sk-toggleable__content\"><pre>RandomForestClassifier(max_depth=10, max_features=&#x27;log2&#x27;, n_jobs=8)</pre></div></div></div></div></div>"
      ],
      "text/plain": [
       "RandomForestClassifier(max_depth=10, max_features='log2', n_jobs=8)"
      ]
     },
     "execution_count": 41,
     "metadata": {},
     "output_type": "execute_result"
    }
   ],
   "source": [
    "model_rfc.fit(test_X, test_y)"
   ]
  },
  {
   "cell_type": "code",
   "execution_count": 46,
   "id": "526e83ed",
   "metadata": {},
   "outputs": [],
   "source": [
    "preds_rfc_train = model_rf.predict(train_X)"
   ]
  },
  {
   "cell_type": "markdown",
   "id": "1c72ecca",
   "metadata": {},
   "source": [
    "#### save model results"
   ]
  },
  {
   "cell_type": "code",
   "execution_count": 47,
   "id": "83f43c62",
   "metadata": {},
   "outputs": [],
   "source": [
    "features_v1_with_preds = model_train_data.copy()\n",
    "features_v1_with_preds['SVC Predictions'] = np.concatenate([preds_svc_train, preds_svc_test])\n",
    "features_v1_with_preds['KNN Predictions'] = np.concatenate([preds_knn_train, preds_knn_test])\n",
    "features_v1_with_preds['RFC Predictions'] = np.concatenate([preds_rfc_train, preds_rfc_test])\n",
    "features_v1_with_preds.to_csv('../data/processed/v1_features/Wednesday_features_v1_with_predictions.csv')"
   ]
  }
 ],
 "metadata": {
  "kernelspec": {
   "display_name": "Python 3 (ipykernel)",
   "language": "python",
   "name": "python3"
  },
  "language_info": {
   "codemirror_mode": {
    "name": "ipython",
    "version": 3
   },
   "file_extension": ".py",
   "mimetype": "text/x-python",
   "name": "python",
   "nbconvert_exporter": "python",
   "pygments_lexer": "ipython3",
   "version": "3.10.9"
  }
 },
 "nbformat": 4,
 "nbformat_minor": 5
}
