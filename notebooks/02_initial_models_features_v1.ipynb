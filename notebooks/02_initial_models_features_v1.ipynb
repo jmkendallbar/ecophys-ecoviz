{
 "cells": [
  {
   "cell_type": "markdown",
   "id": "10c68f01",
   "metadata": {},
   "source": [
    "# Initial models features v1\n",
    "This notebook builds some initial scikit-learn models using the v1 features"
   ]
  },
  {
   "cell_type": "code",
   "execution_count": 1,
   "id": "3f7785bc",
   "metadata": {},
   "outputs": [],
   "source": [
    "import mne\n",
    "import os\n",
    "import sys\n",
    "import pytz\n",
    "import datetime\n",
    "import numpy as np\n",
    "import pandas as pd\n",
    "from sleepecg import detect_heartbeats"
   ]
  },
  {
   "cell_type": "code",
   "execution_count": 2,
   "id": "1454cdbb",
   "metadata": {},
   "outputs": [],
   "source": [
    "%load_ext autoreload\n",
    "%autoreload 2"
   ]
  },
  {
   "cell_type": "code",
   "execution_count": 3,
   "id": "71098a25",
   "metadata": {},
   "outputs": [],
   "source": [
    "sys.path.insert(0, '..') \n",
    "import src.features.feature_generation_utils as seal_fe # feature extraction functions\n",
    "import src.features.feature_generation as seal_fgen # feature generation wrapper"
   ]
  },
  {
   "cell_type": "markdown",
   "id": "be5a8c3d",
   "metadata": {},
   "source": [
    "# Table of Contents\n",
    "## [Wednesday Feature Extraction](#wednesday_feature_extraction)\n",
    "# [SKlearn Initial Modelling](#sklearn)\n",
    "### [SVM Classifier](#svm_classifier)\n",
    "### [KNN Classifier](#k-nearest-neighbors)\n",
    "### [Random Forest](#random_forest)\n",
    "### [LightGBM](#light_gbm)"
   ]
  },
  {
   "cell_type": "code",
   "execution_count": 4,
   "id": "84edd2de",
   "metadata": {},
   "outputs": [
    {
     "name": "stdout",
     "output_type": "stream",
     "text": [
      "/Users/michael/Desktop/capstone-seal-sleep/jessie-workshop/ecophys-ecoviz/data/raw/01_edf_data\n",
      "Extracting EDF parameters from /Users/michael/Desktop/capstone-seal-sleep/jessie-workshop/ecophys-ecoviz/data/raw/01_edf_data/test12_Wednesday_05_ALL_PROCESSED.edf...\n",
      "EDF file detected\n",
      "Setting channel info structure...\n",
      "Creating raw.info structure...\n",
      "<Info | 8 non-empty values\n",
      " bads: []\n",
      " ch_names: ECG_Raw_Ch1, ECG_ICA2, LEOG_Pruned_Ch2, LEMG_Pruned_Ch4, ...\n",
      " chs: 16 EEG\n",
      " custom_ref_applied: False\n",
      " highpass: 0.0 Hz\n",
      " lowpass: 250.0 Hz\n",
      " meas_date: 2019-10-25 08:21:02 UTC\n",
      " nchan: 16\n",
      " projs: []\n",
      " sfreq: 500.0 Hz\n",
      " subject_info: 1 item (dict)\n",
      ">\n"
     ]
    }
   ],
   "source": [
    "# Construct the relative path to the folder containing processed data\n",
    "data_path = os.path.abspath(os.path.join(\"..\", \"data\", \"raw\"))\n",
    "process_data_path = os.path.abspath(os.path.join(\"..\", \"data\", \"raw\", \"01_edf_data\"))\n",
    "print(process_data_path)\n",
    "\n",
    "# Read the header information to identify channels and their sampling frequencies\n",
    "info = mne.io.read_raw_edf(f'{process_data_path}/test12_Wednesday_05_ALL_PROCESSED.edf',\n",
    "                           preload=False).info\n",
    "\n",
    "# Print the channel information\n",
    "print(info)\n",
    "\n",
    "# Identify channels and their corresponding sampling frequencies\n",
    "channels_info = info['chs']\n",
    "sampling_freq_map = {}"
   ]
  },
  {
   "cell_type": "code",
   "execution_count": 5,
   "id": "3145af3d",
   "metadata": {},
   "outputs": [
    {
     "name": "stdout",
     "output_type": "stream",
     "text": [
      "Extracting EDF parameters from /Users/michael/Desktop/capstone-seal-sleep/jessie-workshop/ecophys-ecoviz/data/raw/01_edf_data/test12_Wednesday_05_ALL_PROCESSED.edf...\n",
      "EDF file detected\n",
      "Setting channel info structure...\n",
      "Creating raw.info structure...\n",
      "Reading 0 ... 158957499  =      0.000 ... 317914.998 secs...\n",
      "<Info | 8 non-empty values\n",
      " bads: []\n",
      " ch_names: ECG_Raw_Ch1, EEG_ICA5, GyrZ, MagZ, ODBA, Pressure\n",
      " chs: 6 EEG\n",
      " custom_ref_applied: False\n",
      " highpass: 0.0 Hz\n",
      " lowpass: 250.0 Hz\n",
      " meas_date: 2019-10-25 08:21:02 UTC\n",
      " nchan: 6\n",
      " projs: []\n",
      " sfreq: 500.0 Hz\n",
      " subject_info: 1 item (dict)\n",
      ">\n",
      "The channels are: ['ECG_Raw_Ch1', 'EEG_ICA5', 'GyrZ', 'MagZ', 'ODBA', 'Pressure']\n",
      "The sampling frequency is: 500.0\n",
      "The start time in PST (Los Angeles) is: 2019-10-25 08:21:02-07:00\n",
      "The end time in PST (Los Angeles) is: 2019-10-29 00:39:37-07:00\n",
      "Duration: 3 days, 16 hours, 18 minutes, 35 seconds\n"
     ]
    },
    {
     "name": "stderr",
     "output_type": "stream",
     "text": [
      "/var/folders/by/vpz_wqc14_vgx3vzwgf90gw00000gn/T/ipykernel_12729/1023560466.py:34: RuntimeWarning: The unit for channel(s) GyrZ, MagZ, ODBA, Pressure has changed from V to NA.\n",
      "  raw.set_channel_types(channel_types)\n"
     ]
    }
   ],
   "source": [
    "# Load the EDF file, excluding the EOGs and EKG channels\n",
    "raw = mne.io.read_raw_edf(f'{process_data_path}/test12_Wednesday_05_ALL_PROCESSED.edf', \n",
    "                          include=['ECG_Raw_Ch1', 'EEG_ICA5', 'GyrZ', 'MagZ',\n",
    "                                   'ODBA', 'Pressure'], preload=True)\n",
    "raw # Outputs summary data about file\n",
    "\n",
    "# Inspect Data\n",
    "print(raw.info)\n",
    "print('The channels are:', raw.ch_names)\n",
    "print('The sampling frequency is:', raw.info['sfreq'])\n",
    "\n",
    "# Rename channels (replace spaces if any)\n",
    "channel_renaming_dict = {name: name.replace(' ', '_') for name in raw.ch_names}\n",
    "raw.rename_channels(channel_renaming_dict)\n",
    "\n",
    "# Assuming 'raw' is your Raw object from MNE\n",
    "channel_types = {}\n",
    "\n",
    "for ch in raw.ch_names:\n",
    "    if ch.startswith('ECG'):\n",
    "        channel_types[ch] = 'ecg'\n",
    "    elif ch.startswith('EEG'):\n",
    "        channel_types[ch] = 'eeg'\n",
    "    elif ch in ['pitch', 'roll', 'heading']:\n",
    "        channel_types[ch] = 'resp'\n",
    "    elif ch in ['GyrZ', 'MagZ', 'ODBA']:\n",
    "        channel_types[ch] = 'syst'\n",
    "    elif ch in ['Pressure']:\n",
    "        channel_types[ch] = 'misc'\n",
    "    elif ch == 'Heart_Rate':\n",
    "        channel_types[ch] = 'bio'\n",
    "\n",
    "# Now set the channel types\n",
    "raw.set_channel_types(channel_types)\n",
    "\n",
    "# Extract the measurement date (start time) from raw.info\n",
    "start_time = raw.info['meas_date']\n",
    "fs = raw.info['sfreq']\n",
    "\n",
    "# Define the PST timezone\n",
    "pst_timezone = pytz.timezone('America/Los_Angeles')\n",
    "\n",
    "# Convert to datetime object in PST\n",
    "if isinstance(start_time, datetime.datetime):\n",
    "    # If it's already a datetime object, just replace the timezone\n",
    "    recording_start_datetime = start_time.replace(tzinfo=None).astimezone(pst_timezone)\n",
    "elif isinstance(start_time, (int, float)):\n",
    "    # Convert timestamp to datetime in PST\n",
    "    recording_start_datetime = pst_timezone.datetime.datetime.fromtimestamp(start_time, pst_timezone)\n",
    "else:\n",
    "    # Handle other formats if necessary\n",
    "    pass\n",
    "\n",
    "# Calculate the recording duration in seconds\n",
    "recording_duration_seconds = len(raw) / fs\n",
    "\n",
    "# Calculate the recording end datetime\n",
    "recording_end_datetime = recording_start_datetime + datetime.timedelta(seconds=recording_duration_seconds)\n",
    "\n",
    "# Calculate duration as a timedelta object\n",
    "duration_timedelta = datetime.timedelta(seconds=recording_duration_seconds)\n",
    "\n",
    "# Create a time index\n",
    "#time_index = pd.date_range(recoring_start_datetime, recording_end_datetime)\n",
    "\n",
    "# Format duration into days, hours, minutes, and seconds\n",
    "days = duration_timedelta.days\n",
    "hours, remainder = divmod(duration_timedelta.seconds, 3600)\n",
    "minutes, seconds = divmod(remainder, 60)\n",
    "\n",
    "print('The start time in PST (Los Angeles) is:', recording_start_datetime)\n",
    "print('The end time in PST (Los Angeles) is:', recording_end_datetime)\n",
    "print(f'Duration: {days} days, {hours} hours, {minutes} minutes, {seconds} seconds')\n"
   ]
  },
  {
   "cell_type": "code",
   "execution_count": 6,
   "id": "749abf35",
   "metadata": {},
   "outputs": [
    {
     "name": "stdout",
     "output_type": "stream",
     "text": [
      "The start time for labels in PST (Los Angeles) is: 2019-10-25 14:45:22-07:00\n",
      "The end time for labels in PST (Los Angeles) is: 2019-10-29 00:36:53-07:00\n"
     ]
    },
    {
     "data": {
      "text/plain": [
       "Simple.Sleep.Code\n",
       "Active Waking    0.456175\n",
       "SWS              0.196561\n",
       "Quiet Waking     0.143221\n",
       "REM              0.106362\n",
       "Drowsiness       0.075781\n",
       "Unscorable       0.021901\n",
       "Name: proportion, dtype: float64"
      ]
     },
     "execution_count": 6,
     "metadata": {},
     "output_type": "execute_result"
    }
   ],
   "source": [
    "# Load labeled data\n",
    "# Path to CSV with scored data\n",
    "file_path = f'{data_path}/02_hypnogram_data/test12_Wednesday_06_Hypnogram_JKB_1Hz.csv'\n",
    "\n",
    "# Load the CSV file into a DataFrame\n",
    "df = pd.read_csv(file_path)\n",
    "df['R.Time'] = pd.to_datetime(df['R.Time']).dt.tz_localize('America/Los_Angeles')\n",
    "\n",
    "print('The start time for labels in PST (Los Angeles) is:', df['R.Time'].min())\n",
    "print('The end time for labels in PST (Los Angeles) is:', df['R.Time'].max())\n",
    "\n",
    "df['Simple.Sleep.Code'].value_counts(normalize=True)"
   ]
  },
  {
   "cell_type": "markdown",
   "id": "c0a3e398",
   "metadata": {},
   "source": [
    "<a id='wednesday_feature_extraction'></a>\n",
    "\n",
    "# Calculate Features for Wednesday the Seal"
   ]
  },
  {
   "cell_type": "code",
   "execution_count": 7,
   "id": "a76f202c",
   "metadata": {},
   "outputs": [],
   "source": [
    "start_index = int((df['R.Time'].min() - recording_start_datetime).total_seconds() * 500)\n",
    "end_index = int(((df['R.Time'].max() - recording_start_datetime).total_seconds() + 1) * 500)"
   ]
  },
  {
   "cell_type": "code",
   "execution_count": 8,
   "id": "88934a53",
   "metadata": {},
   "outputs": [],
   "source": [
    "eeg_subset = raw.copy().pick(['EEG_ICA5']).get_data()[0, start_index:end_index]\n",
    "ecg_subset = raw.copy().pick(['ECG_Raw_Ch1']).get_data()[0, start_index:end_index] # TODO: Use ECG_Raw_Ch1"
   ]
  },
  {
   "cell_type": "code",
   "execution_count": 9,
   "id": "ab59538a",
   "metadata": {},
   "outputs": [
    {
     "name": "stdout",
     "output_type": "stream",
     "text": [
      "147346000\n",
      "147346000\n"
     ]
    }
   ],
   "source": [
    "print(len(eeg_subset))\n",
    "print(len(ecg_subset))"
   ]
  },
  {
   "cell_type": "code",
   "execution_count": 10,
   "id": "b3b0c070",
   "metadata": {},
   "outputs": [
    {
     "name": "stderr",
     "output_type": "stream",
     "text": [
      "/Users/michael/Desktop/capstone-seal-sleep/jessie-workshop/ecophys-ecoviz/notebooks/../src/features/feature_generation_utils.py:139: RuntimeWarning: divide by zero encountered in double_scalars\n",
      "  heart_rates = [60 / ((rpeaks_corrected[i+1] - rpeaks_corrected[i]) / fs) for i in range(len(rpeaks_corrected) - 1)]\n"
     ]
    },
    {
     "name": "stdout",
     "output_type": "stream",
     "text": [
      "Filled: 0\n"
     ]
    }
   ],
   "source": [
    "# heart rate for the subset time period\n",
    "hr_subset = seal_fe.get_heart_rate(ecg_subset)"
   ]
  },
  {
   "cell_type": "code",
   "execution_count": 11,
   "id": "b802bebe",
   "metadata": {},
   "outputs": [
    {
     "name": "stdout",
     "output_type": "stream",
     "text": [
      "done\n",
      "done\n",
      "done\n",
      "Filled: 0\n",
      "done\n"
     ]
    },
    {
     "name": "stderr",
     "output_type": "stream",
     "text": [
      "/Users/michael/Desktop/capstone-seal-sleep/jessie-workshop/ecophys-ecoviz/notebooks/../src/features/feature_generation_utils.py:442: RuntimeWarning: divide by zero encountered in log\n",
      "  delta_power = 10 * np.log(np.sum(power_spectrum[delta_freq_indices]) * freq_resolution / ref_power)\n"
     ]
    },
    {
     "name": "stdout",
     "output_type": "stream",
     "text": [
      "done\n"
     ]
    },
    {
     "name": "stderr",
     "output_type": "stream",
     "text": [
      "/Users/michael/anaconda3/lib/python3.10/site-packages/numpy/core/_methods.py:233: RuntimeWarning: invalid value encountered in subtract\n",
      "  x = asanyarray(arr - arrmean)\n"
     ]
    }
   ],
   "source": [
    "delta_power = seal_fe.get_rolling_band_power_welch(eeg_subset, 0, len(eeg_subset), freq_range=(0.5, 4), ref_power=1e-14,\n",
    "                                           freq=500, window_sec=30, step_size=1)\n",
    "print('done')\n",
    "zero_crossings = seal_fe.get_rolling_zero_crossings(eeg_subset, 0, len(eeg_subset), window_sec=10)\n",
    "print('done')\n",
    "absolute_power = seal_fe.get_rolling_band_power_welch(eeg_subset, 0, len(eeg_subset), freq_range=(0.4, 30),\n",
    "                                                 ref_power=1e-14, freq=500, window_sec=30, step_size=1)\n",
    "print('done')\n",
    "hr_subset = seal_fe.get_heart_rate(ecg_subset)\n",
    "hr_mean, hr_std = seal_fe.get_rolling_mean_std(hr_subset, 0, len(hr_subset), window_sec=30, freq=500)\n",
    "print('done')\n",
    "vlf_power = seal_fe.get_rolling_band_power_fourier_sum(hr_subset, 0, len(hr_subset), freq_range=(0.001, 0.05),\n",
    "                                               window_sec=30, freq=500, ref_power=1)\n",
    "print('done')\n",
    "_, vlf_power_std = seal_fe.get_rolling_mean_std(vlf_power, 0, len(vlf_power), freq=1, window_sec=60)\n"
   ]
  },
  {
   "cell_type": "code",
   "execution_count": 12,
   "id": "074332f6",
   "metadata": {},
   "outputs": [
    {
     "name": "stdout",
     "output_type": "stream",
     "text": [
      "294692\n",
      "294692\n",
      "294692\n",
      "147346000\n",
      "294692\n",
      "294692\n",
      "294692\n",
      "294692\n"
     ]
    }
   ],
   "source": [
    "for myarr in [delta_power, zero_crossings, absolute_power, hr_subset, hr_mean, hr_std, vlf_power, vlf_power_std]:\n",
    "    print(len(myarr))"
   ]
  },
  {
   "cell_type": "code",
   "execution_count": 13,
   "id": "d381f97e",
   "metadata": {},
   "outputs": [],
   "source": [
    "features_v1 = pd.DataFrame({\n",
    "    'Delta Power': delta_power,\n",
    "    'Rolling Zero Crossings': zero_crossings,\n",
    "    'Rolling Absolute Power': absolute_power,\n",
    "    'Heart Rate': [hr_subset[i] for i in range(0, len(hr_subset), 500)], # Downsample from 500 Hz to 1 Hz\n",
    "    'Heart Rate Mean': hr_mean,\n",
    "    'Heart Rate Std.Dev': hr_std,\n",
    "    'Heart Rate Very Low Frequency Power': vlf_power,\n",
    "    'Heart Rate VLF Power Std.Dev': vlf_power_std,\n",
    "    'Simple.Sleep.Code': df['Simple.Sleep.Code']\n",
    "})"
   ]
  },
  {
   "cell_type": "code",
   "execution_count": 14,
   "id": "b19c03d9",
   "metadata": {},
   "outputs": [],
   "source": [
    "features_v1.index = df['R.Time']"
   ]
  },
  {
   "cell_type": "code",
   "execution_count": 15,
   "id": "97ebe893",
   "metadata": {},
   "outputs": [],
   "source": [
    "features_v1.to_csv('../data/processed/v1_features/Wednesday_features_v1.csv')"
   ]
  },
  {
   "cell_type": "code",
   "execution_count": 16,
   "id": "dc33547f",
   "metadata": {},
   "outputs": [],
   "source": [
    "with open('../data/processed/v1_features/Wednesday_features_v1_meta.txt', 'w') as f: \n",
    "    f.write(\n",
    "\"\"\"\n",
    "delta_power = get_rolling_band_power_welch(eeg_subset, 0, len(eeg_subset), freq_range=(0.5, 4), ref_power=1e-14,\n",
    "                                           freq=500, window_sec=30, step_size=1)\n",
    "zero_crossings = get_rolling_zero_crossings(eeg_subset, 0, len(eeg_subset), window_sec=10)\n",
    "absolute_power = get_rolling_band_power_welch(eeg_subset, 0, len(eeg_subset), freq_range=(0.4, 30),\n",
    "                                                 ref_power=1e-14, freq=500, window_sec=30, step_size=1)\n",
    "hr_subset = get_heart_rate(ecg_subset)\n",
    "hr_mean, hr_std = get_rolling_mean_std(hr_subset, 0, len(hr_3subset), window_sec=30, freq=500)\n",
    "vlf_power = get_rolling_band_power_fourier_sum(hr_subset, 0, len(hr_subset), freq_range=(0.001, 0.05),\n",
    "                                               window_sec=30, freq=500, ref_power=1)\n",
    "_, vlf_power_std = get_rolling_mean_std(vlf_power, 0, len(vlf_power), freq=1, window_sec=60)\n",
    "\n",
    "features_v1 = pd.DataFrame({\n",
    "    'Delta Power': delta_power,\n",
    "    'Rolling Zero Crossings': zero_crossings,\n",
    "    'Rolling Absolute Power': absolute_power,\n",
    "    'Heart Rate': [hr_subset[i] for i in range(0, len(hr_subset), 500)], # Downsample from 500 Hz to 1 Hz\n",
    "    'Heart Rate Mean': hr_mean,\n",
    "    'Heart Rate Std.Dev': hr_std,\n",
    "    'Heart Rate Very Low Frequency Power': vlf_power,\n",
    "    'Heart Rate VLF Power Std.Dev': vlf_power_std,\n",
    "    'Simple.Sleep.Code': df['Simple.Sleep.Code']\n",
    "})\n",
    "\"\"\"\n",
    ")\n"
   ]
  },
  {
   "cell_type": "markdown",
   "id": "c27fa14d",
   "metadata": {},
   "source": [
    "<a id='sklearn'></a>\n",
    "\n",
    "# Scikit-Learn on Wednesday"
   ]
  },
  {
   "cell_type": "code",
   "execution_count": 17,
   "id": "838a04cd",
   "metadata": {},
   "outputs": [],
   "source": [
    "from sklearn.svm import SVC\n",
    "from sklearn.neighbors import KNeighborsClassifier\n",
    "from sklearn.ensemble import RandomForestClassifier\n",
    "from sklearn.model_selection import GridSearchCV\n",
    "from sklearn.model_selection import train_test_split\n",
    "from sklearn.metrics import classification_report, confusion_matrix"
   ]
  },
  {
   "cell_type": "code",
   "execution_count": 18,
   "id": "311e51b9",
   "metadata": {},
   "outputs": [
    {
     "data": {
      "text/plain": [
       "81.8586111111111"
      ]
     },
     "execution_count": 18,
     "metadata": {},
     "output_type": "execute_result"
    }
   ],
   "source": [
    "# hours in features_v1\n",
    "(features_v1.index[-1] - features_v1.index[0]).total_seconds() / 60 / 60"
   ]
  },
  {
   "cell_type": "code",
   "execution_count": 19,
   "id": "3c7aa18a",
   "metadata": {},
   "outputs": [],
   "source": [
    "model_train_data = features_v1.dropna()\n",
    "train_X, test_X, train_y, test_y = train_test_split(model_train_data.drop('Simple.Sleep.Code', axis=1),\n",
    "                                                    model_train_data['Simple.Sleep.Code'],\n",
    "                                                    test_size=0.50, shuffle=False)"
   ]
  },
  {
   "cell_type": "markdown",
   "id": "812a2ff0",
   "metadata": {},
   "source": [
    "<a id='svm_classifier'></a>\n",
    "\n",
    "## SVC (support vector machine classifier)"
   ]
  },
  {
   "cell_type": "code",
   "execution_count": null,
   "id": "306be2a9",
   "metadata": {},
   "outputs": [],
   "source": [
    "param_grid = {'C': [0.1,1, 10], 'gamma': [1,0.1,0.01,0.001,0.0001],'kernel': ['rbf']} # kernel: 'sigmoid', 'poly' excluded\n",
    "grid = GridSearchCV(SVC(),param_grid,cv=2,refit=True,verbose=2,scoring='f1_weighted',n_jobs=8)\n",
    "grid.fit(train_X,train_y)"
   ]
  },
  {
   "cell_type": "code",
   "execution_count": 22,
   "id": "be6b78b7",
   "metadata": {},
   "outputs": [
    {
     "name": "stdout",
     "output_type": "stream",
     "text": [
      "{'C': 0.1, 'gamma': 0.0001, 'kernel': 'rbf'}\n"
     ]
    }
   ],
   "source": [
    "print(grid.best_params_)"
   ]
  },
  {
   "cell_type": "code",
   "execution_count": null,
   "id": "b9bb5ea1",
   "metadata": {},
   "outputs": [],
   "source": [
    "best_params = {'C': 0.1, 'gamma': 0.0001, 'kernel': 'rbf'}"
   ]
  },
  {
   "cell_type": "code",
   "execution_count": 20,
   "id": "bca73db8",
   "metadata": {},
   "outputs": [],
   "source": [
    "model_svc = SVC(**best_params, n_jobs=8)"
   ]
  },
  {
   "cell_type": "code",
   "execution_count": 23,
   "id": "d8917499",
   "metadata": {},
   "outputs": [],
   "source": [
    "def print_model_stats(model, data):\n",
    "    train_X, test_X, train_y, test_y = train_test_split(data.drop('Simple.Sleep.Code', axis=1),\n",
    "                                                        data['Simple.Sleep.Code'],\n",
    "                                                        test_size=0.50, shuffle=False)\n",
    "    from IPython.display import display, HTML\n",
    "    model.fit(train_X, train_y)\n",
    "    preds = model.predict(test_X)\n",
    "    print('Accuracy:')\n",
    "    print(np.mean(preds == test_y))\n",
    "    print()\n",
    "    \n",
    "    print('Actual Target Dist')\n",
    "    print(test_y.value_counts(normalize=True).sort_index())\n",
    "    print()\n",
    "    \n",
    "    print('Prediction Target Dist')\n",
    "    print(pd.Series(preds).value_counts(normalize=True).sort_index())\n",
    "    print()\n",
    "    \n",
    "    labels=['Active Waking', 'Quiet Waking', 'Drowsiness', 'SWS', 'REM', 'Unscorable']\n",
    "    display(pd.DataFrame(\n",
    "        confusion_matrix(test_y, preds),\n",
    "        index=[f'True_{x}' for x in labels],\n",
    "        columns=[f'Predicted_{x}' for x in labels]\n",
    "    ))"
   ]
  },
  {
   "cell_type": "code",
   "execution_count": 24,
   "id": "96f65feb",
   "metadata": {},
   "outputs": [
    {
     "name": "stdout",
     "output_type": "stream",
     "text": [
      "Accuracy:\n",
      "0.5756532252039313\n",
      "\n",
      "Actual Target Dist\n",
      "Simple.Sleep.Code\n",
      "Active Waking    0.597775\n",
      "Drowsiness       0.034062\n",
      "Quiet Waking     0.123282\n",
      "REM              0.051898\n",
      "SWS              0.160428\n",
      "Unscorable       0.032554\n",
      "Name: proportion, dtype: float64\n",
      "\n",
      "Prediction Target Dist\n",
      "Active Waking    0.458422\n",
      "Drowsiness       0.116389\n",
      "Quiet Waking     0.070474\n",
      "REM              0.163390\n",
      "SWS              0.190558\n",
      "Unscorable       0.000768\n",
      "Name: proportion, dtype: float64\n",
      "\n"
     ]
    },
    {
     "data": {
      "text/html": [
       "<div>\n",
       "<style scoped>\n",
       "    .dataframe tbody tr th:only-of-type {\n",
       "        vertical-align: middle;\n",
       "    }\n",
       "\n",
       "    .dataframe tbody tr th {\n",
       "        vertical-align: top;\n",
       "    }\n",
       "\n",
       "    .dataframe thead th {\n",
       "        text-align: right;\n",
       "    }\n",
       "</style>\n",
       "<table border=\"1\" class=\"dataframe\">\n",
       "  <thead>\n",
       "    <tr style=\"text-align: right;\">\n",
       "      <th></th>\n",
       "      <th>Predicted_Active Waking</th>\n",
       "      <th>Predicted_Quiet Waking</th>\n",
       "      <th>Predicted_Drowsiness</th>\n",
       "      <th>Predicted_SWS</th>\n",
       "      <th>Predicted_REM</th>\n",
       "      <th>Predicted_Unscorable</th>\n",
       "    </tr>\n",
       "  </thead>\n",
       "  <tbody>\n",
       "    <tr>\n",
       "      <th>True_Active Waking</th>\n",
       "      <td>61821</td>\n",
       "      <td>4723</td>\n",
       "      <td>2883</td>\n",
       "      <td>6012</td>\n",
       "      <td>12557</td>\n",
       "      <td>15</td>\n",
       "    </tr>\n",
       "    <tr>\n",
       "      <th>True_Quiet Waking</th>\n",
       "      <td>376</td>\n",
       "      <td>1892</td>\n",
       "      <td>1272</td>\n",
       "      <td>517</td>\n",
       "      <td>958</td>\n",
       "      <td>0</td>\n",
       "    </tr>\n",
       "    <tr>\n",
       "      <th>True_Drowsiness</th>\n",
       "      <td>914</td>\n",
       "      <td>2925</td>\n",
       "      <td>3651</td>\n",
       "      <td>10109</td>\n",
       "      <td>552</td>\n",
       "      <td>0</td>\n",
       "    </tr>\n",
       "    <tr>\n",
       "      <th>True_SWS</th>\n",
       "      <td>111</td>\n",
       "      <td>1317</td>\n",
       "      <td>1740</td>\n",
       "      <td>4284</td>\n",
       "      <td>189</td>\n",
       "      <td>0</td>\n",
       "    </tr>\n",
       "    <tr>\n",
       "      <th>True_REM</th>\n",
       "      <td>1144</td>\n",
       "      <td>6045</td>\n",
       "      <td>774</td>\n",
       "      <td>2649</td>\n",
       "      <td>13008</td>\n",
       "      <td>0</td>\n",
       "    </tr>\n",
       "    <tr>\n",
       "      <th>True_Unscorable</th>\n",
       "      <td>3128</td>\n",
       "      <td>234</td>\n",
       "      <td>56</td>\n",
       "      <td>485</td>\n",
       "      <td>792</td>\n",
       "      <td>98</td>\n",
       "    </tr>\n",
       "  </tbody>\n",
       "</table>\n",
       "</div>"
      ],
      "text/plain": [
       "                    Predicted_Active Waking  Predicted_Quiet Waking  \\\n",
       "True_Active Waking                    61821                    4723   \n",
       "True_Quiet Waking                       376                    1892   \n",
       "True_Drowsiness                         914                    2925   \n",
       "True_SWS                                111                    1317   \n",
       "True_REM                               1144                    6045   \n",
       "True_Unscorable                        3128                     234   \n",
       "\n",
       "                    Predicted_Drowsiness  Predicted_SWS  Predicted_REM  \\\n",
       "True_Active Waking                  2883           6012          12557   \n",
       "True_Quiet Waking                   1272            517            958   \n",
       "True_Drowsiness                     3651          10109            552   \n",
       "True_SWS                            1740           4284            189   \n",
       "True_REM                             774           2649          13008   \n",
       "True_Unscorable                       56            485            792   \n",
       "\n",
       "                    Predicted_Unscorable  \n",
       "True_Active Waking                    15  \n",
       "True_Quiet Waking                      0  \n",
       "True_Drowsiness                        0  \n",
       "True_SWS                               0  \n",
       "True_REM                               0  \n",
       "True_Unscorable                       98  "
      ]
     },
     "metadata": {},
     "output_type": "display_data"
    }
   ],
   "source": [
    "print_model_stats(model_svc, model_train_data)"
   ]
  },
  {
   "cell_type": "code",
   "execution_count": 25,
   "id": "fd586426",
   "metadata": {},
   "outputs": [
    {
     "data": {
      "text/html": [
       "<style>#sk-container-id-1 {color: black;background-color: white;}#sk-container-id-1 pre{padding: 0;}#sk-container-id-1 div.sk-toggleable {background-color: white;}#sk-container-id-1 label.sk-toggleable__label {cursor: pointer;display: block;width: 100%;margin-bottom: 0;padding: 0.3em;box-sizing: border-box;text-align: center;}#sk-container-id-1 label.sk-toggleable__label-arrow:before {content: \"▸\";float: left;margin-right: 0.25em;color: #696969;}#sk-container-id-1 label.sk-toggleable__label-arrow:hover:before {color: black;}#sk-container-id-1 div.sk-estimator:hover label.sk-toggleable__label-arrow:before {color: black;}#sk-container-id-1 div.sk-toggleable__content {max-height: 0;max-width: 0;overflow: hidden;text-align: left;background-color: #f0f8ff;}#sk-container-id-1 div.sk-toggleable__content pre {margin: 0.2em;color: black;border-radius: 0.25em;background-color: #f0f8ff;}#sk-container-id-1 input.sk-toggleable__control:checked~div.sk-toggleable__content {max-height: 200px;max-width: 100%;overflow: auto;}#sk-container-id-1 input.sk-toggleable__control:checked~label.sk-toggleable__label-arrow:before {content: \"▾\";}#sk-container-id-1 div.sk-estimator input.sk-toggleable__control:checked~label.sk-toggleable__label {background-color: #d4ebff;}#sk-container-id-1 div.sk-label input.sk-toggleable__control:checked~label.sk-toggleable__label {background-color: #d4ebff;}#sk-container-id-1 input.sk-hidden--visually {border: 0;clip: rect(1px 1px 1px 1px);clip: rect(1px, 1px, 1px, 1px);height: 1px;margin: -1px;overflow: hidden;padding: 0;position: absolute;width: 1px;}#sk-container-id-1 div.sk-estimator {font-family: monospace;background-color: #f0f8ff;border: 1px dotted black;border-radius: 0.25em;box-sizing: border-box;margin-bottom: 0.5em;}#sk-container-id-1 div.sk-estimator:hover {background-color: #d4ebff;}#sk-container-id-1 div.sk-parallel-item::after {content: \"\";width: 100%;border-bottom: 1px solid gray;flex-grow: 1;}#sk-container-id-1 div.sk-label:hover label.sk-toggleable__label {background-color: #d4ebff;}#sk-container-id-1 div.sk-serial::before {content: \"\";position: absolute;border-left: 1px solid gray;box-sizing: border-box;top: 0;bottom: 0;left: 50%;z-index: 0;}#sk-container-id-1 div.sk-serial {display: flex;flex-direction: column;align-items: center;background-color: white;padding-right: 0.2em;padding-left: 0.2em;position: relative;}#sk-container-id-1 div.sk-item {position: relative;z-index: 1;}#sk-container-id-1 div.sk-parallel {display: flex;align-items: stretch;justify-content: center;background-color: white;position: relative;}#sk-container-id-1 div.sk-item::before, #sk-container-id-1 div.sk-parallel-item::before {content: \"\";position: absolute;border-left: 1px solid gray;box-sizing: border-box;top: 0;bottom: 0;left: 50%;z-index: -1;}#sk-container-id-1 div.sk-parallel-item {display: flex;flex-direction: column;z-index: 1;position: relative;background-color: white;}#sk-container-id-1 div.sk-parallel-item:first-child::after {align-self: flex-end;width: 50%;}#sk-container-id-1 div.sk-parallel-item:last-child::after {align-self: flex-start;width: 50%;}#sk-container-id-1 div.sk-parallel-item:only-child::after {width: 0;}#sk-container-id-1 div.sk-dashed-wrapped {border: 1px dashed gray;margin: 0 0.4em 0.5em 0.4em;box-sizing: border-box;padding-bottom: 0.4em;background-color: white;}#sk-container-id-1 div.sk-label label {font-family: monospace;font-weight: bold;display: inline-block;line-height: 1.2em;}#sk-container-id-1 div.sk-label-container {text-align: center;}#sk-container-id-1 div.sk-container {/* jupyter's `normalize.less` sets `[hidden] { display: none; }` but bootstrap.min.css set `[hidden] { display: none !important; }` so we also need the `!important` here to be able to override the default hidden behavior on the sphinx rendered scikit-learn.org. See: https://github.com/scikit-learn/scikit-learn/issues/21755 */display: inline-block !important;position: relative;}#sk-container-id-1 div.sk-text-repr-fallback {display: none;}</style><div id=\"sk-container-id-1\" class=\"sk-top-container\"><div class=\"sk-text-repr-fallback\"><pre>SVC(C=0.1, gamma=0.0001)</pre><b>In a Jupyter environment, please rerun this cell to show the HTML representation or trust the notebook. <br />On GitHub, the HTML representation is unable to render, please try loading this page with nbviewer.org.</b></div><div class=\"sk-container\" hidden><div class=\"sk-item\"><div class=\"sk-estimator sk-toggleable\"><input class=\"sk-toggleable__control sk-hidden--visually\" id=\"sk-estimator-id-1\" type=\"checkbox\" checked><label for=\"sk-estimator-id-1\" class=\"sk-toggleable__label sk-toggleable__label-arrow\">SVC</label><div class=\"sk-toggleable__content\"><pre>SVC(C=0.1, gamma=0.0001)</pre></div></div></div></div></div>"
      ],
      "text/plain": [
       "SVC(C=0.1, gamma=0.0001)"
      ]
     },
     "execution_count": 25,
     "metadata": {},
     "output_type": "execute_result"
    }
   ],
   "source": [
    "model_svc.fit(train_X, train_y)"
   ]
  },
  {
   "cell_type": "code",
   "execution_count": 26,
   "id": "60034710",
   "metadata": {},
   "outputs": [],
   "source": [
    "preds_svc_test = model_svc.predict(test_X)"
   ]
  },
  {
   "cell_type": "code",
   "execution_count": 27,
   "id": "d5f4bf31",
   "metadata": {},
   "outputs": [
    {
     "data": {
      "text/html": [
       "<style>#sk-container-id-2 {color: black;background-color: white;}#sk-container-id-2 pre{padding: 0;}#sk-container-id-2 div.sk-toggleable {background-color: white;}#sk-container-id-2 label.sk-toggleable__label {cursor: pointer;display: block;width: 100%;margin-bottom: 0;padding: 0.3em;box-sizing: border-box;text-align: center;}#sk-container-id-2 label.sk-toggleable__label-arrow:before {content: \"▸\";float: left;margin-right: 0.25em;color: #696969;}#sk-container-id-2 label.sk-toggleable__label-arrow:hover:before {color: black;}#sk-container-id-2 div.sk-estimator:hover label.sk-toggleable__label-arrow:before {color: black;}#sk-container-id-2 div.sk-toggleable__content {max-height: 0;max-width: 0;overflow: hidden;text-align: left;background-color: #f0f8ff;}#sk-container-id-2 div.sk-toggleable__content pre {margin: 0.2em;color: black;border-radius: 0.25em;background-color: #f0f8ff;}#sk-container-id-2 input.sk-toggleable__control:checked~div.sk-toggleable__content {max-height: 200px;max-width: 100%;overflow: auto;}#sk-container-id-2 input.sk-toggleable__control:checked~label.sk-toggleable__label-arrow:before {content: \"▾\";}#sk-container-id-2 div.sk-estimator input.sk-toggleable__control:checked~label.sk-toggleable__label {background-color: #d4ebff;}#sk-container-id-2 div.sk-label input.sk-toggleable__control:checked~label.sk-toggleable__label {background-color: #d4ebff;}#sk-container-id-2 input.sk-hidden--visually {border: 0;clip: rect(1px 1px 1px 1px);clip: rect(1px, 1px, 1px, 1px);height: 1px;margin: -1px;overflow: hidden;padding: 0;position: absolute;width: 1px;}#sk-container-id-2 div.sk-estimator {font-family: monospace;background-color: #f0f8ff;border: 1px dotted black;border-radius: 0.25em;box-sizing: border-box;margin-bottom: 0.5em;}#sk-container-id-2 div.sk-estimator:hover {background-color: #d4ebff;}#sk-container-id-2 div.sk-parallel-item::after {content: \"\";width: 100%;border-bottom: 1px solid gray;flex-grow: 1;}#sk-container-id-2 div.sk-label:hover label.sk-toggleable__label {background-color: #d4ebff;}#sk-container-id-2 div.sk-serial::before {content: \"\";position: absolute;border-left: 1px solid gray;box-sizing: border-box;top: 0;bottom: 0;left: 50%;z-index: 0;}#sk-container-id-2 div.sk-serial {display: flex;flex-direction: column;align-items: center;background-color: white;padding-right: 0.2em;padding-left: 0.2em;position: relative;}#sk-container-id-2 div.sk-item {position: relative;z-index: 1;}#sk-container-id-2 div.sk-parallel {display: flex;align-items: stretch;justify-content: center;background-color: white;position: relative;}#sk-container-id-2 div.sk-item::before, #sk-container-id-2 div.sk-parallel-item::before {content: \"\";position: absolute;border-left: 1px solid gray;box-sizing: border-box;top: 0;bottom: 0;left: 50%;z-index: -1;}#sk-container-id-2 div.sk-parallel-item {display: flex;flex-direction: column;z-index: 1;position: relative;background-color: white;}#sk-container-id-2 div.sk-parallel-item:first-child::after {align-self: flex-end;width: 50%;}#sk-container-id-2 div.sk-parallel-item:last-child::after {align-self: flex-start;width: 50%;}#sk-container-id-2 div.sk-parallel-item:only-child::after {width: 0;}#sk-container-id-2 div.sk-dashed-wrapped {border: 1px dashed gray;margin: 0 0.4em 0.5em 0.4em;box-sizing: border-box;padding-bottom: 0.4em;background-color: white;}#sk-container-id-2 div.sk-label label {font-family: monospace;font-weight: bold;display: inline-block;line-height: 1.2em;}#sk-container-id-2 div.sk-label-container {text-align: center;}#sk-container-id-2 div.sk-container {/* jupyter's `normalize.less` sets `[hidden] { display: none; }` but bootstrap.min.css set `[hidden] { display: none !important; }` so we also need the `!important` here to be able to override the default hidden behavior on the sphinx rendered scikit-learn.org. See: https://github.com/scikit-learn/scikit-learn/issues/21755 */display: inline-block !important;position: relative;}#sk-container-id-2 div.sk-text-repr-fallback {display: none;}</style><div id=\"sk-container-id-2\" class=\"sk-top-container\"><div class=\"sk-text-repr-fallback\"><pre>SVC(C=0.1, gamma=0.0001)</pre><b>In a Jupyter environment, please rerun this cell to show the HTML representation or trust the notebook. <br />On GitHub, the HTML representation is unable to render, please try loading this page with nbviewer.org.</b></div><div class=\"sk-container\" hidden><div class=\"sk-item\"><div class=\"sk-estimator sk-toggleable\"><input class=\"sk-toggleable__control sk-hidden--visually\" id=\"sk-estimator-id-2\" type=\"checkbox\" checked><label for=\"sk-estimator-id-2\" class=\"sk-toggleable__label sk-toggleable__label-arrow\">SVC</label><div class=\"sk-toggleable__content\"><pre>SVC(C=0.1, gamma=0.0001)</pre></div></div></div></div></div>"
      ],
      "text/plain": [
       "SVC(C=0.1, gamma=0.0001)"
      ]
     },
     "execution_count": 27,
     "metadata": {},
     "output_type": "execute_result"
    }
   ],
   "source": [
    "model_svc.fit(test_X, test_y)"
   ]
  },
  {
   "cell_type": "code",
   "execution_count": 28,
   "id": "f315bd91",
   "metadata": {},
   "outputs": [],
   "source": [
    "preds_svc_train = model_svc.predict(train_X)"
   ]
  },
  {
   "cell_type": "markdown",
   "id": "5a6f6ac9",
   "metadata": {},
   "source": [
    "<a id='k-nearest-neighbors'></a>\n",
    "\n",
    "## K Nearest Neighbors"
   ]
  },
  {
   "cell_type": "code",
   "execution_count": null,
   "id": "7109d12d",
   "metadata": {},
   "outputs": [],
   "source": [
    "param_grid = {\n",
    "    'n_neighbors': [10,20,40,100,200],\n",
    "    'p': [1,2,3],\n",
    "    'weights': ('uniform', 'distance'),\n",
    "    'metric': ('minkowski', 'chebyshev')\n",
    "}\n",
    "grid = GridSearchCV(KNeighborsClassifier(),param_grid,cv=2,refit=True,verbose=2,n_jobs=8,scoring='f1_weighted')\n",
    "grid.fit(train_X,train_y)"
   ]
  },
  {
   "cell_type": "code",
   "execution_count": 30,
   "id": "1ec7e995",
   "metadata": {},
   "outputs": [
    {
     "name": "stdout",
     "output_type": "stream",
     "text": [
      "{'metric': 'minkowski', 'n_neighbors': 200, 'p': 3, 'weights': 'distance'}\n"
     ]
    }
   ],
   "source": [
    "print(grid.best_params_)"
   ]
  },
  {
   "cell_type": "code",
   "execution_count": 31,
   "id": "c4459459",
   "metadata": {},
   "outputs": [],
   "source": [
    "best_params = {'metric': 'minkowski', 'n_neighbors': 200, 'p': 3, 'weights': 'distance'}"
   ]
  },
  {
   "cell_type": "code",
   "execution_count": 32,
   "id": "01ee4d97",
   "metadata": {},
   "outputs": [],
   "source": [
    "model_knn = KNeighborsClassifier(**best_params, n_jobs=8)"
   ]
  },
  {
   "cell_type": "code",
   "execution_count": 33,
   "id": "9a787685",
   "metadata": {},
   "outputs": [
    {
     "name": "stdout",
     "output_type": "stream",
     "text": [
      "Accuracy:\n",
      "0.568460446509227\n",
      "\n",
      "Actual Target Dist\n",
      "Simple.Sleep.Code\n",
      "Active Waking    0.597775\n",
      "Drowsiness       0.034062\n",
      "Quiet Waking     0.123282\n",
      "REM              0.051898\n",
      "SWS              0.160428\n",
      "Unscorable       0.032554\n",
      "Name: proportion, dtype: float64\n",
      "\n",
      "Prediction Target Dist\n",
      "Active Waking    0.446204\n",
      "Drowsiness       0.073504\n",
      "Quiet Waking     0.113753\n",
      "REM              0.171757\n",
      "SWS              0.193988\n",
      "Unscorable       0.000795\n",
      "Name: proportion, dtype: float64\n",
      "\n"
     ]
    },
    {
     "data": {
      "text/html": [
       "<div>\n",
       "<style scoped>\n",
       "    .dataframe tbody tr th:only-of-type {\n",
       "        vertical-align: middle;\n",
       "    }\n",
       "\n",
       "    .dataframe tbody tr th {\n",
       "        vertical-align: top;\n",
       "    }\n",
       "\n",
       "    .dataframe thead th {\n",
       "        text-align: right;\n",
       "    }\n",
       "</style>\n",
       "<table border=\"1\" class=\"dataframe\">\n",
       "  <thead>\n",
       "    <tr style=\"text-align: right;\">\n",
       "      <th></th>\n",
       "      <th>Predicted_Active Waking</th>\n",
       "      <th>Predicted_Quiet Waking</th>\n",
       "      <th>Predicted_Drowsiness</th>\n",
       "      <th>Predicted_SWS</th>\n",
       "      <th>Predicted_REM</th>\n",
       "      <th>Predicted_Unscorable</th>\n",
       "    </tr>\n",
       "  </thead>\n",
       "  <tbody>\n",
       "    <tr>\n",
       "      <th>True_Active Waking</th>\n",
       "      <td>59991</td>\n",
       "      <td>2328</td>\n",
       "      <td>7584</td>\n",
       "      <td>6197</td>\n",
       "      <td>11871</td>\n",
       "      <td>40</td>\n",
       "    </tr>\n",
       "    <tr>\n",
       "      <th>True_Quiet Waking</th>\n",
       "      <td>681</td>\n",
       "      <td>1765</td>\n",
       "      <td>811</td>\n",
       "      <td>557</td>\n",
       "      <td>1201</td>\n",
       "      <td>0</td>\n",
       "    </tr>\n",
       "    <tr>\n",
       "      <th>True_Drowsiness</th>\n",
       "      <td>1238</td>\n",
       "      <td>2247</td>\n",
       "      <td>3987</td>\n",
       "      <td>9766</td>\n",
       "      <td>913</td>\n",
       "      <td>0</td>\n",
       "    </tr>\n",
       "    <tr>\n",
       "      <th>True_SWS</th>\n",
       "      <td>49</td>\n",
       "      <td>896</td>\n",
       "      <td>2030</td>\n",
       "      <td>4340</td>\n",
       "      <td>326</td>\n",
       "      <td>0</td>\n",
       "    </tr>\n",
       "    <tr>\n",
       "      <th>True_REM</th>\n",
       "      <td>677</td>\n",
       "      <td>3464</td>\n",
       "      <td>2010</td>\n",
       "      <td>3934</td>\n",
       "      <td>13535</td>\n",
       "      <td>0</td>\n",
       "    </tr>\n",
       "    <tr>\n",
       "      <th>True_Unscorable</th>\n",
       "      <td>3059</td>\n",
       "      <td>122</td>\n",
       "      <td>326</td>\n",
       "      <td>494</td>\n",
       "      <td>715</td>\n",
       "      <td>77</td>\n",
       "    </tr>\n",
       "  </tbody>\n",
       "</table>\n",
       "</div>"
      ],
      "text/plain": [
       "                    Predicted_Active Waking  Predicted_Quiet Waking  \\\n",
       "True_Active Waking                    59991                    2328   \n",
       "True_Quiet Waking                       681                    1765   \n",
       "True_Drowsiness                        1238                    2247   \n",
       "True_SWS                                 49                     896   \n",
       "True_REM                                677                    3464   \n",
       "True_Unscorable                        3059                     122   \n",
       "\n",
       "                    Predicted_Drowsiness  Predicted_SWS  Predicted_REM  \\\n",
       "True_Active Waking                  7584           6197          11871   \n",
       "True_Quiet Waking                    811            557           1201   \n",
       "True_Drowsiness                     3987           9766            913   \n",
       "True_SWS                            2030           4340            326   \n",
       "True_REM                            2010           3934          13535   \n",
       "True_Unscorable                      326            494            715   \n",
       "\n",
       "                    Predicted_Unscorable  \n",
       "True_Active Waking                    40  \n",
       "True_Quiet Waking                      0  \n",
       "True_Drowsiness                        0  \n",
       "True_SWS                               0  \n",
       "True_REM                               0  \n",
       "True_Unscorable                       77  "
      ]
     },
     "metadata": {},
     "output_type": "display_data"
    }
   ],
   "source": [
    "print_model_stats(model_knn, model_train_data)"
   ]
  },
  {
   "cell_type": "code",
   "execution_count": 34,
   "id": "781c254a",
   "metadata": {},
   "outputs": [
    {
     "data": {
      "text/html": [
       "<style>#sk-container-id-4 {color: black;background-color: white;}#sk-container-id-4 pre{padding: 0;}#sk-container-id-4 div.sk-toggleable {background-color: white;}#sk-container-id-4 label.sk-toggleable__label {cursor: pointer;display: block;width: 100%;margin-bottom: 0;padding: 0.3em;box-sizing: border-box;text-align: center;}#sk-container-id-4 label.sk-toggleable__label-arrow:before {content: \"▸\";float: left;margin-right: 0.25em;color: #696969;}#sk-container-id-4 label.sk-toggleable__label-arrow:hover:before {color: black;}#sk-container-id-4 div.sk-estimator:hover label.sk-toggleable__label-arrow:before {color: black;}#sk-container-id-4 div.sk-toggleable__content {max-height: 0;max-width: 0;overflow: hidden;text-align: left;background-color: #f0f8ff;}#sk-container-id-4 div.sk-toggleable__content pre {margin: 0.2em;color: black;border-radius: 0.25em;background-color: #f0f8ff;}#sk-container-id-4 input.sk-toggleable__control:checked~div.sk-toggleable__content {max-height: 200px;max-width: 100%;overflow: auto;}#sk-container-id-4 input.sk-toggleable__control:checked~label.sk-toggleable__label-arrow:before {content: \"▾\";}#sk-container-id-4 div.sk-estimator input.sk-toggleable__control:checked~label.sk-toggleable__label {background-color: #d4ebff;}#sk-container-id-4 div.sk-label input.sk-toggleable__control:checked~label.sk-toggleable__label {background-color: #d4ebff;}#sk-container-id-4 input.sk-hidden--visually {border: 0;clip: rect(1px 1px 1px 1px);clip: rect(1px, 1px, 1px, 1px);height: 1px;margin: -1px;overflow: hidden;padding: 0;position: absolute;width: 1px;}#sk-container-id-4 div.sk-estimator {font-family: monospace;background-color: #f0f8ff;border: 1px dotted black;border-radius: 0.25em;box-sizing: border-box;margin-bottom: 0.5em;}#sk-container-id-4 div.sk-estimator:hover {background-color: #d4ebff;}#sk-container-id-4 div.sk-parallel-item::after {content: \"\";width: 100%;border-bottom: 1px solid gray;flex-grow: 1;}#sk-container-id-4 div.sk-label:hover label.sk-toggleable__label {background-color: #d4ebff;}#sk-container-id-4 div.sk-serial::before {content: \"\";position: absolute;border-left: 1px solid gray;box-sizing: border-box;top: 0;bottom: 0;left: 50%;z-index: 0;}#sk-container-id-4 div.sk-serial {display: flex;flex-direction: column;align-items: center;background-color: white;padding-right: 0.2em;padding-left: 0.2em;position: relative;}#sk-container-id-4 div.sk-item {position: relative;z-index: 1;}#sk-container-id-4 div.sk-parallel {display: flex;align-items: stretch;justify-content: center;background-color: white;position: relative;}#sk-container-id-4 div.sk-item::before, #sk-container-id-4 div.sk-parallel-item::before {content: \"\";position: absolute;border-left: 1px solid gray;box-sizing: border-box;top: 0;bottom: 0;left: 50%;z-index: -1;}#sk-container-id-4 div.sk-parallel-item {display: flex;flex-direction: column;z-index: 1;position: relative;background-color: white;}#sk-container-id-4 div.sk-parallel-item:first-child::after {align-self: flex-end;width: 50%;}#sk-container-id-4 div.sk-parallel-item:last-child::after {align-self: flex-start;width: 50%;}#sk-container-id-4 div.sk-parallel-item:only-child::after {width: 0;}#sk-container-id-4 div.sk-dashed-wrapped {border: 1px dashed gray;margin: 0 0.4em 0.5em 0.4em;box-sizing: border-box;padding-bottom: 0.4em;background-color: white;}#sk-container-id-4 div.sk-label label {font-family: monospace;font-weight: bold;display: inline-block;line-height: 1.2em;}#sk-container-id-4 div.sk-label-container {text-align: center;}#sk-container-id-4 div.sk-container {/* jupyter's `normalize.less` sets `[hidden] { display: none; }` but bootstrap.min.css set `[hidden] { display: none !important; }` so we also need the `!important` here to be able to override the default hidden behavior on the sphinx rendered scikit-learn.org. See: https://github.com/scikit-learn/scikit-learn/issues/21755 */display: inline-block !important;position: relative;}#sk-container-id-4 div.sk-text-repr-fallback {display: none;}</style><div id=\"sk-container-id-4\" class=\"sk-top-container\"><div class=\"sk-text-repr-fallback\"><pre>KNeighborsClassifier(n_jobs=8, n_neighbors=200, p=3, weights=&#x27;distance&#x27;)</pre><b>In a Jupyter environment, please rerun this cell to show the HTML representation or trust the notebook. <br />On GitHub, the HTML representation is unable to render, please try loading this page with nbviewer.org.</b></div><div class=\"sk-container\" hidden><div class=\"sk-item\"><div class=\"sk-estimator sk-toggleable\"><input class=\"sk-toggleable__control sk-hidden--visually\" id=\"sk-estimator-id-6\" type=\"checkbox\" checked><label for=\"sk-estimator-id-6\" class=\"sk-toggleable__label sk-toggleable__label-arrow\">KNeighborsClassifier</label><div class=\"sk-toggleable__content\"><pre>KNeighborsClassifier(n_jobs=8, n_neighbors=200, p=3, weights=&#x27;distance&#x27;)</pre></div></div></div></div></div>"
      ],
      "text/plain": [
       "KNeighborsClassifier(n_jobs=8, n_neighbors=200, p=3, weights='distance')"
      ]
     },
     "execution_count": 34,
     "metadata": {},
     "output_type": "execute_result"
    }
   ],
   "source": [
    "model_knn.fit(train_X, train_y)"
   ]
  },
  {
   "cell_type": "code",
   "execution_count": 35,
   "id": "2eda4b7b",
   "metadata": {},
   "outputs": [],
   "source": [
    "preds_knn_test = model_knn.predict(test_X)"
   ]
  },
  {
   "cell_type": "code",
   "execution_count": 36,
   "id": "c898b2ef",
   "metadata": {},
   "outputs": [
    {
     "data": {
      "text/html": [
       "<style>#sk-container-id-5 {color: black;background-color: white;}#sk-container-id-5 pre{padding: 0;}#sk-container-id-5 div.sk-toggleable {background-color: white;}#sk-container-id-5 label.sk-toggleable__label {cursor: pointer;display: block;width: 100%;margin-bottom: 0;padding: 0.3em;box-sizing: border-box;text-align: center;}#sk-container-id-5 label.sk-toggleable__label-arrow:before {content: \"▸\";float: left;margin-right: 0.25em;color: #696969;}#sk-container-id-5 label.sk-toggleable__label-arrow:hover:before {color: black;}#sk-container-id-5 div.sk-estimator:hover label.sk-toggleable__label-arrow:before {color: black;}#sk-container-id-5 div.sk-toggleable__content {max-height: 0;max-width: 0;overflow: hidden;text-align: left;background-color: #f0f8ff;}#sk-container-id-5 div.sk-toggleable__content pre {margin: 0.2em;color: black;border-radius: 0.25em;background-color: #f0f8ff;}#sk-container-id-5 input.sk-toggleable__control:checked~div.sk-toggleable__content {max-height: 200px;max-width: 100%;overflow: auto;}#sk-container-id-5 input.sk-toggleable__control:checked~label.sk-toggleable__label-arrow:before {content: \"▾\";}#sk-container-id-5 div.sk-estimator input.sk-toggleable__control:checked~label.sk-toggleable__label {background-color: #d4ebff;}#sk-container-id-5 div.sk-label input.sk-toggleable__control:checked~label.sk-toggleable__label {background-color: #d4ebff;}#sk-container-id-5 input.sk-hidden--visually {border: 0;clip: rect(1px 1px 1px 1px);clip: rect(1px, 1px, 1px, 1px);height: 1px;margin: -1px;overflow: hidden;padding: 0;position: absolute;width: 1px;}#sk-container-id-5 div.sk-estimator {font-family: monospace;background-color: #f0f8ff;border: 1px dotted black;border-radius: 0.25em;box-sizing: border-box;margin-bottom: 0.5em;}#sk-container-id-5 div.sk-estimator:hover {background-color: #d4ebff;}#sk-container-id-5 div.sk-parallel-item::after {content: \"\";width: 100%;border-bottom: 1px solid gray;flex-grow: 1;}#sk-container-id-5 div.sk-label:hover label.sk-toggleable__label {background-color: #d4ebff;}#sk-container-id-5 div.sk-serial::before {content: \"\";position: absolute;border-left: 1px solid gray;box-sizing: border-box;top: 0;bottom: 0;left: 50%;z-index: 0;}#sk-container-id-5 div.sk-serial {display: flex;flex-direction: column;align-items: center;background-color: white;padding-right: 0.2em;padding-left: 0.2em;position: relative;}#sk-container-id-5 div.sk-item {position: relative;z-index: 1;}#sk-container-id-5 div.sk-parallel {display: flex;align-items: stretch;justify-content: center;background-color: white;position: relative;}#sk-container-id-5 div.sk-item::before, #sk-container-id-5 div.sk-parallel-item::before {content: \"\";position: absolute;border-left: 1px solid gray;box-sizing: border-box;top: 0;bottom: 0;left: 50%;z-index: -1;}#sk-container-id-5 div.sk-parallel-item {display: flex;flex-direction: column;z-index: 1;position: relative;background-color: white;}#sk-container-id-5 div.sk-parallel-item:first-child::after {align-self: flex-end;width: 50%;}#sk-container-id-5 div.sk-parallel-item:last-child::after {align-self: flex-start;width: 50%;}#sk-container-id-5 div.sk-parallel-item:only-child::after {width: 0;}#sk-container-id-5 div.sk-dashed-wrapped {border: 1px dashed gray;margin: 0 0.4em 0.5em 0.4em;box-sizing: border-box;padding-bottom: 0.4em;background-color: white;}#sk-container-id-5 div.sk-label label {font-family: monospace;font-weight: bold;display: inline-block;line-height: 1.2em;}#sk-container-id-5 div.sk-label-container {text-align: center;}#sk-container-id-5 div.sk-container {/* jupyter's `normalize.less` sets `[hidden] { display: none; }` but bootstrap.min.css set `[hidden] { display: none !important; }` so we also need the `!important` here to be able to override the default hidden behavior on the sphinx rendered scikit-learn.org. See: https://github.com/scikit-learn/scikit-learn/issues/21755 */display: inline-block !important;position: relative;}#sk-container-id-5 div.sk-text-repr-fallback {display: none;}</style><div id=\"sk-container-id-5\" class=\"sk-top-container\"><div class=\"sk-text-repr-fallback\"><pre>KNeighborsClassifier(n_jobs=8, n_neighbors=200, p=3, weights=&#x27;distance&#x27;)</pre><b>In a Jupyter environment, please rerun this cell to show the HTML representation or trust the notebook. <br />On GitHub, the HTML representation is unable to render, please try loading this page with nbviewer.org.</b></div><div class=\"sk-container\" hidden><div class=\"sk-item\"><div class=\"sk-estimator sk-toggleable\"><input class=\"sk-toggleable__control sk-hidden--visually\" id=\"sk-estimator-id-7\" type=\"checkbox\" checked><label for=\"sk-estimator-id-7\" class=\"sk-toggleable__label sk-toggleable__label-arrow\">KNeighborsClassifier</label><div class=\"sk-toggleable__content\"><pre>KNeighborsClassifier(n_jobs=8, n_neighbors=200, p=3, weights=&#x27;distance&#x27;)</pre></div></div></div></div></div>"
      ],
      "text/plain": [
       "KNeighborsClassifier(n_jobs=8, n_neighbors=200, p=3, weights='distance')"
      ]
     },
     "execution_count": 36,
     "metadata": {},
     "output_type": "execute_result"
    }
   ],
   "source": [
    "model_knn.fit(test_X, test_y)"
   ]
  },
  {
   "cell_type": "code",
   "execution_count": 37,
   "id": "3b483767",
   "metadata": {},
   "outputs": [],
   "source": [
    "preds_knn_train = model_knn.predict(train_X)"
   ]
  },
  {
   "cell_type": "markdown",
   "id": "be28d1d4",
   "metadata": {},
   "source": [
    "<a id='random_forest'></a>\n",
    "\n",
    "## Random Forest"
   ]
  },
  {
   "cell_type": "code",
   "execution_count": null,
   "id": "2c03efbe",
   "metadata": {},
   "outputs": [],
   "source": [
    "param_grid = {\n",
    "    'n_estimators': [25, 50, 100, 200],\n",
    "    'criterion': ['gini', 'entropy', 'log_loss'],\n",
    "    'max_features': ['sqrt', 'log2', None],\n",
    "    'max_depth': [50, 25, 10, 5]\n",
    "}\n",
    "grid = GridSearchCV(RandomForestClassifier(),param_grid,cv=2,refit=True,verbose=2,n_jobs=8,\n",
    "                    scoring='f1_weighted')\n",
    "grid.fit(train_X,train_y)"
   ]
  },
  {
   "cell_type": "code",
   "execution_count": 39,
   "id": "e05698ad",
   "metadata": {},
   "outputs": [
    {
     "name": "stdout",
     "output_type": "stream",
     "text": [
      "{'criterion': 'entropy', 'max_depth': 10, 'max_features': None, 'n_estimators': 200}\n"
     ]
    }
   ],
   "source": [
    "print(grid.best_params_)"
   ]
  },
  {
   "cell_type": "code",
   "execution_count": 40,
   "id": "25db87a5",
   "metadata": {},
   "outputs": [],
   "source": [
    "best_params = {'criterion': 'entropy', 'max_depth': 10, 'max_features': None, 'n_estimators': 200}"
   ]
  },
  {
   "cell_type": "code",
   "execution_count": 41,
   "id": "ac0733e3",
   "metadata": {},
   "outputs": [],
   "source": [
    "model_rfc = RandomForestClassifier(**best_params, n_jobs=8)"
   ]
  },
  {
   "cell_type": "code",
   "execution_count": 42,
   "id": "86edfbca",
   "metadata": {},
   "outputs": [
    {
     "name": "stdout",
     "output_type": "stream",
     "text": [
      "Accuracy:\n",
      "0.510551446366594\n",
      "\n",
      "Actual Target Dist\n",
      "Simple.Sleep.Code\n",
      "Active Waking    0.597775\n",
      "Drowsiness       0.034062\n",
      "Quiet Waking     0.123282\n",
      "REM              0.051898\n",
      "SWS              0.160428\n",
      "Unscorable       0.032554\n",
      "Name: proportion, dtype: float64\n",
      "\n",
      "Prediction Target Dist\n",
      "Active Waking    0.423803\n",
      "Drowsiness       0.259300\n",
      "Quiet Waking     0.048855\n",
      "REM              0.114718\n",
      "SWS              0.152054\n",
      "Unscorable       0.001270\n",
      "Name: proportion, dtype: float64\n",
      "\n"
     ]
    },
    {
     "data": {
      "text/html": [
       "<div>\n",
       "<style scoped>\n",
       "    .dataframe tbody tr th:only-of-type {\n",
       "        vertical-align: middle;\n",
       "    }\n",
       "\n",
       "    .dataframe tbody tr th {\n",
       "        vertical-align: top;\n",
       "    }\n",
       "\n",
       "    .dataframe thead th {\n",
       "        text-align: right;\n",
       "    }\n",
       "</style>\n",
       "<table border=\"1\" class=\"dataframe\">\n",
       "  <thead>\n",
       "    <tr style=\"text-align: right;\">\n",
       "      <th></th>\n",
       "      <th>Predicted_Active Waking</th>\n",
       "      <th>Predicted_Quiet Waking</th>\n",
       "      <th>Predicted_Drowsiness</th>\n",
       "      <th>Predicted_SWS</th>\n",
       "      <th>Predicted_REM</th>\n",
       "      <th>Predicted_Unscorable</th>\n",
       "    </tr>\n",
       "  </thead>\n",
       "  <tbody>\n",
       "    <tr>\n",
       "      <th>True_Active Waking</th>\n",
       "      <td>57137</td>\n",
       "      <td>14607</td>\n",
       "      <td>1955</td>\n",
       "      <td>3436</td>\n",
       "      <td>10754</td>\n",
       "      <td>122</td>\n",
       "    </tr>\n",
       "    <tr>\n",
       "      <th>True_Quiet Waking</th>\n",
       "      <td>518</td>\n",
       "      <td>2449</td>\n",
       "      <td>1019</td>\n",
       "      <td>492</td>\n",
       "      <td>537</td>\n",
       "      <td>0</td>\n",
       "    </tr>\n",
       "    <tr>\n",
       "      <th>True_Drowsiness</th>\n",
       "      <td>1007</td>\n",
       "      <td>6022</td>\n",
       "      <td>2239</td>\n",
       "      <td>8114</td>\n",
       "      <td>769</td>\n",
       "      <td>0</td>\n",
       "    </tr>\n",
       "    <tr>\n",
       "      <th>True_SWS</th>\n",
       "      <td>94</td>\n",
       "      <td>2190</td>\n",
       "      <td>1422</td>\n",
       "      <td>3751</td>\n",
       "      <td>184</td>\n",
       "      <td>0</td>\n",
       "    </tr>\n",
       "    <tr>\n",
       "      <th>True_REM</th>\n",
       "      <td>764</td>\n",
       "      <td>11918</td>\n",
       "      <td>556</td>\n",
       "      <td>854</td>\n",
       "      <td>9528</td>\n",
       "      <td>0</td>\n",
       "    </tr>\n",
       "    <tr>\n",
       "      <th>True_Unscorable</th>\n",
       "      <td>2877</td>\n",
       "      <td>991</td>\n",
       "      <td>2</td>\n",
       "      <td>243</td>\n",
       "      <td>615</td>\n",
       "      <td>65</td>\n",
       "    </tr>\n",
       "  </tbody>\n",
       "</table>\n",
       "</div>"
      ],
      "text/plain": [
       "                    Predicted_Active Waking  Predicted_Quiet Waking  \\\n",
       "True_Active Waking                    57137                   14607   \n",
       "True_Quiet Waking                       518                    2449   \n",
       "True_Drowsiness                        1007                    6022   \n",
       "True_SWS                                 94                    2190   \n",
       "True_REM                                764                   11918   \n",
       "True_Unscorable                        2877                     991   \n",
       "\n",
       "                    Predicted_Drowsiness  Predicted_SWS  Predicted_REM  \\\n",
       "True_Active Waking                  1955           3436          10754   \n",
       "True_Quiet Waking                   1019            492            537   \n",
       "True_Drowsiness                     2239           8114            769   \n",
       "True_SWS                            1422           3751            184   \n",
       "True_REM                             556            854           9528   \n",
       "True_Unscorable                        2            243            615   \n",
       "\n",
       "                    Predicted_Unscorable  \n",
       "True_Active Waking                   122  \n",
       "True_Quiet Waking                      0  \n",
       "True_Drowsiness                        0  \n",
       "True_SWS                               0  \n",
       "True_REM                               0  \n",
       "True_Unscorable                       65  "
      ]
     },
     "metadata": {},
     "output_type": "display_data"
    }
   ],
   "source": [
    "print_model_stats(model_rfc, model_train_data)"
   ]
  },
  {
   "cell_type": "code",
   "execution_count": 50,
   "id": "4b6f1b05",
   "metadata": {},
   "outputs": [
    {
     "data": {
      "text/html": [
       "<style>#sk-container-id-10 {color: black;background-color: white;}#sk-container-id-10 pre{padding: 0;}#sk-container-id-10 div.sk-toggleable {background-color: white;}#sk-container-id-10 label.sk-toggleable__label {cursor: pointer;display: block;width: 100%;margin-bottom: 0;padding: 0.3em;box-sizing: border-box;text-align: center;}#sk-container-id-10 label.sk-toggleable__label-arrow:before {content: \"▸\";float: left;margin-right: 0.25em;color: #696969;}#sk-container-id-10 label.sk-toggleable__label-arrow:hover:before {color: black;}#sk-container-id-10 div.sk-estimator:hover label.sk-toggleable__label-arrow:before {color: black;}#sk-container-id-10 div.sk-toggleable__content {max-height: 0;max-width: 0;overflow: hidden;text-align: left;background-color: #f0f8ff;}#sk-container-id-10 div.sk-toggleable__content pre {margin: 0.2em;color: black;border-radius: 0.25em;background-color: #f0f8ff;}#sk-container-id-10 input.sk-toggleable__control:checked~div.sk-toggleable__content {max-height: 200px;max-width: 100%;overflow: auto;}#sk-container-id-10 input.sk-toggleable__control:checked~label.sk-toggleable__label-arrow:before {content: \"▾\";}#sk-container-id-10 div.sk-estimator input.sk-toggleable__control:checked~label.sk-toggleable__label {background-color: #d4ebff;}#sk-container-id-10 div.sk-label input.sk-toggleable__control:checked~label.sk-toggleable__label {background-color: #d4ebff;}#sk-container-id-10 input.sk-hidden--visually {border: 0;clip: rect(1px 1px 1px 1px);clip: rect(1px, 1px, 1px, 1px);height: 1px;margin: -1px;overflow: hidden;padding: 0;position: absolute;width: 1px;}#sk-container-id-10 div.sk-estimator {font-family: monospace;background-color: #f0f8ff;border: 1px dotted black;border-radius: 0.25em;box-sizing: border-box;margin-bottom: 0.5em;}#sk-container-id-10 div.sk-estimator:hover {background-color: #d4ebff;}#sk-container-id-10 div.sk-parallel-item::after {content: \"\";width: 100%;border-bottom: 1px solid gray;flex-grow: 1;}#sk-container-id-10 div.sk-label:hover label.sk-toggleable__label {background-color: #d4ebff;}#sk-container-id-10 div.sk-serial::before {content: \"\";position: absolute;border-left: 1px solid gray;box-sizing: border-box;top: 0;bottom: 0;left: 50%;z-index: 0;}#sk-container-id-10 div.sk-serial {display: flex;flex-direction: column;align-items: center;background-color: white;padding-right: 0.2em;padding-left: 0.2em;position: relative;}#sk-container-id-10 div.sk-item {position: relative;z-index: 1;}#sk-container-id-10 div.sk-parallel {display: flex;align-items: stretch;justify-content: center;background-color: white;position: relative;}#sk-container-id-10 div.sk-item::before, #sk-container-id-10 div.sk-parallel-item::before {content: \"\";position: absolute;border-left: 1px solid gray;box-sizing: border-box;top: 0;bottom: 0;left: 50%;z-index: -1;}#sk-container-id-10 div.sk-parallel-item {display: flex;flex-direction: column;z-index: 1;position: relative;background-color: white;}#sk-container-id-10 div.sk-parallel-item:first-child::after {align-self: flex-end;width: 50%;}#sk-container-id-10 div.sk-parallel-item:last-child::after {align-self: flex-start;width: 50%;}#sk-container-id-10 div.sk-parallel-item:only-child::after {width: 0;}#sk-container-id-10 div.sk-dashed-wrapped {border: 1px dashed gray;margin: 0 0.4em 0.5em 0.4em;box-sizing: border-box;padding-bottom: 0.4em;background-color: white;}#sk-container-id-10 div.sk-label label {font-family: monospace;font-weight: bold;display: inline-block;line-height: 1.2em;}#sk-container-id-10 div.sk-label-container {text-align: center;}#sk-container-id-10 div.sk-container {/* jupyter's `normalize.less` sets `[hidden] { display: none; }` but bootstrap.min.css set `[hidden] { display: none !important; }` so we also need the `!important` here to be able to override the default hidden behavior on the sphinx rendered scikit-learn.org. See: https://github.com/scikit-learn/scikit-learn/issues/21755 */display: inline-block !important;position: relative;}#sk-container-id-10 div.sk-text-repr-fallback {display: none;}</style><div id=\"sk-container-id-10\" class=\"sk-top-container\"><div class=\"sk-text-repr-fallback\"><pre>RandomForestClassifier(criterion=&#x27;entropy&#x27;, max_depth=10, max_features=None,\n",
       "                       n_estimators=200, n_jobs=8)</pre><b>In a Jupyter environment, please rerun this cell to show the HTML representation or trust the notebook. <br />On GitHub, the HTML representation is unable to render, please try loading this page with nbviewer.org.</b></div><div class=\"sk-container\" hidden><div class=\"sk-item\"><div class=\"sk-estimator sk-toggleable\"><input class=\"sk-toggleable__control sk-hidden--visually\" id=\"sk-estimator-id-14\" type=\"checkbox\" checked><label for=\"sk-estimator-id-14\" class=\"sk-toggleable__label sk-toggleable__label-arrow\">RandomForestClassifier</label><div class=\"sk-toggleable__content\"><pre>RandomForestClassifier(criterion=&#x27;entropy&#x27;, max_depth=10, max_features=None,\n",
       "                       n_estimators=200, n_jobs=8)</pre></div></div></div></div></div>"
      ],
      "text/plain": [
       "RandomForestClassifier(criterion='entropy', max_depth=10, max_features=None,\n",
       "                       n_estimators=200, n_jobs=8)"
      ]
     },
     "execution_count": 50,
     "metadata": {},
     "output_type": "execute_result"
    }
   ],
   "source": [
    "model_rfc.fit(train_X, train_y)"
   ]
  },
  {
   "cell_type": "code",
   "execution_count": 51,
   "id": "6cd1f306",
   "metadata": {},
   "outputs": [],
   "source": [
    "preds_rfc_test = model_rfc.predict(test_X)"
   ]
  },
  {
   "cell_type": "code",
   "execution_count": 52,
   "id": "cf8aaa83",
   "metadata": {},
   "outputs": [
    {
     "data": {
      "text/html": [
       "<style>#sk-container-id-11 {color: black;background-color: white;}#sk-container-id-11 pre{padding: 0;}#sk-container-id-11 div.sk-toggleable {background-color: white;}#sk-container-id-11 label.sk-toggleable__label {cursor: pointer;display: block;width: 100%;margin-bottom: 0;padding: 0.3em;box-sizing: border-box;text-align: center;}#sk-container-id-11 label.sk-toggleable__label-arrow:before {content: \"▸\";float: left;margin-right: 0.25em;color: #696969;}#sk-container-id-11 label.sk-toggleable__label-arrow:hover:before {color: black;}#sk-container-id-11 div.sk-estimator:hover label.sk-toggleable__label-arrow:before {color: black;}#sk-container-id-11 div.sk-toggleable__content {max-height: 0;max-width: 0;overflow: hidden;text-align: left;background-color: #f0f8ff;}#sk-container-id-11 div.sk-toggleable__content pre {margin: 0.2em;color: black;border-radius: 0.25em;background-color: #f0f8ff;}#sk-container-id-11 input.sk-toggleable__control:checked~div.sk-toggleable__content {max-height: 200px;max-width: 100%;overflow: auto;}#sk-container-id-11 input.sk-toggleable__control:checked~label.sk-toggleable__label-arrow:before {content: \"▾\";}#sk-container-id-11 div.sk-estimator input.sk-toggleable__control:checked~label.sk-toggleable__label {background-color: #d4ebff;}#sk-container-id-11 div.sk-label input.sk-toggleable__control:checked~label.sk-toggleable__label {background-color: #d4ebff;}#sk-container-id-11 input.sk-hidden--visually {border: 0;clip: rect(1px 1px 1px 1px);clip: rect(1px, 1px, 1px, 1px);height: 1px;margin: -1px;overflow: hidden;padding: 0;position: absolute;width: 1px;}#sk-container-id-11 div.sk-estimator {font-family: monospace;background-color: #f0f8ff;border: 1px dotted black;border-radius: 0.25em;box-sizing: border-box;margin-bottom: 0.5em;}#sk-container-id-11 div.sk-estimator:hover {background-color: #d4ebff;}#sk-container-id-11 div.sk-parallel-item::after {content: \"\";width: 100%;border-bottom: 1px solid gray;flex-grow: 1;}#sk-container-id-11 div.sk-label:hover label.sk-toggleable__label {background-color: #d4ebff;}#sk-container-id-11 div.sk-serial::before {content: \"\";position: absolute;border-left: 1px solid gray;box-sizing: border-box;top: 0;bottom: 0;left: 50%;z-index: 0;}#sk-container-id-11 div.sk-serial {display: flex;flex-direction: column;align-items: center;background-color: white;padding-right: 0.2em;padding-left: 0.2em;position: relative;}#sk-container-id-11 div.sk-item {position: relative;z-index: 1;}#sk-container-id-11 div.sk-parallel {display: flex;align-items: stretch;justify-content: center;background-color: white;position: relative;}#sk-container-id-11 div.sk-item::before, #sk-container-id-11 div.sk-parallel-item::before {content: \"\";position: absolute;border-left: 1px solid gray;box-sizing: border-box;top: 0;bottom: 0;left: 50%;z-index: -1;}#sk-container-id-11 div.sk-parallel-item {display: flex;flex-direction: column;z-index: 1;position: relative;background-color: white;}#sk-container-id-11 div.sk-parallel-item:first-child::after {align-self: flex-end;width: 50%;}#sk-container-id-11 div.sk-parallel-item:last-child::after {align-self: flex-start;width: 50%;}#sk-container-id-11 div.sk-parallel-item:only-child::after {width: 0;}#sk-container-id-11 div.sk-dashed-wrapped {border: 1px dashed gray;margin: 0 0.4em 0.5em 0.4em;box-sizing: border-box;padding-bottom: 0.4em;background-color: white;}#sk-container-id-11 div.sk-label label {font-family: monospace;font-weight: bold;display: inline-block;line-height: 1.2em;}#sk-container-id-11 div.sk-label-container {text-align: center;}#sk-container-id-11 div.sk-container {/* jupyter's `normalize.less` sets `[hidden] { display: none; }` but bootstrap.min.css set `[hidden] { display: none !important; }` so we also need the `!important` here to be able to override the default hidden behavior on the sphinx rendered scikit-learn.org. See: https://github.com/scikit-learn/scikit-learn/issues/21755 */display: inline-block !important;position: relative;}#sk-container-id-11 div.sk-text-repr-fallback {display: none;}</style><div id=\"sk-container-id-11\" class=\"sk-top-container\"><div class=\"sk-text-repr-fallback\"><pre>RandomForestClassifier(criterion=&#x27;entropy&#x27;, max_depth=10, max_features=None,\n",
       "                       n_estimators=200, n_jobs=8)</pre><b>In a Jupyter environment, please rerun this cell to show the HTML representation or trust the notebook. <br />On GitHub, the HTML representation is unable to render, please try loading this page with nbviewer.org.</b></div><div class=\"sk-container\" hidden><div class=\"sk-item\"><div class=\"sk-estimator sk-toggleable\"><input class=\"sk-toggleable__control sk-hidden--visually\" id=\"sk-estimator-id-15\" type=\"checkbox\" checked><label for=\"sk-estimator-id-15\" class=\"sk-toggleable__label sk-toggleable__label-arrow\">RandomForestClassifier</label><div class=\"sk-toggleable__content\"><pre>RandomForestClassifier(criterion=&#x27;entropy&#x27;, max_depth=10, max_features=None,\n",
       "                       n_estimators=200, n_jobs=8)</pre></div></div></div></div></div>"
      ],
      "text/plain": [
       "RandomForestClassifier(criterion='entropy', max_depth=10, max_features=None,\n",
       "                       n_estimators=200, n_jobs=8)"
      ]
     },
     "execution_count": 52,
     "metadata": {},
     "output_type": "execute_result"
    }
   ],
   "source": [
    "model_rfc.fit(test_X, test_y)"
   ]
  },
  {
   "cell_type": "code",
   "execution_count": 53,
   "id": "526e83ed",
   "metadata": {},
   "outputs": [],
   "source": [
    "preds_rfc_train = model_rfc.predict(train_X)"
   ]
  },
  {
   "cell_type": "markdown",
   "id": "1c72ecca",
   "metadata": {},
   "source": [
    "#### save model results"
   ]
  },
  {
   "cell_type": "code",
   "execution_count": 54,
   "id": "83f43c62",
   "metadata": {},
   "outputs": [],
   "source": [
    "features_v1_with_preds = model_train_data.copy()\n",
    "features_v1_with_preds['SVC Predictions'] = np.concatenate([preds_svc_train, preds_svc_test])\n",
    "features_v1_with_preds['KNN Predictions'] = np.concatenate([preds_knn_train, preds_knn_test])\n",
    "features_v1_with_preds['RFC Predictions'] = np.concatenate([preds_rfc_train, preds_rfc_test])\n",
    "features_v1_with_preds.to_csv('../data/processed/v1_features/Wednesday_features_v1_with_predictions.csv')"
   ]
  },
  {
   "cell_type": "markdown",
   "id": "7c18d855",
   "metadata": {},
   "source": [
    "<a id='light_gbm'></a>\n",
    "# LightGBM\n",
    "added later, but used for reference to see how lightgbm model performs with v1 features"
   ]
  },
  {
   "cell_type": "code",
   "execution_count": 55,
   "id": "871f77a0",
   "metadata": {},
   "outputs": [],
   "source": [
    "from lightgbm import LGBMClassifier\n",
    "best_params = {'learning_rate': 0.005, 'n_estimators': 400, 'num_leaves': 10}"
   ]
  },
  {
   "cell_type": "code",
   "execution_count": 58,
   "id": "8bbe5437",
   "metadata": {},
   "outputs": [
    {
     "name": "stdout",
     "output_type": "stream",
     "text": [
      "Fold 1/5\n",
      "[LightGBM] [Warning] Found whitespace in feature_names, replace with underlines\n",
      "[LightGBM] [Info] Auto-choosing row-wise multi-threading, the overhead of testing was 0.001113 seconds.\n",
      "You can set `force_row_wise=true` to remove the overhead.\n",
      "And if memory is not enough, you can set `force_col_wise=true`.\n",
      "[LightGBM] [Info] Total Bins 2040\n",
      "[LightGBM] [Info] Number of data points in the train set: 229393, number of used features: 8\n",
      "[LightGBM] [Info] Start training from score -0.679246\n",
      "[LightGBM] [Info] Start training from score -2.568106\n",
      "[LightGBM] [Info] Start training from score -1.951830\n",
      "[LightGBM] [Info] Start training from score -2.314085\n",
      "[LightGBM] [Info] Start training from score -1.740401\n",
      "Fold 2/5\n",
      "[LightGBM] [Warning] Found whitespace in feature_names, replace with underlines\n",
      "[LightGBM] [Info] Auto-choosing row-wise multi-threading, the overhead of testing was 0.000635 seconds.\n",
      "You can set `force_row_wise=true` to remove the overhead.\n",
      "And if memory is not enough, you can set `force_col_wise=true`.\n",
      "[LightGBM] [Info] Total Bins 2040\n",
      "[LightGBM] [Info] Number of data points in the train set: 230004, number of used features: 8\n",
      "[LightGBM] [Info] Start training from score -0.690342\n",
      "[LightGBM] [Info] Start training from score -2.805776\n",
      "[LightGBM] [Info] Start training from score -1.969023\n",
      "[LightGBM] [Info] Start training from score -2.354720\n",
      "[LightGBM] [Info] Start training from score -1.591487\n",
      "Fold 3/5\n",
      "[LightGBM] [Warning] Found whitespace in feature_names, replace with underlines\n",
      "[LightGBM] [Info] Auto-choosing row-wise multi-threading, the overhead of testing was 0.000633 seconds.\n",
      "You can set `force_row_wise=true` to remove the overhead.\n",
      "And if memory is not enough, you can set `force_col_wise=true`.\n",
      "[LightGBM] [Info] Total Bins 2040\n",
      "[LightGBM] [Info] Number of data points in the train set: 230394, number of used features: 8\n",
      "[LightGBM] [Info] Start training from score -0.718849\n",
      "[LightGBM] [Info] Start training from score -2.849624\n",
      "[LightGBM] [Info] Start training from score -1.941467\n",
      "[LightGBM] [Info] Start training from score -2.276808\n",
      "[LightGBM] [Info] Start training from score -1.566779\n",
      "Fold 4/5\n",
      "[LightGBM] [Warning] Found whitespace in feature_names, replace with underlines\n",
      "[LightGBM] [Info] Auto-choosing row-wise multi-threading, the overhead of testing was 0.000682 seconds.\n",
      "You can set `force_row_wise=true` to remove the overhead.\n",
      "And if memory is not enough, you can set `force_col_wise=true`.\n",
      "[LightGBM] [Info] Total Bins 2040\n",
      "[LightGBM] [Info] Number of data points in the train set: 232167, number of used features: 8\n",
      "[LightGBM] [Info] Start training from score -0.898688\n",
      "[LightGBM] [Info] Start training from score -2.348807\n",
      "[LightGBM] [Info] Start training from score -1.854400\n",
      "[LightGBM] [Info] Start training from score -2.076959\n",
      "[LightGBM] [Info] Start training from score -1.534534\n",
      "Fold 5/5\n",
      "[LightGBM] [Warning] Found whitespace in feature_names, replace with underlines\n",
      "[LightGBM] [Info] Auto-choosing row-wise multi-threading, the overhead of testing was 0.000655 seconds.\n",
      "You can set `force_row_wise=true` to remove the overhead.\n",
      "And if memory is not enough, you can set `force_col_wise=true`.\n",
      "[LightGBM] [Info] Total Bins 2040\n",
      "[LightGBM] [Info] Number of data points in the train set: 230074, number of used features: 8\n",
      "[LightGBM] [Info] Start training from score -0.849492\n",
      "[LightGBM] [Info] Start training from score -2.332380\n",
      "[LightGBM] [Info] Start training from score -1.890653\n",
      "[LightGBM] [Info] Start training from score -2.101458\n",
      "[LightGBM] [Info] Start training from score -1.599228\n",
      "Overall accuracy: 65.42%\n",
      "Mean class accuracies across folds:\n",
      "Active Waking    83.08\n",
      "Drowsiness       23.22\n",
      "Quiet Waking     52.17\n",
      "REM              52.50\n",
      "SWS              61.83\n",
      "Unscorable        0.00\n",
      "dtype: float64\n"
     ]
    }
   ],
   "source": [
    "from sklearn.model_selection import KFold\n",
    "from sklearn.metrics import accuracy_score\n",
    "\n",
    "# Initialize k-fold\n",
    "n_splits = 5  # Define the number of splits for k-fold\n",
    "skf = KFold(n_splits=n_splits, shuffle=False)\n",
    "\n",
    "# Initialize arrays to store accuracies\n",
    "class_accuracies = []\n",
    "overall_accuracies = []\n",
    "\n",
    "X, y = model_train_data.drop('Simple.Sleep.Code', axis=1), model_train_data['Simple.Sleep.Code']\n",
    "kfold_preds = []\n",
    "# Perform k-fold cross-validation\n",
    "for fold, (train_index, val_index) in enumerate(skf.split(X, y)):\n",
    "    print(f'Fold {fold + 1}/{n_splits}')\n",
    "    kmodel = LGBMClassifier(**best_params, n_jobs=8)\n",
    "    \n",
    "    X_tr, X_val = X.iloc[train_index], X.iloc[val_index]\n",
    "    y_tr, y_val = y.iloc[train_index], y.iloc[val_index]\n",
    "    \n",
    "    # Train the model without unscorable so we can see what it predicts it as\n",
    "    train_filter = y_tr != 'Unscorable'\n",
    "    X_tr, y_tr = X_tr.loc[train_filter], y_tr.loc[train_filter]\n",
    "    \n",
    "    # Train the model\n",
    "    kmodel.fit(X_tr, y_tr)\n",
    "    \n",
    "    # Predict on validation set\n",
    "    y_pred = pd.Series(kmodel.predict(X_val), index=y_val.index)\n",
    "    kfold_preds.append(y_pred)\n",
    "\n",
    "    # Calculate accuracy per class\n",
    "    class_accuracy = []\n",
    "    for class_label in np.sort(np.unique(y_val)):\n",
    "        class_accuracy.append(np.sum((y_pred == y_val) & (y_val == class_label)) / \n",
    "                              np.sum(y_val == class_label))\n",
    "\n",
    "    class_accuracies.append(pd.Series(class_accuracy, index=np.unique(y_val)))\n",
    "    overall_accuracies.append(np.mean(y_pred == y_val))\n",
    "\n",
    "# Calculate mean accuracy per class across folds\n",
    "mean_class_accuracies = pd.concat(class_accuracies, axis=1).mean(axis=1).round(4) * 100\n",
    "print(\"Overall accuracy: \", round(np.mean(overall_accuracies) * 100, 2), '%', sep='')\n",
    "print(\"Mean class accuracies across folds:\")\n",
    "print(mean_class_accuracies)\n"
   ]
  },
  {
   "cell_type": "code",
   "execution_count": null,
   "id": "4d432535",
   "metadata": {},
   "outputs": [],
   "source": []
  }
 ],
 "metadata": {
  "kernelspec": {
   "display_name": "Python 3 (ipykernel)",
   "language": "python",
   "name": "python3"
  },
  "language_info": {
   "codemirror_mode": {
    "name": "ipython",
    "version": 3
   },
   "file_extension": ".py",
   "mimetype": "text/x-python",
   "name": "python",
   "nbconvert_exporter": "python",
   "pygments_lexer": "ipython3",
   "version": "3.10.9"
  }
 },
 "nbformat": 4,
 "nbformat_minor": 5
}
